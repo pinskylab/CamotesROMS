{
 "cells": [
  {
   "cell_type": "markdown",
   "metadata": {},
   "source": [
    "## code to take the .dms file from Liz with ROMS model vertices, and identify in which ROMS vertices our sites lay."
   ]
  },
  {
   "cell_type": "code",
   "execution_count": null,
   "metadata": {},
   "outputs": [],
   "source": [
    "######03/08/2018 code to identify sites in ROMS model vertices list from Liz Drenkard\n"
   ]
  },
  {
   "cell_type": "code",
   "execution_count": 1,
   "metadata": {},
   "outputs": [
    {
     "ename": "ERROR",
     "evalue": "Error in FUN(X[[i]], ...): there is no package called ‘rgdal’\n",
     "output_type": "error",
     "traceback": [
      "Error in FUN(X[[i]], ...): there is no package called ‘rgdal’\nTraceback:\n",
      "1. suppressPackageStartupMessages(lapply(Packages, library, character.only = TRUE))",
      "2. withCallingHandlers(expr, packageStartupMessage = function(c) invokeRestart(\"muffleMessage\"))",
      "3. lapply(Packages, library, character.only = TRUE)",
      "4. FUN(X[[i]], ...)",
      "5. stop(txt, domain = NA)"
     ]
    }
   ],
   "source": [
    "Packages <- c(\"dplyr\", \"ggplot2\",\"tidyr\", \"rgdal\",\"stringr\", \"reshape2\", \"splitstackshape\", \"readr\", \"adegenet\", \"pegas\", \"poppr\", \"ade4\", \"dplyr\", \"tidyr\", \"stringr\", \"tidyverse\", \"tibble\", \"ggfortify\", \"lubridate\", \"RColorBrewer\", \"vegan\", \"vcfR\")\n",
    "\n",
    "invisible(suppressPackageStartupMessages(lapply(Packages, library, character.only = TRUE)))"
   ]
  },
  {
   "cell_type": "code",
   "execution_count": null,
   "metadata": {},
   "outputs": [],
   "source": [
    "setwd(\"")\n"
   ]
  },
  {
   "cell_type": "code",
   "execution_count": 29,
   "metadata": {},
   "outputs": [
    {
     "name": "stderr",
     "output_type": "stream",
     "text": [
      "Warning message in install.packages(\"rgdal\", repos = \"http://cran.rstudio.com/\"):\n",
      "“installation of package ‘rgdal’ had non-zero exit status”Updating HTML index of packages in '.Library'\n",
      "Making 'packages.html' ... done\n"
     ]
    }
   ],
   "source": [
    "install.packages('rgdal', repos='http://cran.rstudio.com/' )"
   ]
  },
  {
   "cell_type": "code",
   "execution_count": 3,
   "metadata": {},
   "outputs": [],
   "source": [
    "###read txt file with ROMS vertices\n",
    "vertices <- read.table(\"ROMS/input/Camotes_Sea_ROMS_Seeded_Grid_Vertices.txt\", header=FALSE, sep=\" \")\n"
   ]
  },
  {
   "cell_type": "code",
   "execution_count": 6,
   "metadata": {},
   "outputs": [
    {
     "data": {
      "text/html": [
       "<ol class=list-inline>\n",
       "\t<li>4833</li>\n",
       "\t<li>9</li>\n",
       "</ol>\n"
      ],
      "text/latex": [
       "\\begin{enumerate*}\n",
       "\\item 4833\n",
       "\\item 9\n",
       "\\end{enumerate*}\n"
      ],
      "text/markdown": [
       "1. 4833\n",
       "2. 9\n",
       "\n",
       "\n"
      ],
      "text/plain": [
       "[1] 4833    9"
      ]
     },
     "metadata": {},
     "output_type": "display_data"
    }
   ],
   "source": [
    "#label rows and columns so I can find which match site domains.\n",
    "dim(vertices)\n",
    "rows <- c(seq(from =1, to=4833, by=1))\n",
    "cols <- c(\"one_lon\", \"two_lon\", \"three_lon\", \"four_lon\", \"one_lat\", \"two_lat\", \"three_lat\", \"four_lat\", \"id_number\")\n",
    "vertices$id_number <- NA\n",
    "vertices$id_number <- rows\n",
    "colnames(vertices) <- cols\n"
   ]
  },
  {
   "cell_type": "code",
   "execution_count": 7,
   "metadata": {},
   "outputs": [],
   "source": [
    "#now trim the vertices to get rid of points outside of the sites\n",
    "test <- vertices %>% filter(one_lon <=124.81000 & one_lon >=124.70000) %>% filter(one_lat <=10.8900 & one_lat >=10.6200)\n",
    "test2 <- test %>% filter(two_lon <=124.81000 & two_lon >=124.70000) %>% filter(two_lat <=10.8900 & two_lat >=10.6200)\n",
    "test3 <- test2 %>% filter(three_lon <=124.81000 & three_lon >=124.70000) %>% filter(three_lat <=10.8900 & three_lat >=10.6200)\n",
    "test4 <- test3 %>% filter(four_lon <=124.81000 & four_lon >=124.70000) %>% filter(four_lat <=10.8900 & four_lat >=10.6200)\n",
    "\n"
   ]
  },
  {
   "cell_type": "code",
   "execution_count": 8,
   "metadata": {},
   "outputs": [],
   "source": [
    "tidy_vertices <- gather(test4, \"id_lon\", \"lon\", 1:4)\n",
    "tidy_vertices2 <- gather(tidy_vertices, \"id_lat\", \"lat\", 1:4)\n"
   ]
  },
  {
   "cell_type": "code",
   "execution_count": 9,
   "metadata": {},
   "outputs": [
    {
     "name": "stderr",
     "output_type": "stream",
     "text": [
      "Warning message in write.csv(no_rep, \"camotes_vertices_sites_SEEDED_water.csv\", :\n",
      "“attempt to set 'col.names' ignored”"
     ]
    }
   ],
   "source": [
    "#arrange by id number, ID of grid cell in text file and take the 1st, 6th, 11th, and 16th rows to get the matching coordinates. should be four lat/lon rows (four corners) for each row number\n",
    "tidy_vertices2$id_number <- as.factor(tidy_vertices2$id_number)\n",
    "target <- c(1, 6, 11, 16)\n",
    "no_rep <- tidy_vertices2 %>% group_by(id_number) %>% arrange(id_number) %>% filter(row_number(id_number) %in% target)\n",
    "\n",
    "write.csv(no_rep, \"camotes_vertices_sites_SEEDED_water.csv\", row.names=FALSE, col.names=TRUE, quote=FALSE)\n",
    "\n"
   ]
  },
  {
   "cell_type": "code",
   "execution_count": 9,
   "metadata": {},
   "outputs": [],
   "source": [
    "#read in row id numbers from QGIS visual survey to get vertice points\n",
    "results <- read.table(file=\"camotes_site_vertices_water.txt\", header=TRUE)\n",
    "\n",
    "site_vertices <- inner_join(results, vertices, by=\"id_number\")\n",
    "write.table(site_vertices, \"camotes_vertices_sites_results.txt\", row.names=FALSE, col.names=TRUE, quote=FALSE)\n"
   ]
  },
  {
   "cell_type": "code",
   "execution_count": null,
   "metadata": {},
   "outputs": [],
   "source": [
    "#make a text file with near north and near south site points \n",
    "test <- vertices %>% filter(one_lon <=124.81000 & one_lon >=124.60000) %>% filter(one_lat <=10.6330 | one_lat >=10.8700)\n",
    "test2 <- test %>% filter(two_lon <=124.81000 & two_lon >=124.60000) %>% filter(two_lat <=10.6330  | two_lat >=10.8700)\n",
    "test3 <- test2 %>% filter(three_lon <=124.81000 & three_lon >=124.60000) %>% filter(three_lat <=10.6330 | three_lat >=10.8700)\n",
    "test4 <- test3 %>% filter(four_lon <=124.81000 & four_lon >=124.60000) %>% filter(four_lat <=10.6330 | four_lat >=10.8700)\n",
    "\n",
    "tidy_vertices <- gather(test4, \"id_lon\", \"lon\", 1:4)\n",
    "tidy_vertices2 <- gather(tidy_vertices, \"id_lat\", \"lat\", 1:4)\n"
   ]
  },
  {
   "cell_type": "code",
   "execution_count": null,
   "metadata": {},
   "outputs": [],
   "source": [
    "#arrange by id number, ID of grid cell in text file and take the 1st, 6th, 11th, and 16th rows to get the matching coordinates. should be four lat/lon rows (four corners) for each row number\n",
    "tidy_vertices <- gather(test4, \"id_lon\", \"lon\", 1:4)\n",
    "tidy_vertices2 <- gather(tidy_vertices, \"id_lat\", \"lat\", 1:4)\n",
    "\n",
    "tidy_vertices2$id_number <- as.factor(tidy_vertices2$id_number)\n",
    "target <- c(1, 6, 11, 16)\n",
    "no_rep <- tidy_vertices2 %>% group_by(id_number) %>% arrange(id_number) %>% filter(row_number(id_number) %in% target)\n",
    "\n",
    "write.csv(no_rep, \"camotes_vertices_nearby_sites.csv\", row.names=FALSE, col.names=TRUE, quote=FALSE)\n"
   ]
  },
  {
   "cell_type": "code",
   "execution_count": null,
   "metadata": {},
   "outputs": [],
   "source": [
    "#just all vertices\n",
    "tidy_vertices <- gather(vertices, \"id_lon\", \"lon\", 1:4)\n",
    "tidy_vertices2 <- gather(tidy_vertices, \"id_lat\", \"lat\", 1:4)\n",
    "\n",
    "tidy_vertices2$id_number <- as.factor(tidy_vertices2$id_number)\n",
    "target <- c(1, 6, 11, 16)\n",
    "no_rep <- tidy_vertices2 %>% group_by(id_number) %>% arrange(id_number) %>% filter(row_number(id_number) %in% target)\n",
    "\n",
    "write.csv(no_rep, \"camotes_vertices_all.csv\", row.names=FALSE, col.names=TRUE, quote=FALSE)\n"
   ]
  },
  {
   "cell_type": "code",
   "execution_count": null,
   "metadata": {},
   "outputs": [],
   "source": [
    "####make a csv for camotes or cuatro islas\n",
    "\n",
    "#read in row id numbers from QGIS visual survey to get vertice points\n",
    "camotes <- read.table(file=\"cuatro_islas.txt\", header=TRUE)\n",
    "\n",
    "site_vertices_camotes <- inner_join(camotes, vertices, by=\"id_number\")\n",
    "site_vertices_camotes<- distinct(site_vertices_camotes)\n",
    "write.table(site_vertices_camotes, \"cuatro_islas_results.txt\", row.names=FALSE, col.names=TRUE, quote=FALSE)\n"
   ]
  },
  {
   "cell_type": "code",
   "execution_count": null,
   "metadata": {},
   "outputs": [],
   "source": [
    "#make csv to read in and check the vertices\n",
    "\n",
    "tidy_vertices <- gather(site_vertices_camotes, \"id_lon\", \"lon\", 2:5)\n",
    "tidy_vertices2 <- gather(tidy_vertices, \"id_lat\", \"lat\", 2:5)\n",
    "\n",
    "tidy_vertices2$id_number <- as.factor(tidy_vertices2$id_number)\n",
    "target <- c(1, 6, 11, 16)\n",
    "no_rep_islas <- tidy_vertices2 %>% group_by(id_number) %>% arrange(id_number) %>% filter(row_number(id_number) %in% target)\n",
    "\n",
    "write.csv(no_rep_islas, \"cuatro_islas_results.csv\", row.names=FALSE, col.names=TRUE, quote=FALSE)\n",
    "\n"
   ]
  },
  {
   "cell_type": "code",
   "execution_count": null,
   "metadata": {},
   "outputs": [],
   "source": [
    "####make a csv for all \n",
    "\n",
    "#read in row id numbers from QGIS visual survey to get vertice points\n",
    "results2 <- read.table(file=\"camotes_nearby_sites.txt\", header=TRUE)\n",
    "\n",
    "site_vertices_all <- inner_join(results2, vertices, by=\"id_number\")\n",
    "write.table(site_vertices_all, \"camotes_nearby_sites_results.txt\", row.names=FALSE, col.names=TRUE, quote=FALSE)\n",
    "\n",
    "\n"
   ]
  },
  {
   "cell_type": "code",
   "execution_count": null,
   "metadata": {},
   "outputs": [],
   "source": [
    "#make csv to read in and check the vertices\n",
    "all_results <- bind_rows(site_vertices, site_vertices_all)\n",
    "\n",
    "tidy_vertices <- gather(all_results, \"id_lon\", \"lon\", 3:6)\n",
    "tidy_vertices2 <- gather(tidy_vertices, \"id_lat\", \"lat\", 3:6)\n",
    "\n",
    "tidy_vertices2$id_number <- as.factor(tidy_vertices2$id_number)\n",
    "target <- c(1, 6, 11, 16)\n",
    "no_rep_all <- tidy_vertices2 %>% group_by(id_number) %>% arrange(id_number) %>% filter(row_number(id_number) %in% target)\n",
    "\n",
    "write.csv(no_rep_all, \"camotes_vertices_all.csv\", row.names=FALSE, col.names=TRUE, quote=FALSE)\n",
    "\n"
   ]
  },
  {
   "cell_type": "code",
   "execution_count": null,
   "metadata": {},
   "outputs": [],
   "source": [
    "####UNNECESSARY######\n",
    "#now load in site maps\n",
    "map_sites <- readOGR(\"site_hulls\", \"site_hulls\")\n",
    "map_names <- readOGR(\"site_names\", \"Sitenames\")\n",
    "\n",
    "par(new=TRUE)\n",
    "plot(map_sites)\n",
    "par(new=TRUE)\n",
    "plot(map_names)\n",
    "points(vertices)\n",
    "text(edits$lon, edits$lat, labels=edits$site, col=\"black\", cex=.7, offset=1.8, pos=4)\n",
    "\n"
   ]
  },
  {
   "cell_type": "markdown",
   "metadata": {},
   "source": [
    "### Code above is from when I identified vertices in March 2018. Now I need to go back because some of those were actually land points. Below, code reads in the previous vertices, and the new vertices. Then filters for which vertices are in the original (including land) and not in the water file. So, points I could have misidentified as water rather than land as they are. Then I will load this into QGIS and redo those sites."
   ]
  },
  {
   "cell_type": "code",
   "execution_count": 9,
   "metadata": {},
   "outputs": [],
   "source": [
    "# read in the vertice IDs that I found before. Find the vertices that don't show up in the new water file.\n",
    "site_id_land <- read.table(\"ROMS/input/camotes_vertices_sites_results.txt\", header=TRUE)"
   ]
  },
  {
   "cell_type": "code",
   "execution_count": 8,
   "metadata": {},
   "outputs": [],
   "source": [
    "# read in new water vertices \n",
    "site_vertices_water_only <- read.table(\"ROMS/input/Camotes_Sea_ROMS_water_Grid_Vertices.txt\", header=FALSE)"
   ]
  },
  {
   "cell_type": "code",
   "execution_count": 14,
   "metadata": {},
   "outputs": [],
   "source": [
    "# add col names \n",
    "cols <- c(\"one_lon\", \"two_lon\", \"three_lon\", \"four_lon\", \"one_lat\", \"two_lat\", \"three_lat\", \"four_lat\")\n",
    "colnames(site_vertices_water_only) <- cols"
   ]
  },
  {
   "cell_type": "code",
   "execution_count": 15,
   "metadata": {},
   "outputs": [],
   "source": [
    "# anti join to get points identified as sites that were actually land -- then go back to QGIS and re-do ID\n",
    "on_land <- anti_join(site_id_land, site_vertices_water_only, by=c(\"one_lon\", \"two_lon\", \"three_lon\", \"four_lon\", \"one_lat\", \"two_lat\", \"three_lat\", \"four_lat\"))"
   ]
  },
  {
   "cell_type": "code",
   "execution_count": 20,
   "metadata": {},
   "outputs": [
    {
     "data": {
      "text/html": [
       "<ol class=list-inline>\n",
       "\t<li>23</li>\n",
       "\t<li>10</li>\n",
       "</ol>\n"
      ],
      "text/latex": [
       "\\begin{enumerate*}\n",
       "\\item 23\n",
       "\\item 10\n",
       "\\end{enumerate*}\n"
      ],
      "text/markdown": [
       "1. 23\n",
       "2. 10\n",
       "\n",
       "\n"
      ],
      "text/plain": [
       "[1] 23 10"
      ]
     },
     "metadata": {},
     "output_type": "display_data"
    },
    {
     "data": {
      "text/html": [
       "<ol class=list-inline>\n",
       "\t<li>23</li>\n",
       "\t<li>10</li>\n",
       "</ol>\n"
      ],
      "text/latex": [
       "\\begin{enumerate*}\n",
       "\\item 23\n",
       "\\item 10\n",
       "\\end{enumerate*}\n"
      ],
      "text/markdown": [
       "1. 23\n",
       "2. 10\n",
       "\n",
       "\n"
      ],
      "text/plain": [
       "[1] 23 10"
      ]
     },
     "metadata": {},
     "output_type": "display_data"
    }
   ],
   "source": [
    "dim(on_land)\n",
    "dim(site_id_land)"
   ]
  },
  {
   "cell_type": "markdown",
   "metadata": {},
   "source": [
    "### bummer. Looks like there's no short cut... gotta redo this all. Blah. Will make the same files and append names with \"water_only\""
   ]
  },
  {
   "cell_type": "code",
   "execution_count": null,
   "metadata": {},
   "outputs": [],
   "source": []
  }
 ],
 "metadata": {
  "kernelspec": {
   "display_name": "R",
   "language": "R",
   "name": "ir"
  },
  "language_info": {
   "codemirror_mode": "r",
   "file_extension": ".r",
   "mimetype": "text/x-r-source",
   "name": "R",
   "pygments_lexer": "r",
   "version": "3.6.1"
  }
 },
 "nbformat": 4,
 "nbformat_minor": 2
}
