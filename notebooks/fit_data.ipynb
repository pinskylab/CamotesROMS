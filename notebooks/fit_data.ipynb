{
 "cells": [
  {
   "cell_type": "code",
   "execution_count": 37,
   "metadata": {},
   "outputs": [
    {
     "data": {
      "text/html": [
       "0"
      ],
      "text/latex": [
       "0"
      ],
      "text/markdown": [
       "0"
      ],
      "text/plain": [
       "[1] 0"
      ]
     },
     "metadata": {},
     "output_type": "display_data"
    },
    {
     "data": {
      "text/html": [
       "0"
      ],
      "text/latex": [
       "0"
      ],
      "text/markdown": [
       "0"
      ],
      "text/plain": [
       "[1] 0"
      ]
     },
     "metadata": {},
     "output_type": "display_data"
    }
   ],
   "source": [
    "Packages <- c(\"dplyr\",  \"nleqslv\", \"broom\",\"cubature\", \"geosphere\", \"data.table\",  \"ggplot2\", \"bbmle\", \"stringr\",  \"lubridate\", \"RColorBrewer\")\n",
    "\n",
    "invisible(suppressPackageStartupMessages(lapply(Packages, library, character.only = TRUE)))\n",
    "\n",
    "setwd('/local/home/katrinac/oceanography')\n",
    "\"%!in%\" <- function(x,table) match(x,table, nomatch = 0) == 0\n",
    "source(\"scripts/ll_kt_both_bbmle.R\")\n",
    "source(\"scripts/ll_kt_both_grid_search.R\")\n",
    "source(\"scripts/LL_biophys.R\")\n",
    "source(\"scripts/GenGausKernInt_sum0.5.R\") #integrate_kernel_sum1\n",
    "source(\"scripts/GenGausKernInt_sum1.R\")\n",
    "source(\"scripts/cdf_solve.R\") #median\n",
    "source(\"scripts/cdf_solve90.R\") #dist 90% retained\n",
    "\n",
    "set.seed(7)\n",
    "#read in the kernel fitting summary\n",
    "kernels <- fread(file=\"script_output/KernelFits/summary_tables/kernel_fitting_summary.csv\")\n",
    "kernel2012_14 <- fread(file=\"empirical_data/genetics/GenKernelsForROMSComp2012-14.csv\")\n",
    "\n",
    "#read in the centroids adjusted for the simulation, so the Magbangons combined \n",
    "#centroids <- fread(file=\"script_output/SurveyData/SimulationCentroids.csv\")\n",
    "Centroids <- fread(file=\"empirical_data/site_centroids_SimTest.csv\") \n",
    "Centroids$site <- gsub(\"_full\", \"\", Centroids$site, fixed=TRUE)\n",
    "Centroids$site <- gsub(\"_ten_per_cover\", \"\", Centroids$site, fixed=TRUE)\n",
    "\n",
    "Centroids <- Centroids %>%\n",
    "    arrange(site)\n",
    "\n",
    "#setorder(Centroids, site)#warning! This sets order based on site, and then lat/lon. So the table is not alphabetical by site, but that's fine as long as all of the \"sampled_reef\" vectors reflect this, so that reef_sizes, distance, and sampled_reefs match up by row/col index \n",
    "#read in the table with number of recruits sampled at each site for each year\n",
    "AnnualRecsSamp <- fread(file=\"script_output/SurveyData/AnnualRecruitsSampled.csv\")\n",
    "#read in the table of the proportion of anemones sampled at each site for each year\n",
    "PropSamp <- unique(fread(file=\"script_output/SurveyData/ProportionHabitatSampled.csv\")[\n",
    "    , .(site, year=end_year, prop_anem_samp=total_prop_hab_sampled_anems_tidied)][ #select and rename columns with the tideied data to use\n",
    "    site %like% \"Magbangon\", site := \"Magbangon\"][ #collapse Magbangon values\n",
    "    , prop_anem_samp := sum(prop_anem_samp), by=c(\"site\", \"year\")], by=c(\"site\", \"year\"))[ #collapse magbangons to match ROMS data\n",
    "    site==\"Sitio Lonas\" & year %in% c(2012, 2013, 2014), prop_anem_samp :=1][site==\"Caridad Proper\" & year %in% c(2013, 2014), prop_anem_samp :=1]\n",
    "                   \n",
    "                   \n",
    "### List of source locations\n",
    "SitesSource <- Centroids\n",
    "\n",
    "### List of destination locations\n",
    "SitesDest <- Centroids\n",
    "\n",
    "DistMatm <- distm(SitesSource[,c('lon','lat')], SitesSource[,c('lon','lat')], fun=distVincentyEllipsoid)\n",
    "Distances <- DistMatm*10^-3\n",
    "#read in the reef areas for the kernel fitting\n",
    "Area <- fread(\"empirical_data/site_area_header_nonsurveyed_simulation_kernels_test.csv\") %>%\n",
    "    arrange(site) %>%\n",
    "    filter(site %!in% c(\"near_north_full1\", \"near_north_full2\", \"near_north_full3\", \"near_south_full1\", \"near_south_full2\", \"near_south_full3\")) %>%\n",
    "    mutate(kmsq=msq*10^-6)# %>%\n",
    "    #select(kmsq) #need to uncomment for functions to work\n",
    "Area$site <- gsub(\"_ten_per_cover\", \"\", Area$site, fixed=TRUE)\n",
    "\n",
    "reef_sizes <- as.matrix(Area$kmsq)\n",
    "\n",
    "#make a site index table, use this for Sampled_reefs input in kernel fitting\n",
    "SiteIndex <- unique(Centroids %>% arrange(site), by=\"site\")[, index := .I] #add the row number as the unique site index, leave CAI in if fitting a kernel \n",
    "SiteIndexBioPhys <- unique(Centroids %>% arrange(site), by=\"site\")[site != \"CAI\" ][, index := .I] #add the row number as the unique site index, take CAI out for biophysical likelihood function\n",
    "\n",
    "#make a table with the survey information for each site (how many fish sampled, prop anems sampled, total number of anems at site)\n",
    "SurveyData <- AnnualRecsSamp[PropSamp, on=.(year, site)][#join the sampling tables together\n",
    "    is.na(n_offs_gen), n_offs_gen := 0]#change NA's to 0\n",
    "#setnames(SurveyData, c(\"PropAnemSamp\", \"TotalAnems\"), c(\"prop_anem_samp\", \"total_anems\"))\n",
    "#setkey(SurveyData, site)\n",
    "#check all sites are represented in centroids and area (and indirectly distances, which comes from centroids)\n",
    "#Area[site %!in% centroids$site] #should be nothing\n",
    "\n",
    "#Allison's abundance time series data \n",
    "#download.file(url = \"https://github.com/pinskylab/Clownfish_persistence/blob/master/Data/Script_outputs/females_df_F.RData?raw=true\", destfile = \"empirical_data/genetics/females_df_F.RData\")\n",
    "load(\"empirical_data/genetics/females_df_F.RData\")\n",
    "Abundance <- as.data.table(females_df_F)\n",
    "setnames(Abundance, \"nF\", \"num_females\")\n",
    "Abundance <- unique(Abundance[site %like% \"Magbangon\", site := \"Magbangon\"][ #collapse Magbangon values\n",
    "            , num_females := sum(num_females), by=c(\"site\", \"year\")], by=c(\"site\", \"year\"))\n",
    "#join the survey sampling tables together\n",
    "SurveyData <- AnnualRecsSamp[PropSamp, on=.(year, site)][\n",
    "    is.na(n_offs_gen), n_offs_gen := 0]#change NA's to 0\n",
    "\n",
    "\n",
    "SurveyData <- Abundance[, c(\"year\", \"site\", \"num_females\")][SurveyData, on=.(year, site)]#join in Allison's estimate of female abundance. There are NA values, but that's okay we can figure those out when we start thinking about incorporating uncertainty in this\n",
    "#quick check that all components are in the same, alphabetical order\n",
    "sum(which(SiteIndex$site==Area$site)==FALSE) #needs to be 0!! sites have to be in the same order\n",
    "sum(which(Area$site==Centroids$site)==FALSE) #needs to be 0!! sites have to be in the same order\n",
    "\n",
    "##read in genetic parentage matrices for each time frame MATCHING DIMENSIONS WITH BIOPHYSICAL FOR BIOPHYSICAL LIKELIHOOD- NOT KERNEL FITTING\n",
    "#GenMat2012_4 <- as.matrix(fread(file=\"script_output/SurveyData/20210625_ParentageMatrix2012-14ForROMSComp.csv\"))\n",
    "#GenMat2012 <- as.matrix(fread(file=\"script_output/SurveyData/20210625_ParentageMatrix2012ForROMSComp.csv\"))\n",
    "#GenMat2013 <- as.matrix(fread(file=\"script_output/SurveyData/20210625_ParentageMatrix2013ForROMSComp.csv\"))\n",
    "#GenMat2014 <- as.matrix(fread(file=\"script_output/SurveyData/20210625_ParentageMatrix2014ForROMSComp.csv\"))\n",
    "#GenMatNEM <- as.matrix(fread(file=\"script_output/SurveyData/20210625_ParentageMatrixNEM2012-14ForROMSComp.csv\"))\n",
    "#GenMatSWM <- as.matrix(fread(file=\"script_output/SurveyData/20210625_ParentageMatrixSWM2012-14ForROMSComp.csv\"))\n",
    "\n",
    "#read in genetic parentage matrices for each time frame FOR KERNEL FITTING\n",
    "KernelGenMat2012_4 <- as.matrix(fread(file=\"script_output/SurveyData/20210701_KernelParentageMatrix2012-14ForROMSComp.csv\"))\n",
    "KernelGenMat2012 <- as.matrix(fread(file=\"script_output/SurveyData/20210701_KernelParentageMatrix2012ForROMSComp.csv\"))\n",
    "KernelGenMat2013 <- as.matrix(fread(file=\"script_output/SurveyData/20210701_KernelParentageMatrix2013ForROMSComp.csv\"))\n",
    "KernelGenMat2014 <- as.matrix(fread(file=\"script_output/SurveyData/20210701_KernelParentageMatrix2014ForROMSComp.csv\"))\n",
    "KernelGenMatNEM <- as.matrix(fread(file=\"script_output/SurveyData/20210701_KernelParentageMatrixNEM2012-14ForROMSComp.csv\"))\n",
    "KernelGenMatSWM <- as.matrix(fread(file=\"script_output/SurveyData/20210701_KernelParentageMatrixSWM2012-14ForROMSComp.csv\"))\n",
    "\n",
    "###read in biophysical data for biophysical likelihood\n",
    "#FullBiophysMatNorm <- as.matrix(fread(file=\"script_output/ROMSDataTables/2022-01-20_BioPhysNormConnMatrix2012-14ForROMSComp08DayPLD.csv\"))\n",
    "#AnnualBiophysMatNorm2012 <- as.matrix(fread(file=\"script_output/ROMSDataTables/2022-01-20_BioPhysNormConnMatrix2012ForROMSComp08DayPLD.csv\"))\n",
    "#AnnualBiophysMatNorm2013 <- as.matrix(fread(file=\"script_output/ROMSDataTables/2022-01-20_BioPhysNormConnMatrix2013ForROMSComp08DayPLD.csv\"))\n",
    "#AnnualBiophysMatNorm2014 <- as.matrix(fread(file=\"script_output/ROMSDataTables/2022-01-20_BioPhysNormConnMatrix2014ForROMSComp08DayPLD.csv\"))\n",
    "#MonsoonBiophysMatNormNEM <- as.matrix(fread(file=\"script_output/ROMSDataTables/2022-01-20_BioPhysNormConnMatrixNEMForROMSComp08DayPLD.csv\" ))\n",
    "#MonsoonBiophysMatNormSWM <-as.matrix(fread(file=\"script_output/ROMSDataTables/2022-01-20_BioPhysNormConnMatrixSWMForROMSComp08DayPLD.csv\" ))\n",
    "\n",
    "##read in biophysical data for KERNEL FITTING\n",
    "FullBiophysMat <- as.matrix(fread(file=\"script_output/ROMSDataTables/2022-01-20_BioPhysParentageMatrix2012-14ForROMSComp08DayPLD.csv\"))\n",
    "#fwrite(biophys_parentage_matrices$file=\"script_output/ROMSDataTables/2022-01-20_BioPhysParentageMatrix2012-14ForROMSComp08DayPLD.csv\")\n",
    "\n",
    "AnnualBiophysMat2012 <- as.matrix(fread(file=\"script_output/ROMSDataTables/2022-01-20_BioPhysParentageMatrix2012ForROMSComp08DayPLD.csv\"))\n",
    "AnnualBiophysMat2013 <- as.matrix(fread(file=\"script_output/ROMSDataTables/2022-01-20_BioPhysParentageMatrix2013ForROMSComp08DayPLD.csv\"))\n",
    "AnnualBiophysMat2014 <- as.matrix(fread(file=\"script_output/ROMSDataTables/2022-01-20_BioPhysParentageMatrix2014ForROMSComp08DayPLD.csv\"))\n",
    "MonsoonBiophysMatNEM <- as.matrix(fread(file=\"script_output/ROMSDataTables/2022-01-20_BioPhysParentageMatrixNEMForROMSComp08DayPLD.csv\"))\n",
    "MonsoonBiophysMatSWM <- as.matrix(fread(file=\"script_output/ROMSDataTables/2022-01-20_BioPhysParentageMatrixSWMForROMSComp08DayPLD.csv\"))\n",
    "\n",
    "##15 DAY PLD SIMULATIONS\n",
    "##read in biophysical data for biophysical likelihood\n",
    "#FullBiophysMatNorm <- as.matrix(fread(file=\"script_output/ROMSDataTables/20210917_BioPhysNormConnMatrix2012-14ForROMSComp15DayPLD.csv\"))\n",
    "#AnnualBiophysMatNorm2012 <- as.matrix(fread(file=\"script_output/ROMSDataTables/20210917_BioPhysNormConnMatrix2012ForROMSComp15DayPLD.csv\"))\n",
    "#AnnualBiophysMatNorm2013 <- as.matrix(fread(file=\"script_output/ROMSDataTables/20210917_BioPhysNormConnMatrix2013ForROMSComp15DayPLD.csv\"))\n",
    "#AnnualBiophysMatNorm2014 <- as.matrix(fread(file=\"script_output/ROMSDataTables/20210917_BioPhysNormConnMatrix2014ForROMSComp15DayPLD.csv\"))\n",
    "#MonsoonBiophysMatNormNEM <- as.matrix(fread(file=\"script_output/ROMSDataTables/20210917_BioPhysNormConnMatrixNEM2012-14ForROMSComp15DayPLD.csv\"))\n",
    "#MonsoonBiophysMatNormSWM <-as.matrix(fread(file=\"script_output/ROMSDataTables/20210917_BioPhysNormConnMatrixSWM2012-14ForROMSComp15DayPLD.csv\"))\n",
    "\n",
    "##read in biophysical data for KERNEL FITTING\n",
    "#FullBiophysMat <- as.matrix(fread(file=\"script_output/ROMSDataTables/20210917_BioPhysParentageMatrix2012-14ForROMSComp15DayPLD.csv\"))\n",
    "#AnnualBiophysMat2012 <- as.matrix(fread(file=\"script_output/ROMSDataTables/20210917_BioPhysParentageMatrix2012ForROMSComp15DayPLD.csv\"))\n",
    "#AnnualBiophysMat2013 <- as.matrix(fread(file=\"script_output/ROMSDataTables/20210917_BioPhysParentageMatrix2013ForROMSComp15DayPLD.csv\"))\n",
    "#AnnualBiophysMat2014 <- as.matrix(fread(file=\"script_output/ROMSDataTables/20210917_BioPhysParentageMatrix2014ForROMSComp15DayPLD.csv\"))\n",
    "#MonsoonBiophysMatNEM <- as.matrix(fread(file=\"script_output/ROMSDataTables/20210917_BioPhysParentageMatrixNEM2012-14ForROMSComp15DayPLD.csv\"))\n",
    "#MonsoonBiophysMatSWM <- as.matrix(fread(file=\"script_output/ROMSDataTables/20210917_BioPhysParentageMatrixSWM2012-14ForROMSComp15DayPLD.csv\"))"
   ]
  },
  {
   "cell_type": "code",
   "execution_count": 20,
   "metadata": {},
   "outputs": [
    {
     "data": {
      "text/html": [
       "TRUE"
      ],
      "text/latex": [
       "TRUE"
      ],
      "text/markdown": [
       "TRUE"
      ],
      "text/plain": [
       "[1] TRUE"
      ]
     },
     "metadata": {},
     "output_type": "display_data"
    }
   ],
   "source": [
    "sum(AnnualBiophysMat2012)+sum(AnnualBiophysMat2013)+sum(AnnualBiophysMat2014)==sum(FullBiophysMat)#should be true"
   ]
  },
  {
   "cell_type": "code",
   "execution_count": 49,
   "metadata": {
    "scrolled": false
   },
   "outputs": [
    {
     "data": {
      "text/html": [
       "827349"
      ],
      "text/latex": [
       "827349"
      ],
      "text/markdown": [
       "827349"
      ],
      "text/plain": [
       "[1] 827349"
      ]
     },
     "metadata": {},
     "output_type": "display_data"
    },
    {
     "data": {
      "text/html": [
       "127914"
      ],
      "text/latex": [
       "127914"
      ],
      "text/markdown": [
       "127914"
      ],
      "text/plain": [
       "[1] 127914"
      ]
     },
     "metadata": {},
     "output_type": "display_data"
    }
   ],
   "source": [
    "sum(MonsoonBiophysMatNEM)\n",
    "sum(MonsoonBiophysMatSWM)"
   ]
  },
  {
   "cell_type": "code",
   "execution_count": 45,
   "metadata": {
    "scrolled": false
   },
   "outputs": [],
   "source": [
    "\n",
    "\n",
    "#fit the kernels, get the biophysical data together\n",
    "biophys_par_data2012 <- list(Distances=Distances, Assignments=AnnualBiophysMat2012, Sampled_reefs=t(as.matrix(SiteIndex[site %in% colnames(AnnualBiophysMat2012), .(index)])), \n",
    "                  Reef_sizes=reef_sizes, Adult_sample_proportions=matrix(nrow=ncol(AnnualBiophysMat2012), ncol=1, 1))\n",
    "Sim2012Fit <- suppressWarnings(mle2(LL_kt_bbmle, start=list(k=-3, theta=1), lower=c(-10, 0.15), upper=c(10, 5), method=\"L-BFGS-B\", data=biophys_par_data2012, control=list(maxit=500)))\n",
    "\n",
    "biophys_par_data2013 <- list(Distances=Distances, Assignments=AnnualBiophysMat2013, Sampled_reefs=t(as.matrix(SiteIndex[site %in% colnames(AnnualBiophysMat2013), .(index)])), \n",
    "                  Reef_sizes=reef_sizes, Adult_sample_proportions=matrix(nrow=ncol(AnnualBiophysMat2013), ncol=1, 1))\n",
    "Sim2013Fit <- suppressWarnings(mle2(LL_kt_bbmle, start=list(k=-3, theta=1), lower=c(-10, 0.15), upper=c(10, 5), method=\"L-BFGS-B\", data=biophys_par_data2013, control=list(maxit=500)))\n",
    "\n",
    "biophys_par_data2014 <- list(Distances=Distances, Assignments=AnnualBiophysMat2014, Sampled_reefs=t(as.matrix(SiteIndex[site %in% colnames(AnnualBiophysMat2014), .(index)])), \n",
    "                  Reef_sizes=reef_sizes, Adult_sample_proportions=matrix(nrow=ncol(AnnualBiophysMat2014), ncol=1, 1))\n",
    "Sim2014Fit <- suppressWarnings(mle2(LL_kt_bbmle, start=list(k=-3, theta=1), lower=c(-10, 0.15), upper=c(10, 5), method=\"L-BFGS-B\", data=biophys_par_data2014, control=list(maxit=500)))\n",
    "\n",
    "biophys_par_data2012_4 <- list(Distances=Distances, Assignments=FullBiophysMat, Sampled_reefs=t(as.matrix(SiteIndex[site %in% colnames(FullBiophysMat), .(index)])), \n",
    "                  Reef_sizes=reef_sizes, Adult_sample_proportions=matrix(nrow=ncol(FullBiophysMat), ncol=1, 1))\n",
    "Sim2012_4Fit <- suppressWarnings(mle2(LL_kt_bbmle, start=list(k=-3, theta=1), lower=c(-10, 0.15), upper=c(10, 5), method=\"L-BFGS-B\", data=biophys_par_data2012_4, control=list(maxit=500)))\n",
    "\n",
    "biophys_par_dataNEM <- list(Distances=Distances, Assignments=MonsoonBiophysMatNEM, Sampled_reefs=t(as.matrix(SiteIndex[site %in% colnames(FullBiophysMat), .(index)])), \n",
    "                  Reef_sizes=reef_sizes, Adult_sample_proportions=matrix(nrow=ncol(MonsoonBiophysMatNEM), ncol=1, 1))\n",
    "SimNEMFit <- suppressWarnings(mle2(LL_kt_bbmle, start=list(k=-.3, theta=.6), lower=c(-10, 0.15), upper=c(10, 5), method=\"L-BFGS-B\", data=biophys_par_dataNEM, control=list(maxit=500)))\n",
    "\n",
    "biophys_par_dataSWM <- list(Distances=Distances, Assignments=MonsoonBiophysMatSWM, Sampled_reefs=t(as.matrix(SiteIndex[site %in% colnames(FullBiophysMat), .(index)])), \n",
    "                  Reef_sizes=reef_sizes, Adult_sample_proportions=matrix(nrow=ncol(MonsoonBiophysMatSWM), ncol=1, 1))\n",
    "SimSWMFit <- suppressWarnings(mle2(LL_kt_bbmle, start=list(k=-.3, theta=.6), lower=c(-10, 0.15), upper=c(10, 5), method=\"L-BFGS-B\", data=biophys_par_dataSWM, control=list(maxit=500)))\n",
    "\n"
   ]
  },
  {
   "cell_type": "code",
   "execution_count": 53,
   "metadata": {},
   "outputs": [
    {
     "data": {
      "text/html": [
       "<table>\n",
       "<tbody>\n",
       "\t<tr><th scope=row>site</th><td>Cabatoan         </td><td>Caridad Cemetery </td><td>Caridad Proper   </td><td>Elementary School</td><td>Gabas            </td><td>Haina            </td><td>Hicgop South     </td><td>Magbangon        </td><td>Palanas          </td><td>Poroc Rose       </td><td>Poroc San Flower </td><td>San Agustin      </td><td>Sitio Baybayon   </td><td>Sitio Lonas      </td><td>Sitio Tugas      </td><td>Tamakin Dacot    </td><td>Visca            </td><td>Wangag           </td></tr>\n",
       "\t<tr><th scope=row>lon</th><td>124.7270         </td><td>124.7469         </td><td>124.7508         </td><td>124.7684         </td><td>124.7934         </td><td>124.7813         </td><td>124.7635         </td><td>124.7253         </td><td>124.7113         </td><td>124.7852         </td><td>124.7853         </td><td>124.7836         </td><td>124.7755         </td><td>124.7830         </td><td>124.7664         </td><td>124.7838         </td><td>124.7865         </td><td>124.7152         </td></tr>\n",
       "\t<tr><th scope=row>lat</th><td>10.8554          </td><td>10.8363          </td><td>10.8306          </td><td>10.7989          </td><td>10.7279          </td><td>10.6409          </td><td>10.8137          </td><td>10.8569          </td><td>10.8737          </td><td>10.7555          </td><td>10.7641          </td><td>10.7690          </td><td>10.6365          </td><td>10.7744          </td><td>10.8060          </td><td>10.6526          </td><td>10.7442          </td><td>10.8707          </td></tr>\n",
       "\t<tr><th scope=row>index</th><td> 1               </td><td> 3               </td><td> 4               </td><td> 9               </td><td>10               </td><td>11               </td><td>12               </td><td>13               </td><td>20               </td><td>21               </td><td>22               </td><td>23               </td><td>24               </td><td>25               </td><td>26               </td><td>27               </td><td>28               </td><td>29               </td></tr>\n",
       "</tbody>\n",
       "</table>\n"
      ],
      "text/latex": [
       "\\begin{tabular}{r|llllllllllllllllll}\n",
       "\tsite & Cabatoan          & Caridad Cemetery  & Caridad Proper    & Elementary School & Gabas             & Haina             & Hicgop South      & Magbangon         & Palanas           & Poroc Rose        & Poroc San Flower  & San Agustin       & Sitio Baybayon    & Sitio Lonas       & Sitio Tugas       & Tamakin Dacot     & Visca             & Wangag           \\\\\n",
       "\tlon & 124.7270          & 124.7469          & 124.7508          & 124.7684          & 124.7934          & 124.7813          & 124.7635          & 124.7253          & 124.7113          & 124.7852          & 124.7853          & 124.7836          & 124.7755          & 124.7830          & 124.7664          & 124.7838          & 124.7865          & 124.7152         \\\\\n",
       "\tlat & 10.8554           & 10.8363           & 10.8306           & 10.7989           & 10.7279           & 10.6409           & 10.8137           & 10.8569           & 10.8737           & 10.7555           & 10.7641           & 10.7690           & 10.6365           & 10.7744           & 10.8060           & 10.6526           & 10.7442           & 10.8707          \\\\\n",
       "\tindex &  1                &  3                &  4                &  9                & 10                & 11                & 12                & 13                & 20                & 21                & 22                & 23                & 24                & 25                & 26                & 27                & 28                & 29               \\\\\n",
       "\\end{tabular}\n"
      ],
      "text/markdown": [
       "\n",
       "| site | Cabatoan          | Caridad Cemetery  | Caridad Proper    | Elementary School | Gabas             | Haina             | Hicgop South      | Magbangon         | Palanas           | Poroc Rose        | Poroc San Flower  | San Agustin       | Sitio Baybayon    | Sitio Lonas       | Sitio Tugas       | Tamakin Dacot     | Visca             | Wangag            |\n",
       "| lon | 124.7270          | 124.7469          | 124.7508          | 124.7684          | 124.7934          | 124.7813          | 124.7635          | 124.7253          | 124.7113          | 124.7852          | 124.7853          | 124.7836          | 124.7755          | 124.7830          | 124.7664          | 124.7838          | 124.7865          | 124.7152          |\n",
       "| lat | 10.8554           | 10.8363           | 10.8306           | 10.7989           | 10.7279           | 10.6409           | 10.8137           | 10.8569           | 10.8737           | 10.7555           | 10.7641           | 10.7690           | 10.6365           | 10.7744           | 10.8060           | 10.6526           | 10.7442           | 10.8707           |\n",
       "| index |  1                |  3                |  4                |  9                | 10                | 11                | 12                | 13                | 20                | 21                | 22                | 23                | 24                | 25                | 26                | 27                | 28                | 29                |\n",
       "\n"
      ],
      "text/plain": [
       "      [,1]     [,2]             [,3]           [,4]              [,5]    \n",
       "site  Cabatoan Caridad Cemetery Caridad Proper Elementary School Gabas   \n",
       "lon   124.7270 124.7469         124.7508       124.7684          124.7934\n",
       "lat   10.8554  10.8363          10.8306        10.7989           10.7279 \n",
       "index  1        3                4              9                10      \n",
       "      [,6]     [,7]         [,8]      [,9]     [,10]      [,11]           \n",
       "site  Haina    Hicgop South Magbangon Palanas  Poroc Rose Poroc San Flower\n",
       "lon   124.7813 124.7635     124.7253  124.7113 124.7852   124.7853        \n",
       "lat   10.6409  10.8137      10.8569   10.8737  10.7555    10.7641         \n",
       "index 11       12           13        20       21         22              \n",
       "      [,12]       [,13]          [,14]       [,15]       [,16]         [,17]   \n",
       "site  San Agustin Sitio Baybayon Sitio Lonas Sitio Tugas Tamakin Dacot Visca   \n",
       "lon   124.7836    124.7755       124.7830    124.7664    124.7838      124.7865\n",
       "lat   10.7690     10.6365        10.7744     10.8060     10.6526       10.7442 \n",
       "index 23          24             25          26          27            28      \n",
       "      [,18]   \n",
       "site  Wangag  \n",
       "lon   124.7152\n",
       "lat   10.8707 \n",
       "index 29      "
      ]
     },
     "metadata": {},
     "output_type": "display_data"
    },
    {
     "data": {
      "text/html": [
       "<table>\n",
       "<tbody>\n",
       "\t<tr><th scope=row>site</th><td>Cabatoan         </td><td>Caridad Cemetery </td><td>Caridad Proper   </td><td>Elementary School</td><td>Haina            </td><td>Hicgop South     </td><td>Magbangon        </td><td>Palanas          </td><td>Poroc Rose       </td><td>Poroc San Flower </td><td>San Agustin      </td><td>Sitio Baybayon   </td><td>Sitio Lonas      </td><td>Tamakin Dacot    </td><td>Visca            </td><td>Wangag           </td></tr>\n",
       "\t<tr><th scope=row>lon</th><td>124.7270         </td><td>124.7469         </td><td>124.7508         </td><td>124.7684         </td><td>124.7813         </td><td>124.7635         </td><td>124.7253         </td><td>124.7113         </td><td>124.7852         </td><td>124.7853         </td><td>124.7836         </td><td>124.7755         </td><td>124.7830         </td><td>124.7838         </td><td>124.7865         </td><td>124.7152         </td></tr>\n",
       "\t<tr><th scope=row>lat</th><td>10.8554          </td><td>10.8363          </td><td>10.8306          </td><td>10.7989          </td><td>10.6409          </td><td>10.8137          </td><td>10.8569          </td><td>10.8737          </td><td>10.7555          </td><td>10.7641          </td><td>10.7690          </td><td>10.6365          </td><td>10.7744          </td><td>10.6526          </td><td>10.7442          </td><td>10.8707          </td></tr>\n",
       "\t<tr><th scope=row>index</th><td> 1               </td><td> 3               </td><td> 4               </td><td> 9               </td><td>11               </td><td>12               </td><td>13               </td><td>20               </td><td>21               </td><td>22               </td><td>23               </td><td>24               </td><td>25               </td><td>27               </td><td>28               </td><td>29               </td></tr>\n",
       "</tbody>\n",
       "</table>\n"
      ],
      "text/latex": [
       "\\begin{tabular}{r|llllllllllllllll}\n",
       "\tsite & Cabatoan          & Caridad Cemetery  & Caridad Proper    & Elementary School & Haina             & Hicgop South      & Magbangon         & Palanas           & Poroc Rose        & Poroc San Flower  & San Agustin       & Sitio Baybayon    & Sitio Lonas       & Tamakin Dacot     & Visca             & Wangag           \\\\\n",
       "\tlon & 124.7270          & 124.7469          & 124.7508          & 124.7684          & 124.7813          & 124.7635          & 124.7253          & 124.7113          & 124.7852          & 124.7853          & 124.7836          & 124.7755          & 124.7830          & 124.7838          & 124.7865          & 124.7152         \\\\\n",
       "\tlat & 10.8554           & 10.8363           & 10.8306           & 10.7989           & 10.6409           & 10.8137           & 10.8569           & 10.8737           & 10.7555           & 10.7641           & 10.7690           & 10.6365           & 10.7744           & 10.6526           & 10.7442           & 10.8707          \\\\\n",
       "\tindex &  1                &  3                &  4                &  9                & 11                & 12                & 13                & 20                & 21                & 22                & 23                & 24                & 25                & 27                & 28                & 29               \\\\\n",
       "\\end{tabular}\n"
      ],
      "text/markdown": [
       "\n",
       "| site | Cabatoan          | Caridad Cemetery  | Caridad Proper    | Elementary School | Haina             | Hicgop South      | Magbangon         | Palanas           | Poroc Rose        | Poroc San Flower  | San Agustin       | Sitio Baybayon    | Sitio Lonas       | Tamakin Dacot     | Visca             | Wangag            |\n",
       "| lon | 124.7270          | 124.7469          | 124.7508          | 124.7684          | 124.7813          | 124.7635          | 124.7253          | 124.7113          | 124.7852          | 124.7853          | 124.7836          | 124.7755          | 124.7830          | 124.7838          | 124.7865          | 124.7152          |\n",
       "| lat | 10.8554           | 10.8363           | 10.8306           | 10.7989           | 10.6409           | 10.8137           | 10.8569           | 10.8737           | 10.7555           | 10.7641           | 10.7690           | 10.6365           | 10.7744           | 10.6526           | 10.7442           | 10.8707           |\n",
       "| index |  1                |  3                |  4                |  9                | 11                | 12                | 13                | 20                | 21                | 22                | 23                | 24                | 25                | 27                | 28                | 29                |\n",
       "\n"
      ],
      "text/plain": [
       "      [,1]     [,2]             [,3]           [,4]              [,5]    \n",
       "site  Cabatoan Caridad Cemetery Caridad Proper Elementary School Haina   \n",
       "lon   124.7270 124.7469         124.7508       124.7684          124.7813\n",
       "lat   10.8554  10.8363          10.8306        10.7989           10.6409 \n",
       "index  1        3                4              9                11      \n",
       "      [,6]         [,7]      [,8]     [,9]       [,10]            [,11]      \n",
       "site  Hicgop South Magbangon Palanas  Poroc Rose Poroc San Flower San Agustin\n",
       "lon   124.7635     124.7253  124.7113 124.7852   124.7853         124.7836   \n",
       "lat   10.8137      10.8569   10.8737  10.7555    10.7641          10.7690    \n",
       "index 12           13        20       21         22               23         \n",
       "      [,12]          [,13]       [,14]         [,15]    [,16]   \n",
       "site  Sitio Baybayon Sitio Lonas Tamakin Dacot Visca    Wangag  \n",
       "lon   124.7755       124.7830    124.7838      124.7865 124.7152\n",
       "lat   10.6365        10.7744     10.6526       10.7442  10.8707 \n",
       "index 24             25          27            28       29      "
      ]
     },
     "metadata": {},
     "output_type": "display_data"
    }
   ],
   "source": [
    "t(as.matrix(SiteIndex[site %in% colnames(FullBiophysMat)]))\n",
    "t(as.matrix(SiteIndex[site %in% SurveyData[year==2014 & prop_anem_samp >0 , site]]))\n"
   ]
  },
  {
   "cell_type": "code",
   "execution_count": null,
   "metadata": {},
   "outputs": [],
   "source": [
    "biophys_par_dataSWM <- list(Distances=Distances, Assignments=biophys_parentage_matrices$MonsoonBiophysMatSWM, Sampled_reefs=t(as.matrix(SiteIndex[site %in% SurveyData[year==2014 & prop_anem_samp >0 , site], .(index)])), \n",
    "                  Reef_sizes=reef_sizes, Adult_sample_proportions=matrix(nrow=ncol(biophys_parentage_matrices$MonsoonBiophysMatSWM), ncol=1, 1))\n",
    "biophys_par_dataSWM <- list(Distances=Distances, Assignments=MonsoonBiophysMatSWM, Sampled_reefs=t(as.matrix(SiteIndex[site %in% colnames(FullBiophysMat), .(index)])), \n",
    "                  Reef_sizes=reef_sizes, Adult_sample_proportions=matrix(nrow=ncol(MonsoonBiophysMatSWM), ncol=1, 1))\n"
   ]
  },
  {
   "cell_type": "code",
   "execution_count": 46,
   "metadata": {},
   "outputs": [
    {
     "data": {
      "text/plain": [
       "\n",
       "Call:\n",
       "mle2(minuslogl = LL_kt_bbmle, start = list(k = -0.3, theta = 0.6), \n",
       "    method = \"L-BFGS-B\", data = biophys_par_dataNEM, lower = c(-10, \n",
       "        0.15), upper = c(10, 5), control = list(maxit = 500))\n",
       "\n",
       "Coefficients:\n",
       "         k      theta \n",
       "-0.4314953  0.6569211 \n",
       "\n",
       "Log-likelihood: -1864791 "
      ]
     },
     "metadata": {},
     "output_type": "display_data"
    },
    {
     "data": {
      "text/plain": [
       "\n",
       "Call:\n",
       "mle2(minuslogl = LL_kt_bbmle, start = list(k = -0.3, theta = 0.6), \n",
       "    method = \"L-BFGS-B\", data = biophys_par_dataSWM, lower = c(-10, \n",
       "        0.15), upper = c(10, 5), control = list(maxit = 500))\n",
       "\n",
       "Coefficients:\n",
       "        k     theta \n",
       "0.2398232 0.4672805 \n",
       "\n",
       "Log-likelihood: -128013.1 "
      ]
     },
     "metadata": {},
     "output_type": "display_data"
    }
   ],
   "source": [
    "SimNEMFit\n",
    "SimSWMFit"
   ]
  },
  {
   "cell_type": "code",
   "execution_count": 47,
   "metadata": {},
   "outputs": [
    {
     "data": {
      "text/html": [
       "3.61770868984075"
      ],
      "text/latex": [
       "3.61770868984075"
      ],
      "text/markdown": [
       "3.61770868984075"
      ],
      "text/plain": [
       "[1] 3.617709"
      ]
     },
     "metadata": {},
     "output_type": "display_data"
    }
   ],
   "source": [
    "BestKNEM <- as.numeric(coef(SimNEMFit)[1])\n",
    "BestThetaNEM <- as.numeric(coef(SimNEMFit)[2])\n",
    "MDDNEM <- as.numeric(cubintegrate(integrate_kernel_sum1, lower = 0, upper = Inf, k=BestKNEM, theta=BestThetaNEM, , method = \"pcubature\")$integral)\n",
    "MDDNEM"
   ]
  },
  {
   "cell_type": "code",
   "execution_count": 48,
   "metadata": {},
   "outputs": [
    {
     "data": {
      "text/html": [
       "6.35505875550932"
      ],
      "text/latex": [
       "6.35505875550932"
      ],
      "text/markdown": [
       "6.35505875550932"
      ],
      "text/plain": [
       "[1] 6.355059"
      ]
     },
     "metadata": {},
     "output_type": "display_data"
    }
   ],
   "source": [
    "BestKSWM <- as.numeric(coef(SimSWMFit)[1])\n",
    "BestThetaSWM <- as.numeric(coef(SimSWMFit)[2])\n",
    "MDDSWM <- as.numeric(cubintegrate(integrate_kernel_sum1, lower = 0, upper = Inf, k=BestKSWM, theta=BestThetaSWM, , method = \"pcubature\")$integral)\n",
    "MDDSWM"
   ]
  },
  {
   "cell_type": "code",
   "execution_count": 36,
   "metadata": {},
   "outputs": [
    {
     "data": {
      "text/html": [
       "<table>\n",
       "<thead><tr><th scope=col>time_scale</th><th scope=col>time_id</th><th scope=col>k</th><th scope=col>theta</th><th scope=col>mdd</th><th scope=col>med</th><th scope=col>dist90</th><th scope=col>log_like</th><th scope=col>data_source</th></tr></thead>\n",
       "<tbody>\n",
       "\t<tr><td>annual     </td><td>2012       </td><td>-0.38751254</td><td>0.6370261  </td><td>3.778224   </td><td>2.096410   </td><td> 9.305059  </td><td> -725758.2 </td><td>simulation </td></tr>\n",
       "\t<tr><td>annual     </td><td>2013       </td><td>-0.64237719</td><td>0.6792543  </td><td>4.080705   </td><td>2.351905   </td><td> 9.967812  </td><td> -662951.4 </td><td>simulation </td></tr>\n",
       "\t<tr><td>annual     </td><td>2014       </td><td> 0.07565334</td><td>0.5641438  </td><td>3.504783   </td><td>1.797263   </td><td> 8.749074  </td><td> -629397.4 </td><td>simulation </td></tr>\n",
       "\t<tr><td>interannual</td><td>2012-4     </td><td>-0.31231809</td><td>0.6214930  </td><td>3.770613   </td><td>2.060501   </td><td> 9.314044  </td><td>-2021633.6 </td><td>simulation </td></tr>\n",
       "\t<tr><td>season     </td><td>NEM        </td><td>-0.43151979</td><td>0.6569262  </td><td>3.617719   </td><td>2.044842   </td><td> 8.875493  </td><td>-1864791.3 </td><td>simulation </td></tr>\n",
       "\t<tr><td>season     </td><td>SWM        </td><td> 0.23883526</td><td>0.4673893  </td><td>6.354512   </td><td>2.826102   </td><td>16.085780  </td><td> -128013.1 </td><td>simulation </td></tr>\n",
       "</tbody>\n",
       "</table>\n"
      ],
      "text/latex": [
       "\\begin{tabular}{r|lllllllll}\n",
       " time\\_scale & time\\_id & k & theta & mdd & med & dist90 & log\\_like & data\\_source\\\\\n",
       "\\hline\n",
       "\t annual      & 2012        & -0.38751254 & 0.6370261   & 3.778224    & 2.096410    &  9.305059   &  -725758.2  & simulation \\\\\n",
       "\t annual      & 2013        & -0.64237719 & 0.6792543   & 4.080705    & 2.351905    &  9.967812   &  -662951.4  & simulation \\\\\n",
       "\t annual      & 2014        &  0.07565334 & 0.5641438   & 3.504783    & 1.797263    &  8.749074   &  -629397.4  & simulation \\\\\n",
       "\t interannual & 2012-4      & -0.31231809 & 0.6214930   & 3.770613    & 2.060501    &  9.314044   & -2021633.6  & simulation \\\\\n",
       "\t season      & NEM         & -0.43151979 & 0.6569262   & 3.617719    & 2.044842    &  8.875493   & -1864791.3  & simulation \\\\\n",
       "\t season      & SWM         &  0.23883526 & 0.4673893   & 6.354512    & 2.826102    & 16.085780   &  -128013.1  & simulation \\\\\n",
       "\\end{tabular}\n"
      ],
      "text/markdown": [
       "\n",
       "| time_scale | time_id | k | theta | mdd | med | dist90 | log_like | data_source |\n",
       "|---|---|---|---|---|---|---|---|---|\n",
       "| annual      | 2012        | -0.38751254 | 0.6370261   | 3.778224    | 2.096410    |  9.305059   |  -725758.2  | simulation  |\n",
       "| annual      | 2013        | -0.64237719 | 0.6792543   | 4.080705    | 2.351905    |  9.967812   |  -662951.4  | simulation  |\n",
       "| annual      | 2014        |  0.07565334 | 0.5641438   | 3.504783    | 1.797263    |  8.749074   |  -629397.4  | simulation  |\n",
       "| interannual | 2012-4      | -0.31231809 | 0.6214930   | 3.770613    | 2.060501    |  9.314044   | -2021633.6  | simulation  |\n",
       "| season      | NEM         | -0.43151979 | 0.6569262   | 3.617719    | 2.044842    |  8.875493   | -1864791.3  | simulation  |\n",
       "| season      | SWM         |  0.23883526 | 0.4673893   | 6.354512    | 2.826102    | 16.085780   |  -128013.1  | simulation  |\n",
       "\n"
      ],
      "text/plain": [
       "  time_scale  time_id k           theta     mdd      med      dist90   \n",
       "1 annual      2012    -0.38751254 0.6370261 3.778224 2.096410  9.305059\n",
       "2 annual      2013    -0.64237719 0.6792543 4.080705 2.351905  9.967812\n",
       "3 annual      2014     0.07565334 0.5641438 3.504783 1.797263  8.749074\n",
       "4 interannual 2012-4  -0.31231809 0.6214930 3.770613 2.060501  9.314044\n",
       "5 season      NEM     -0.43151979 0.6569262 3.617719 2.044842  8.875493\n",
       "6 season      SWM      0.23883526 0.4673893 6.354512 2.826102 16.085780\n",
       "  log_like   data_source\n",
       "1  -725758.2 simulation \n",
       "2  -662951.4 simulation \n",
       "3  -629397.4 simulation \n",
       "4 -2021633.6 simulation \n",
       "5 -1864791.3 simulation \n",
       "6  -128013.1 simulation "
      ]
     },
     "metadata": {},
     "output_type": "display_data"
    }
   ],
   "source": [
    "\n",
    "#make a summary table for all time frames of simulation data\n",
    "SimKernels <- as.data.frame(matrix(NA, nrow = 6, ncol = 8))\n",
    "setDT(SimKernels)\n",
    "setnames(SimKernels, c(\"time_scale\", \"time_id\", \"k\", \"theta\", \"mdd\", \"med\", \"dist90\", \"log_like\"))\n",
    "#SimKernels <- data.table(time_scale=character(), time_id=character(), k=numeric(), theta=numeric(), mdd=numeric(), med=numeric(), dist90=numeric())\n",
    "\n",
    "\n",
    "BestK2012 <- as.numeric(coef(Sim2012Fit)[1])\n",
    "BestTheta2012 <- as.numeric(coef(Sim2012Fit)[2])\n",
    "MDD2012 <- as.numeric(cubintegrate(integrate_kernel_sum1, lower = 0, upper = Inf, k=BestK2012, theta=BestTheta2012, , method = \"pcubature\")$integral)\n",
    "k_eval <- BestK2012\n",
    "theta_eval <- BestTheta2012\n",
    "Med2012  <- nleqslv(x = 7, fn = cdf_solve)$x \n",
    "Dist90_2012 <- nleqslv(x = 7, fn = cdf_solve90)$x\n",
    "\n",
    "SimKernels$time_scale[1] <- \"annual\"\n",
    "SimKernels$time_id[1] <- \"2012\"\n",
    "SimKernels$k[1] <-  BestK2012\n",
    "SimKernels$theta[1] <- BestTheta2012\n",
    "SimKernels$mdd[1] <- MDD2012\n",
    "SimKernels$med[1] <- Med2012\n",
    "SimKernels$dist90[1] <- Dist90_2012\n",
    "SimKernels$log_like[1] <- logLik(Sim2012Fit)[1]\n",
    "\n",
    "BestK2013 <- as.numeric(coef(Sim2013Fit)[1])\n",
    "BestTheta2013 <- as.numeric(coef(Sim2013Fit)[2])\n",
    "MDD2013 <- as.numeric(cubintegrate(integrate_kernel_sum1, lower = 0, upper = Inf, k=BestK2013, theta=BestTheta2013, , method = \"pcubature\")$integral)\n",
    "k_eval <- BestK2013\n",
    "theta_eval <- BestTheta2013\n",
    "Med2013  <- nleqslv(x = 7, fn = cdf_solve)$x \n",
    "Dist90_2013 <- nleqslv(x = 7, fn = cdf_solve90)$x\n",
    "\n",
    "SimKernels$time_scale[2] <- \"annual\"\n",
    "SimKernels$time_id[2] <- \"2013\"\n",
    "SimKernels$k[2] <-  BestK2013\n",
    "SimKernels$theta[2] <- BestTheta2013\n",
    "SimKernels$mdd[2] <- MDD2013\n",
    "SimKernels$med[2] <- Med2013\n",
    "SimKernels$dist90[2] <- Dist90_2013\n",
    "SimKernels$log_like[2] <- logLik(Sim2013Fit)[1]\n",
    "\n",
    "\n",
    "BestK2014 <- as.numeric(coef(Sim2014Fit)[1])\n",
    "BestTheta2014 <- as.numeric(coef(Sim2014Fit)[2])\n",
    "MDD2014 <- as.numeric(cubintegrate(integrate_kernel_sum1, lower = 0, upper = Inf, k=BestK2014, theta=BestTheta2014, , method = \"pcubature\")$integral)\n",
    "k_eval <- BestK2014\n",
    "theta_eval <- BestTheta2014\n",
    "Med2014  <- nleqslv(x = 7, fn = cdf_solve)$x\n",
    "Dist90_2014 <- nleqslv(x = 7, fn = cdf_solve90)$x\n",
    "\n",
    "SimKernels$time_scale[3] <- \"annual\"\n",
    "SimKernels$time_id[3] <- \"2014\"\n",
    "SimKernels$k[3] <-  BestK2014\n",
    "SimKernels$theta[3] <- BestTheta2014\n",
    "SimKernels$mdd[3] <- MDD2014\n",
    "SimKernels$med[3] <- Med2014\n",
    "SimKernels$dist90[3] <- Dist90_2014\n",
    "SimKernels$log_like[3] <- logLik(Sim2014Fit)[1]\n",
    "\n",
    "BestK2012_4 <- as.numeric(coef(Sim2012_4Fit)[1])\n",
    "BestTheta2012_4 <- as.numeric(coef(Sim2012_4Fit)[2])\n",
    "MDD2012_4 <- as.numeric(cubintegrate(integrate_kernel_sum1, lower = 0, upper = Inf, k=BestK2012_4, theta=BestTheta2012_4, , method = \"pcubature\")$integral)\n",
    "k_eval <- BestK2012_4\n",
    "theta_eval <- BestTheta2012_4\n",
    "Med2012_4  <- nleqslv(x = 7, fn = cdf_solve)$x \n",
    "Dist90_2012_4 <- nleqslv(x = 7, fn = cdf_solve90)$x\n",
    "\n",
    "SimKernels$time_scale[4] <- \"interannual\"\n",
    "SimKernels$time_id[4] <- \"2012-4\"\n",
    "SimKernels$k[4] <-  BestK2012_4\n",
    "SimKernels$theta[4] <- BestTheta2012_4\n",
    "SimKernels$mdd[4] <- MDD2012_4\n",
    "SimKernels$med[4] <- Med2012_4\n",
    "SimKernels$dist90[4] <- Dist90_2012_4\n",
    "SimKernels$log_like[4] <- logLik(Sim2012_4Fit)[1]\n",
    "\n",
    "BestKNEM <- as.numeric(coef(SimNEMFit)[1])\n",
    "BestThetaNEM <- as.numeric(coef(SimNEMFit)[2])\n",
    "MDDNEM <- as.numeric(cubintegrate(integrate_kernel_sum1, lower = 0, upper = Inf, k=BestKNEM, theta=BestThetaNEM, , method = \"pcubature\")$integral)\n",
    "k_eval <- BestKNEM\n",
    "theta_eval <- BestThetaNEM\n",
    "MedNEM  <- nleqslv(x = 7, fn = cdf_solve)$x \n",
    "Dist90_NEM <- nleqslv(x = 7, fn = cdf_solve90)$x\n",
    "\n",
    "SimKernels$time_scale[5] <- \"season\"\n",
    "SimKernels$time_id[5] <- \"NEM\"\n",
    "SimKernels$k[5] <-  BestKNEM\n",
    "SimKernels$theta[5] <- BestThetaNEM\n",
    "SimKernels$mdd[5] <- MDDNEM\n",
    "SimKernels$med[5] <- MedNEM\n",
    "SimKernels$dist90[5] <- Dist90_NEM\n",
    "SimKernels$log_like[5] <- logLik(SimNEMFit)[1]\n",
    "\n",
    "BestKSWM <- as.numeric(coef(SimSWMFit)[1])\n",
    "BestThetaSWM <- as.numeric(coef(SimSWMFit)[2])\n",
    "MDDSWM <- as.numeric(cubintegrate(integrate_kernel_sum1, lower = 0, upper = Inf, k=BestKSWM, theta=BestThetaSWM, , method = \"pcubature\")$integral)\n",
    "k_eval <- BestKSWM\n",
    "theta_eval <- BestThetaSWM\n",
    "MedSWM  <- nleqslv(x = 7, fn = cdf_solve)$x \n",
    "Dist90_SWM <- nleqslv(x = 7, fn = cdf_solve90)$x\n",
    "\n",
    "SimKernels$time_scale[6] <- \"season\"\n",
    "SimKernels$time_id[6] <- \"SWM\"\n",
    "SimKernels$k[6] <-  BestKSWM\n",
    "SimKernels$theta[6] <- BestThetaSWM\n",
    "SimKernels$mdd[6] <- MDDSWM\n",
    "SimKernels$med[6] <- MedSWM\n",
    "SimKernels$dist90[6] <- Dist90_SWM\n",
    "SimKernels$log_like[6] <- logLik(SimSWMFit)[1]\n",
    "\n",
    "SimKernels[, `:=`(k=k, theta=theta, mdd=mdd, med=med, dist90=dist90, data_source=\"simulation\"), by=\"time_id\"]\n",
    "\n",
    "#fwrite(SimKernels, file=\"script_output/KernelFits/SimulationKernelFits08DayPLD.csv\")\n",
    "\n",
    "\n",
    "SimKernels\n"
   ]
  },
  {
   "cell_type": "code",
   "execution_count": 14,
   "metadata": {},
   "outputs": [
    {
     "data": {
      "text/html": [
       "<table>\n",
       "<thead><tr><th scope=col>year</th><th scope=col>site</th><th scope=col>num_females</th><th scope=col>n_offs_gen</th><th scope=col>prop_anem_samp</th></tr></thead>\n",
       "<tbody>\n",
       "\t<tr><td>2012             </td><td>Cabatoan         </td><td> 8               </td><td>4                </td><td>0.4230769        </td></tr>\n",
       "\t<tr><td>2012             </td><td>Caridad Cemetery </td><td>NA               </td><td>0                </td><td>0.0000000        </td></tr>\n",
       "\t<tr><td>2012             </td><td>Caridad Proper   </td><td>NA               </td><td>0                </td><td>0.0000000        </td></tr>\n",
       "\t<tr><td>2012             </td><td>Elementary School</td><td>NA               </td><td>0                </td><td>0.0000000        </td></tr>\n",
       "\t<tr><td>2012             </td><td>Gabas            </td><td>NA               </td><td>0                </td><td>0.0000000        </td></tr>\n",
       "\t<tr><td>2012             </td><td>Haina            </td><td>NA               </td><td>0                </td><td>0.0000000        </td></tr>\n",
       "</tbody>\n",
       "</table>\n"
      ],
      "text/latex": [
       "\\begin{tabular}{r|lllll}\n",
       " year & site & num\\_females & n\\_offs\\_gen & prop\\_anem\\_samp\\\\\n",
       "\\hline\n",
       "\t 2012              & Cabatoan          &  8                & 4                 & 0.4230769        \\\\\n",
       "\t 2012              & Caridad Cemetery  & NA                & 0                 & 0.0000000        \\\\\n",
       "\t 2012              & Caridad Proper    & NA                & 0                 & 0.0000000        \\\\\n",
       "\t 2012              & Elementary School & NA                & 0                 & 0.0000000        \\\\\n",
       "\t 2012              & Gabas             & NA                & 0                 & 0.0000000        \\\\\n",
       "\t 2012              & Haina             & NA                & 0                 & 0.0000000        \\\\\n",
       "\\end{tabular}\n"
      ],
      "text/markdown": [
       "\n",
       "| year | site | num_females | n_offs_gen | prop_anem_samp |\n",
       "|---|---|---|---|---|\n",
       "| 2012              | Cabatoan          |  8                | 4                 | 0.4230769         |\n",
       "| 2012              | Caridad Cemetery  | NA                | 0                 | 0.0000000         |\n",
       "| 2012              | Caridad Proper    | NA                | 0                 | 0.0000000         |\n",
       "| 2012              | Elementary School | NA                | 0                 | 0.0000000         |\n",
       "| 2012              | Gabas             | NA                | 0                 | 0.0000000         |\n",
       "| 2012              | Haina             | NA                | 0                 | 0.0000000         |\n",
       "\n"
      ],
      "text/plain": [
       "  year site              num_females n_offs_gen prop_anem_samp\n",
       "1 2012 Cabatoan           8          4          0.4230769     \n",
       "2 2012 Caridad Cemetery  NA          0          0.0000000     \n",
       "3 2012 Caridad Proper    NA          0          0.0000000     \n",
       "4 2012 Elementary School NA          0          0.0000000     \n",
       "5 2012 Gabas             NA          0          0.0000000     \n",
       "6 2012 Haina             NA          0          0.0000000     "
      ]
     },
     "metadata": {},
     "output_type": "display_data"
    }
   ],
   "source": [
    "head(SurveyData)"
   ]
  },
  {
   "cell_type": "code",
   "execution_count": 18,
   "metadata": {},
   "outputs": [],
   "source": [
    "#write out supplemental tables for paper\n",
    "#fwrite(SurveyData[year %in% c(\"2012\", \"2013\", \"2014\") & site != \"Gabas\", .(year, site, n_offs_gen, prop_anem_samp=round(prop_anem_samp, 3))], \"script_output/SurveyData/SamplingTableSupplment.csv\")\n",
    "\n",
    "#fwrite(SurveyData[year %in% c(\"2012\", \"2013\", \"2014\") & site != \"Gabas\",.(avg_num_females=round(mean(num_females, na.rm = TRUE),0)), by=site], \"script_output/SurveyData/AvgNTableSupplment.csv\")"
   ]
  },
  {
   "cell_type": "code",
   "execution_count": 7,
   "metadata": {},
   "outputs": [
    {
     "data": {
      "text/html": [
       "<table>\n",
       "<thead><tr><th scope=col>year</th><th scope=col>site</th><th scope=col>num_females</th><th scope=col>n_offs_gen</th><th scope=col>prop_anem_samp</th></tr></thead>\n",
       "<tbody>\n",
       "\t<tr><td>2012     </td><td>Gabas    </td><td>NA       </td><td>0        </td><td>0.0000000</td></tr>\n",
       "\t<tr><td>2013     </td><td>Gabas    </td><td>NA       </td><td>0        </td><td>0.0000000</td></tr>\n",
       "\t<tr><td>2014     </td><td>Gabas    </td><td>NA       </td><td>0        </td><td>0.0000000</td></tr>\n",
       "\t<tr><td>2015     </td><td>Gabas    </td><td> 8       </td><td>1        </td><td>0.1111111</td></tr>\n",
       "\t<tr><td>2016     </td><td>Gabas    </td><td>12       </td><td>1        </td><td>0.1777778</td></tr>\n",
       "\t<tr><td>2017     </td><td>Gabas    </td><td>21       </td><td>5        </td><td>0.2592593</td></tr>\n",
       "\t<tr><td>2018     </td><td>Gabas    </td><td>NA       </td><td>0        </td><td>0.2222222</td></tr>\n",
       "</tbody>\n",
       "</table>\n"
      ],
      "text/latex": [
       "\\begin{tabular}{r|lllll}\n",
       " year & site & num\\_females & n\\_offs\\_gen & prop\\_anem\\_samp\\\\\n",
       "\\hline\n",
       "\t 2012      & Gabas     & NA        & 0         & 0.0000000\\\\\n",
       "\t 2013      & Gabas     & NA        & 0         & 0.0000000\\\\\n",
       "\t 2014      & Gabas     & NA        & 0         & 0.0000000\\\\\n",
       "\t 2015      & Gabas     &  8        & 1         & 0.1111111\\\\\n",
       "\t 2016      & Gabas     & 12        & 1         & 0.1777778\\\\\n",
       "\t 2017      & Gabas     & 21        & 5         & 0.2592593\\\\\n",
       "\t 2018      & Gabas     & NA        & 0         & 0.2222222\\\\\n",
       "\\end{tabular}\n"
      ],
      "text/markdown": [
       "\n",
       "| year | site | num_females | n_offs_gen | prop_anem_samp |\n",
       "|---|---|---|---|---|\n",
       "| 2012      | Gabas     | NA        | 0         | 0.0000000 |\n",
       "| 2013      | Gabas     | NA        | 0         | 0.0000000 |\n",
       "| 2014      | Gabas     | NA        | 0         | 0.0000000 |\n",
       "| 2015      | Gabas     |  8        | 1         | 0.1111111 |\n",
       "| 2016      | Gabas     | 12        | 1         | 0.1777778 |\n",
       "| 2017      | Gabas     | 21        | 5         | 0.2592593 |\n",
       "| 2018      | Gabas     | NA        | 0         | 0.2222222 |\n",
       "\n"
      ],
      "text/plain": [
       "  year site  num_females n_offs_gen prop_anem_samp\n",
       "1 2012 Gabas NA          0          0.0000000     \n",
       "2 2013 Gabas NA          0          0.0000000     \n",
       "3 2014 Gabas NA          0          0.0000000     \n",
       "4 2015 Gabas  8          1          0.1111111     \n",
       "5 2016 Gabas 12          1          0.1777778     \n",
       "6 2017 Gabas 21          5          0.2592593     \n",
       "7 2018 Gabas NA          0          0.2222222     "
      ]
     },
     "metadata": {},
     "output_type": "display_data"
    }
   ],
   "source": [
    ", 1)"
   ]
  },
  {
   "cell_type": "code",
   "execution_count": 5,
   "metadata": {},
   "outputs": [],
   "source": [
    "#genetic data with same reef metadata structure as model\n",
    "\n",
    "par_data2012 <- list(Distances=Distances, Assignments=KernelGenMat2012, Sampled_reefs=t(as.matrix(SiteIndex[site %in% colnames(KernelGenMat2012), .(index)])), \n",
    "                  Reef_sizes=reef_sizes, Adult_sample_proportions=as.matrix(SurveyData[year==2012 & site %in% colnames(KernelGenMat2012), .(prop_anem_samp)]))\n",
    "Gen2012Fit <- suppressWarnings(mle2(LL_kt_bbmle, start=list(k=-3, theta=1), lower=c(-10, 0.15), upper=c(10, 5), method=\"L-BFGS-B\", data=par_data2012, control=list(maxit=500)))\n",
    "\n",
    "par_data2013 <- list(Distances=Distances, Assignments=KernelGenMat2013, Sampled_reefs=t(as.matrix(SiteIndex[site %in% colnames(KernelGenMat2013), .(index)])), \n",
    "                  Reef_sizes=reef_sizes, Adult_sample_proportions=as.matrix(SurveyData[year==2013 & site %in% colnames(KernelGenMat2013), .(prop_anem_samp)]))\n",
    "Gen2013Fit <- suppressWarnings(mle2(LL_kt_bbmle, start=list(k=-3, theta=1), lower=c(-10, 0.15), upper=c(10, 5), method=\"L-BFGS-B\", data=par_data2013, control=list(maxit=500)))\n",
    "\n",
    "par_data2014 <- list(Distances=Distances, Assignments=KernelGenMat2014, Sampled_reefs=t(as.matrix(SiteIndex[site %in% colnames(KernelGenMat2014), .(index)])), \n",
    "                  Reef_sizes=reef_sizes, Adult_sample_proportions=as.matrix(SurveyData[year==2014 & site %in% colnames(KernelGenMat2014), .(prop_anem_samp)]))\n",
    "Gen2014Fit <- suppressWarnings(mle2(LL_kt_bbmle, start=list(k=-3, theta=1), lower=c(-10, 0.15), upper=c(10, 5), method=\"L-BFGS-B\", data=par_data2014, control=list(maxit=500)))\n",
    "\n",
    "par_data2012_4 <- list(Distances=Distances, Assignments=KernelGenMat2012_4, Sampled_reefs=t(as.matrix(SiteIndex[site %in% colnames(KernelGenMat2012_4), .(index)])), \n",
    "                  Reef_sizes=reef_sizes, Adult_sample_proportions=as.matrix(SurveyData[year==2014 & site %in% colnames(KernelGenMat2012_4), .(prop_anem_samp)]))\n",
    "Gen2012_4Fit <- suppressWarnings(mle2(LL_kt_bbmle, start=list(k=-3, theta=1), lower=c(-10, 0.15), upper=c(10, 5), method=\"L-BFGS-B\", data=par_data2012_4, control=list(maxit=500)))\n",
    "\n",
    "par_dataNEM <- list(Distances=Distances, Assignments=KernelGenMatNEM, Sampled_reefs=t(as.matrix(SiteIndex[site %in% colnames(KernelGenMatNEM), .(index)])), \n",
    "                  Reef_sizes=reef_sizes, Adult_sample_proportions=as.matrix(SurveyData[year==2014 & site %in% colnames(KernelGenMat2012_4), .(prop_anem_samp)]))\n",
    "GenNEMFit <- suppressWarnings(mle2(LL_kt_bbmle, start=list(k=-3, theta=1), lower=c(-10, 0.15), upper=c(10, 5), method=\"L-BFGS-B\", data=par_dataNEM, control=list(maxit=500)))\n",
    "\n",
    "par_dataSWM <- list(Distances=Distances, Assignments=KernelGenMatSWM, Sampled_reefs=t(as.matrix(SiteIndex[site %in% colnames(KernelGenMatNEM), .(index)])), \n",
    "                  Reef_sizes=reef_sizes, Adult_sample_proportions=as.matrix(SurveyData[year==2014 & site %in% colnames(KernelGenMat2012_4), .(prop_anem_samp)]))\n",
    "GenSWMFit <- suppressWarnings(mle2(LL_kt_bbmle, start=list(k=-3, theta=1), lower=c(-10, 0.15), upper=c(10, 5), method=\"L-BFGS-B\", data=par_dataSWM, control=list(maxit=500)))\n",
    "\n"
   ]
  },
  {
   "cell_type": "code",
   "execution_count": 6,
   "metadata": {},
   "outputs": [
    {
     "data": {
      "text/html": [
       "<table>\n",
       "<thead><tr><th scope=col>time_scale</th><th scope=col>time_id</th><th scope=col>k</th><th scope=col>theta</th><th scope=col>mdd</th><th scope=col>med</th><th scope=col>dist90</th><th scope=col>log_like</th><th scope=col>data_source</th></tr></thead>\n",
       "<tbody>\n",
       "\t<tr><td>annual     </td><td>2012       </td><td>-3.27091   </td><td>3.52876    </td><td>13.02      </td><td>12.02      </td><td> 25.08     </td><td> -17.26499 </td><td>genetics   </td></tr>\n",
       "\t<tr><td>annual     </td><td>2013       </td><td>-3.27484   </td><td>5.00000    </td><td>12.77      </td><td>12.18      </td><td> 23.91     </td><td>-112.75593 </td><td>genetics   </td></tr>\n",
       "\t<tr><td>annual     </td><td>2014       </td><td> 1.97231   </td><td>0.26016    </td><td>76.00      </td><td>17.47      </td><td>182.37     </td><td> -78.48620 </td><td>genetics   </td></tr>\n",
       "\t<tr><td>interannual</td><td>2012-4     </td><td>-0.22643   </td><td>0.43900    </td><td>13.69      </td><td> 5.77      </td><td> 34.74     </td><td>-218.61429 </td><td>genetics   </td></tr>\n",
       "\t<tr><td>season     </td><td>NEM        </td><td> 0.76361   </td><td>0.37294    </td><td>12.87      </td><td> 4.64      </td><td> 32.61     </td><td> -27.26112 </td><td>genetics   </td></tr>\n",
       "\t<tr><td>season     </td><td>SWM        </td><td>-3.38408   </td><td>5.00000    </td><td>14.25      </td><td>13.59      </td><td> 26.67     </td><td> -71.81265 </td><td>genetics   </td></tr>\n",
       "</tbody>\n",
       "</table>\n"
      ],
      "text/latex": [
       "\\begin{tabular}{r|lllllllll}\n",
       " time\\_scale & time\\_id & k & theta & mdd & med & dist90 & log\\_like & data\\_source\\\\\n",
       "\\hline\n",
       "\t annual      & 2012        & -3.27091    & 3.52876     & 13.02       & 12.02       &  25.08      &  -17.26499  & genetics   \\\\\n",
       "\t annual      & 2013        & -3.27484    & 5.00000     & 12.77       & 12.18       &  23.91      & -112.75593  & genetics   \\\\\n",
       "\t annual      & 2014        &  1.97231    & 0.26016     & 76.00       & 17.47       & 182.37      &  -78.48620  & genetics   \\\\\n",
       "\t interannual & 2012-4      & -0.22643    & 0.43900     & 13.69       &  5.77       &  34.74      & -218.61429  & genetics   \\\\\n",
       "\t season      & NEM         &  0.76361    & 0.37294     & 12.87       &  4.64       &  32.61      &  -27.26112  & genetics   \\\\\n",
       "\t season      & SWM         & -3.38408    & 5.00000     & 14.25       & 13.59       &  26.67      &  -71.81265  & genetics   \\\\\n",
       "\\end{tabular}\n"
      ],
      "text/markdown": [
       "\n",
       "| time_scale | time_id | k | theta | mdd | med | dist90 | log_like | data_source |\n",
       "|---|---|---|---|---|---|---|---|---|\n",
       "| annual      | 2012        | -3.27091    | 3.52876     | 13.02       | 12.02       |  25.08      |  -17.26499  | genetics    |\n",
       "| annual      | 2013        | -3.27484    | 5.00000     | 12.77       | 12.18       |  23.91      | -112.75593  | genetics    |\n",
       "| annual      | 2014        |  1.97231    | 0.26016     | 76.00       | 17.47       | 182.37      |  -78.48620  | genetics    |\n",
       "| interannual | 2012-4      | -0.22643    | 0.43900     | 13.69       |  5.77       |  34.74      | -218.61429  | genetics    |\n",
       "| season      | NEM         |  0.76361    | 0.37294     | 12.87       |  4.64       |  32.61      |  -27.26112  | genetics    |\n",
       "| season      | SWM         | -3.38408    | 5.00000     | 14.25       | 13.59       |  26.67      |  -71.81265  | genetics    |\n",
       "\n"
      ],
      "text/plain": [
       "  time_scale  time_id k        theta   mdd   med   dist90 log_like  \n",
       "1 annual      2012    -3.27091 3.52876 13.02 12.02  25.08  -17.26499\n",
       "2 annual      2013    -3.27484 5.00000 12.77 12.18  23.91 -112.75593\n",
       "3 annual      2014     1.97231 0.26016 76.00 17.47 182.37  -78.48620\n",
       "4 interannual 2012-4  -0.22643 0.43900 13.69  5.77  34.74 -218.61429\n",
       "5 season      NEM      0.76361 0.37294 12.87  4.64  32.61  -27.26112\n",
       "6 season      SWM     -3.38408 5.00000 14.25 13.59  26.67  -71.81265\n",
       "  data_source\n",
       "1 genetics   \n",
       "2 genetics   \n",
       "3 genetics   \n",
       "4 genetics   \n",
       "5 genetics   \n",
       "6 genetics   "
      ]
     },
     "metadata": {},
     "output_type": "display_data"
    }
   ],
   "source": [
    "#make a summary table for all time frames of genetic data\n",
    "GenKernels <- as.data.frame(matrix(NA, nrow = 6, ncol = 8))\n",
    "setDT(GenKernels)\n",
    "setnames(GenKernels, c(\"time_scale\", \"time_id\", \"k\", \"theta\", \"mdd\", \"med\", \"dist90\", \"log_like\"))\n",
    "#GenKernels <- data.table(time_scale=character(), time_id=character(), k=numeric(), theta=numeric(), mdd=numeric(), med=numeric(), dist90=numeric())\n",
    "\n",
    "\n",
    "BestK2012 <- as.numeric(coef(Gen2012Fit)[1])\n",
    "BestTheta2012 <- as.numeric(coef(Gen2012Fit)[2])\n",
    "MDD2012 <- as.numeric(cubintegrate(integrate_kernel_sum1, lower = 0, upper = Inf, k=BestK2012, theta=BestTheta2012, , method = \"pcubature\")$integral)\n",
    "k_eval <- BestK2012\n",
    "theta_eval <- BestTheta2012\n",
    "Med2012  <- round(nleqslv(x = 7, fn = cdf_solve)$x, 2) \n",
    "Dist90_2012 <- round(nleqslv(x = 7, fn = cdf_solve90)$x, 2)\n",
    "\n",
    "GenKernels$time_scale[1] <- \"annual\"\n",
    "GenKernels$time_id[1] <- \"2012\"\n",
    "GenKernels$k[1] <-  BestK2012\n",
    "GenKernels$theta[1] <- BestTheta2012\n",
    "GenKernels$mdd[1] <- MDD2012\n",
    "GenKernels$med[1] <- Med2012\n",
    "GenKernels$dist90[1] <- Dist90_2012\n",
    "GenKernels$log_like[1] <- logLik(Gen2012Fit)[1]\n",
    "\n",
    "BestK2013 <- as.numeric(coef(Gen2013Fit)[1])\n",
    "BestTheta2013 <- as.numeric(coef(Gen2013Fit)[2])\n",
    "MDD2013 <- as.numeric(cubintegrate(integrate_kernel_sum1, lower = 0, upper = Inf, k=BestK2013, theta=BestTheta2013, , method = \"pcubature\")$integral)\n",
    "k_eval <- BestK2013\n",
    "theta_eval <- BestTheta2013\n",
    "Med2013  <- round(nleqslv(x = 7, fn = cdf_solve)$x, 2) \n",
    "Dist90_2013 <- round(nleqslv(x = 7, fn = cdf_solve90)$x, 2)\n",
    "\n",
    "GenKernels$time_scale[2] <- \"annual\"\n",
    "GenKernels$time_id[2] <- \"2013\"\n",
    "GenKernels$k[2] <-  BestK2013\n",
    "GenKernels$theta[2] <- BestTheta2013\n",
    "GenKernels$mdd[2] <- MDD2013\n",
    "GenKernels$med[2] <- Med2013\n",
    "GenKernels$dist90[2] <- Dist90_2013\n",
    "GenKernels$log_like[2] <- logLik(Gen2013Fit)[1]\n",
    "\n",
    "BestK2014 <- as.numeric(coef(Gen2014Fit)[1])\n",
    "BestTheta2014 <- as.numeric(coef(Gen2014Fit)[2])\n",
    "MDD2014 <- as.numeric(cubintegrate(integrate_kernel_sum1, lower = 0, upper = Inf, k=BestK2014, theta=BestTheta2014, , method = \"pcubature\")$integral)\n",
    "k_eval <- BestK2014\n",
    "theta_eval <- BestTheta2014\n",
    "Med2014  <- round(nleqslv(x = 7, fn = cdf_solve)$x, 2) \n",
    "Dist90_2014 <- round(nleqslv(x = 7, fn = cdf_solve90)$x, 2)\n",
    "\n",
    "GenKernels$time_scale[3] <- \"annual\"\n",
    "GenKernels$time_id[3] <- \"2014\"\n",
    "GenKernels$k[3] <-  BestK2014\n",
    "GenKernels$theta[3] <- BestTheta2014\n",
    "GenKernels$mdd[3] <- MDD2014\n",
    "GenKernels$med[3] <- Med2014\n",
    "GenKernels$dist90[3] <- Dist90_2014\n",
    "GenKernels$log_like[3] <- logLik(Gen2014Fit)[1]\n",
    "\n",
    "BestK2012_4 <- as.numeric(coef(Gen2012_4Fit)[1])\n",
    "BestTheta2012_4 <- as.numeric(coef(Gen2012_4Fit)[2])\n",
    "MDD2012_4 <- as.numeric(cubintegrate(integrate_kernel_sum1, lower = 0, upper = Inf, k=BestK2012_4, theta=BestTheta2012_4, , method = \"pcubature\")$integral)\n",
    "k_eval <- BestK2012_4\n",
    "theta_eval <- BestTheta2012_4\n",
    "Med2012_4  <- round(nleqslv(x = 7, fn = cdf_solve)$x, 2) \n",
    "Dist90_2012_4 <- round(nleqslv(x = 7, fn = cdf_solve90)$x, 2)\n",
    "\n",
    "GenKernels$time_scale[4] <- \"interannual\"\n",
    "GenKernels$time_id[4] <- \"2012-4\"\n",
    "GenKernels$k[4] <-  BestK2012_4\n",
    "GenKernels$theta[4] <- BestTheta2012_4\n",
    "GenKernels$mdd[4] <- MDD2012_4\n",
    "GenKernels$med[4] <- Med2012_4\n",
    "GenKernels$dist90[4] <- Dist90_2012_4\n",
    "GenKernels$log_like[4] <- logLik(Gen2012_4Fit)[1]\n",
    "\n",
    "BestKNEM <- as.numeric(coef(GenNEMFit)[1])\n",
    "BestThetaNEM <- as.numeric(coef(GenNEMFit)[2])\n",
    "MDDNEM <- as.numeric(cubintegrate(integrate_kernel_sum1, lower = 0, upper = Inf, k=BestKNEM, theta=BestThetaNEM, , method = \"pcubature\")$integral)\n",
    "k_eval <- BestKNEM\n",
    "theta_eval <- BestThetaNEM\n",
    "MedNEM  <- round(nleqslv(x = 7, fn = cdf_solve)$x, 2) \n",
    "Dist90_NEM <- round(nleqslv(x = 7, fn = cdf_solve90)$x, 2)\n",
    "\n",
    "GenKernels$time_scale[5] <- \"season\"\n",
    "GenKernels$time_id[5] <- \"NEM\"\n",
    "GenKernels$k[5] <-  BestKNEM\n",
    "GenKernels$theta[5] <- BestThetaNEM\n",
    "GenKernels$mdd[5] <- MDDNEM\n",
    "GenKernels$med[5] <- MedNEM\n",
    "GenKernels$dist90[5] <- Dist90_NEM\n",
    "GenKernels$log_like[5] <- logLik(GenNEMFit)[1]\n",
    "\n",
    "BestKSWM <- as.numeric(coef(GenSWMFit)[1])\n",
    "BestThetaSWM <- as.numeric(coef(GenSWMFit)[2])\n",
    "MDDSWM <- as.numeric(cubintegrate(integrate_kernel_sum1, lower = 0, upper = Inf, k=BestKSWM, theta=BestThetaSWM, , method = \"pcubature\")$integral)\n",
    "k_eval <- BestKSWM\n",
    "theta_eval <- BestThetaSWM\n",
    "MedSWM  <- round(nleqslv(x = 7, fn = cdf_solve)$x, 2) \n",
    "Dist90_SWM <- round(nleqslv(x = 7, fn = cdf_solve90)$x, 2)\n",
    "\n",
    "GenKernels$time_scale[6] <- \"season\"\n",
    "GenKernels$time_id[6] <- \"SWM\"\n",
    "GenKernels$k[6] <-  BestKSWM\n",
    "GenKernels$theta[6] <- BestThetaSWM\n",
    "GenKernels$mdd[6] <- MDDSWM\n",
    "GenKernels$med[6] <- MedSWM\n",
    "GenKernels$dist90[6] <- Dist90_SWM\n",
    "GenKernels$log_like[6] <- logLik(GenSWMFit)[1]\n",
    "\n",
    "GenKernels[, `:=`(k=round(k, 5), theta=round(theta, 5), mdd=round(mdd, 2), med=round(med, 2), dist90=round(dist90, 2), data_source=\"genetics\"), by=\"time_id\"]\n",
    "\n",
    "#fwrite(GenKernels, file=\"script_output/KernelFits/summary_tables/GeneticKernelFits.csv\")\n",
    "\n",
    "\n",
    "GenKernels\n",
    "\n"
   ]
  },
  {
   "cell_type": "markdown",
   "metadata": {
    "scrolled": false
   },
   "source": [
    "__next three cells are copied and pasted from my github code for this notebook when it worked in september. if it doesn't work as expected again, troubleshoot from there__"
   ]
  },
  {
   "cell_type": "code",
   "execution_count": null,
   "metadata": {},
   "outputs": [],
   "source": [
    "options(digits=15)\n",
    "# use a grid search to find k that minimizes the log likelihood\n",
    "#LogLikeSim2012 <- setDT(expand.grid(k_eval=seq(from=-5, to=10, length.out = 2000), theta_eval=seq(from=0.1, to=5, length.out = 200)))\n",
    "#LogLikeSim2012[, log_like := LL_kt_grid(k=k_eval, theta=theta_eval, Distances=biophys_par_data2012$Distances, Assignments=biophys_par_data2012$Assignments, Sampled_reefs=biophys_par_data2012$Sampled_reefs, Reef_sizes=biophys_par_data2012$Reef_sizes, Adult_sample_proportions=biophys_par_data2012$Adult_sample_proportions), by=.(k_eval, theta_eval)]   #write profile results\n",
    "fwrite(LogLikeSim2012, file=\"script_output/KernelFits/profiles/LikelihoodProfile-Biophysical-2012-08DayPLD.csv\")\n",
    "\n",
    "LogLikeSim2013 <- setDT(expand.grid(k_eval=seq(from=-10, to=10, length.out = 2000), theta_eval=seq(from=0.1, to=5, length.out = 20000)))\n",
    "LogLikeSim2013[, log_like := LL_kt_grid(k=k_eval, theta=theta_eval, Distances=biophys_par_data2013$Distances, Assignments=biophys_par_data2013$Assignments, Sampled_reefs=biophys_par_data2013$Sampled_reefs, Reef_sizes=biophys_par_data2013$Reef_sizes, Adult_sample_proportions=biophys_par_data2013$Adult_sample_proportions), by=.(k_eval, theta_eval)] \n",
    "#write profile results\n",
    "fwrite(LogLikeSim2013, file=\"script_output/KernelFits/profiles/LikelihoodProfile-Biophysical-2013-08DayPLD.csv\")\n",
    "\n",
    "LogLikeSim2014 <- setDT(expand.grid(k_eval=seq(from=-10, to=10, length.out = 2000), theta_eval=seq(from=0.1, to=5, length.out = 20000)))\n",
    "LogLikeSim2014[, log_like := LL_kt_grid(k=k_eval, theta=theta_eval, Distances=biophys_par_data2014$Distances, Assignments=biophys_par_data2014$Assignments, Sampled_reefs=biophys_par_data2014$Sampled_reefs, Reef_sizes=biophys_par_data2014$Reef_sizes, Adult_sample_proportions=biophys_par_data2014$Adult_sample_proportions), by=.(k_eval, theta_eval)] \n",
    "#write profile results\n",
    "fwrite(LogLikeSim2014, file=\"script_output/KernelFits/profiles/LikelihoodProfile-Biophysical-2014-08DayPLD.csv\")\n",
    "\n",
    "LogLikeSim2012_4 <- setDT(expand.grid(k_eval=seq(from=-10, to=10, length.out = 2000), theta_eval=seq(from=0.1, to=5, length.out = 20000)))\n",
    "LogLikeSim2012_4[, log_like := LL_kt_grid(k=k_eval, theta=theta_eval, Distances=biophys_par_data2012_4$Distances, Assignments=biophys_par_data2012_4$Assignments, Sampled_reefs=biophys_par_data2012_4$Sampled_reefs, Reef_sizes=biophys_par_data2012_4$Reef_sizes, Adult_sample_proportions=biophys_par_data2012_4$Adult_sample_proportions), by=.(k_eval, theta_eval)] \n",
    "#write profile results\n",
    "fwrite(LogLikeSim2012_4, file=\"script_output/KernelFits/profiles/LikelihoodProfile-Biophysical-2012-4-08DayPLD.csv\")\n",
    "\n",
    "LogLikeSimNEM <- setDT(expand.grid(k_eval=seq(from=-10, to=10, length.out = 2000), theta_eval=seq(from=0.1, to=5, length.out = 20000)))\n",
    "LogLikeSimNEM[, log_like := LL_kt_grid(k=k_eval, theta=theta_eval, Distances=biophys_par_dataNEM$Distances, Assignments=biophys_par_dataNEM$Assignments, Sampled_reefs=biophys_par_dataNEM$Sampled_reefs, Reef_sizes=biophys_par_dataNEM$Reef_sizes, Adult_sample_proportions=biophys_par_dataNEM$Adult_sample_proportions), by=.(k_eval, theta_eval)] \n",
    "#write profile results\n",
    "fwrite(LogLikeSimNEM, file=\"script_output/KernelFits/profiles/LikelihoodProfile-Biophysical-NEM-08DayPLD.csv\")\n",
    "\n",
    "LogLikeSimSWM <- setDT(expand.grid(k_eval=seq(from=-5, to=5, length.out = 2000), theta_eval=seq(from=0.1, to=5, length.out = 20000)))\n",
    "LogLikeSimSWM[, log_like := LL_kt_grid(k=k_eval, theta=theta_eval, Distances=biophys_par_dataSWM$Distances, Assignments=biophys_par_dataSWM$Assignments, Sampled_reefs=biophys_par_dataSWM$Sampled_reefs, Reef_sizes=biophys_par_dataSWM$Reef_sizes, Adult_sample_proportions=biophys_par_dataSWM$Adult_sample_proportions), by=.(k_eval, theta_eval)] \n",
    "#write profile results\n",
    "fwrite(LogLikeSimSWM, file=\"script_output/KernelFits/profiles/LikelihoodProfile-Biophysical-SWM-08DayPLD.csv\")\n",
    "\n",
    "##also for genetics\n",
    "#LogLikeGen2012 <- setDT(expand.grid(k_eval=seq(from=-10, to=10, length.out = 2000), theta_eval=seq(from=0.1, to=5, length.out = 200)))\n",
    "#LogLikeGen2012[, log_like := LL_kt_grid(k=k_eval, theta=theta_eval, Distances=par_data2012$Distances, Assignments=par_data2012$Assignments, Sampled_reefs=par_data2012$Sampled_reefs, Reef_sizes=par_data2012$Reef_sizes, Adult_sample_proportions=par_data2012$Adult_sample_proportions), by=.(k_eval, theta_eval)] \n",
    "##write profile results\n",
    "#fwrite(LogLikeGen2012, file=\"script_output/KernelFits/profiles/LikelihoodProfileGenetic2012.csv\")\n",
    "#\n",
    "#LogLikeGen2013 <- setDT(expand.grid(k_eval=seq(from=-10, to=10, length.out = 2000), theta_eval=seq(from=0.1, to=5, length.out = 200)))\n",
    "#LogLikeGen2013[, log_like := LL_kt_grid(k=k_eval, theta=theta_eval, Distances=par_data2013$Distances, Assignments=par_data2013$Assignments, Sampled_reefs=par_data2013$Sampled_reefs, Reef_sizes=par_data2013$Reef_sizes, Adult_sample_proportions=par_data2013$Adult_sample_proportions), by=.(k_eval, theta_eval)] \n",
    "##write profile results\n",
    "#fwrite(LogLikeGen2013, file=\"script_output/KernelFits/profiles/LikelihoodProfileGenetic2013.csv\")\n",
    "#\n",
    "#LogLikeGen2014 <- setDT(expand.grid(k_eval=seq(from=-10, to=10, length.out = 2000), theta_eval=seq(from=0.1, to=5, length.out = 200)))\n",
    "#LogLikeGen2014[, log_like := LL_kt_grid(k=k_eval, theta=theta_eval, Distances=par_data2014$Distances, Assignments=par_data2014$Assignments, Sampled_reefs=par_data2014$Sampled_reefs, Reef_sizes=par_data2014$Reef_sizes, Adult_sample_proportions=par_data2014$Adult_sample_proportions), by=.(k_eval, theta_eval)] \n",
    "##write profile results\n",
    "#fwrite(LogLikeGen2014, file=\"script_output/KernelFits/profiles/LikelihoodProfileGenetic2014.csv\")\n",
    "#\n",
    "#LogLikeGen2012_4 <- setDT(expand.grid(k_eval=seq(from=-10, to=10, length.out = 2000), theta_eval=seq(from=0.1, to=5, length.out = 200)))\n",
    "#LogLikeGen2012_4[, log_like := LL_kt_grid(k=k_eval, theta=theta_eval, Distances=par_data2012_4$Distances, Assignments=par_data2012_4$Assignments, Sampled_reefs=par_data2012_4$Sampled_reefs, Reef_sizes=par_data2012_4$Reef_sizes, Adult_sample_proportions=par_data2012_4$Adult_sample_proportions), by=.(k_eval, theta_eval)] \n",
    "##write profile results\n",
    "#fwrite(LogLikeGen2012_4, file=\"script_output/KernelFits/profiles/LikelihoodProfileGenetic2012_4.csv\")\n",
    "#\n",
    "#LogLikeGenNEM <- setDT(expand.grid(k_eval=seq(from=-10, to=10, length.out = 2000), theta_eval=seq(from=0.1, to=5, length.out = 200)))\n",
    "#LogLikeGenNEM[, log_like := LL_kt_grid(k=k_eval, theta=theta_eval, Distances=par_dataNEM$Distances, Assignments=par_dataNEM$Assignments, Sampled_reefs=par_dataNEM$Sampled_reefs, Reef_sizes=par_dataNEM$Reef_sizes, Adult_sample_proportions=par_dataNEM$Adult_sample_proportions), by=.(k_eval, theta_eval)] \n",
    "##write profile results\n",
    "#fwrite(LogLikeGenNEM, file=\"script_output/KernelFits/profiles/LikelihoodProfileGeneticNEM.csv\")\n",
    "#\n",
    "#LogLikeGenSWM <- setDT(expand.grid(k_eval=seq(from=-10, to=10, length.out = 2000), theta_eval=seq(from=0.1, to=5, length.out = 200)))\n",
    "#LogLikeGenSWM[, log_like := LL_kt_grid(k=k_eval, theta=theta_eval, Distances=par_dataSWM$Distances, Assignments=par_dataSWM$Assignments, Sampled_reefs=par_dataSWM$Sampled_reefs, Reef_sizes=par_dataSWM$Reef_sizes, Adult_sample_proportions=par_dataSWM$Adult_sample_proportions), by=.(k_eval, theta_eval)] \n",
    "##write profile results\n",
    "#fwrite(LogLikeGenSWM, file=\"script_output/KernelFits/profiles/LikelihoodProfileGeneticSWM.csv\")\n"
   ]
  },
  {
   "cell_type": "code",
   "execution_count": null,
   "metadata": {},
   "outputs": [],
   "source": [
    "LogLikeSim2012 <- setDT(expand.grid(k_eval=seq(from=-10, to=10, length.out = 2000), theta_eval=seq(from=0.1, to=5, length.out = 20000)))\n",
    "LogLikeSim2012[, log_like := LL_kt_grid(k=k_eval, theta=theta_eval, Distances=biophys_par_data2012$Distances, Assignments=biophys_par_data2012$Assignments, Sampled_reefs=biophys_par_data2012$Sampled_reefs, Reef_sizes=biophys_par_data2012$Reef_sizes, Adult_sample_proportions=biophys_par_data2012$Adult_sample_proportions), by=.(k_eval, theta_eval)]   #write profile results\n"
   ]
  },
  {
   "cell_type": "code",
   "execution_count": 61,
   "metadata": {},
   "outputs": [
    {
     "data": {
      "text/html": [
       "<table>\n",
       "<thead><tr><th scope=col>k_eval</th><th scope=col>theta_eval</th><th scope=col>log_like</th></tr></thead>\n",
       "<tbody>\n",
       "\t<tr><td>-10.00000000000000</td><td>0.1               </td><td>1401457.68451435  </td></tr>\n",
       "\t<tr><td> -9.98999499749875</td><td>0.1               </td><td>1401413.45217715  </td></tr>\n",
       "\t<tr><td> -9.97998999499750</td><td>0.1               </td><td>1401369.17564605  </td></tr>\n",
       "\t<tr><td> -9.96998499249625</td><td>0.1               </td><td>1401324.85487698  </td></tr>\n",
       "\t<tr><td> -9.95997998999500</td><td>0.1               </td><td>1401280.48982588  </td></tr>\n",
       "\t<tr><td> -9.94997498749375</td><td>0.1               </td><td>1401236.08044861  </td></tr>\n",
       "</tbody>\n",
       "</table>\n"
      ],
      "text/latex": [
       "\\begin{tabular}{r|lll}\n",
       " k\\_eval & theta\\_eval & log\\_like\\\\\n",
       "\\hline\n",
       "\t -10.00000000000000 & 0.1                & 1401457.68451435  \\\\\n",
       "\t  -9.98999499749875 & 0.1                & 1401413.45217715  \\\\\n",
       "\t  -9.97998999499750 & 0.1                & 1401369.17564605  \\\\\n",
       "\t  -9.96998499249625 & 0.1                & 1401324.85487698  \\\\\n",
       "\t  -9.95997998999500 & 0.1                & 1401280.48982588  \\\\\n",
       "\t  -9.94997498749375 & 0.1                & 1401236.08044861  \\\\\n",
       "\\end{tabular}\n"
      ],
      "text/markdown": [
       "\n",
       "| k_eval | theta_eval | log_like |\n",
       "|---|---|---|\n",
       "| -10.00000000000000 | 0.1                | 1401457.68451435   |\n",
       "|  -9.98999499749875 | 0.1                | 1401413.45217715   |\n",
       "|  -9.97998999499750 | 0.1                | 1401369.17564605   |\n",
       "|  -9.96998499249625 | 0.1                | 1401324.85487698   |\n",
       "|  -9.95997998999500 | 0.1                | 1401280.48982588   |\n",
       "|  -9.94997498749375 | 0.1                | 1401236.08044861   |\n",
       "\n"
      ],
      "text/plain": [
       "  k_eval             theta_eval log_like        \n",
       "1 -10.00000000000000 0.1        1401457.68451435\n",
       "2  -9.98999499749875 0.1        1401413.45217715\n",
       "3  -9.97998999499750 0.1        1401369.17564605\n",
       "4  -9.96998499249625 0.1        1401324.85487698\n",
       "5  -9.95997998999500 0.1        1401280.48982588\n",
       "6  -9.94997498749375 0.1        1401236.08044861"
      ]
     },
     "metadata": {},
     "output_type": "display_data"
    },
    {
     "data": {
      "text/html": [
       "<table>\n",
       "<thead><tr><th scope=col>k_eval</th><th scope=col>theta_eval</th><th scope=col>log_like</th></tr></thead>\n",
       "<tbody>\n",
       "\t<tr><td>-0.415207603801901</td><td>0.642702135106755 </td><td>725766.277920341  </td></tr>\n",
       "\t<tr><td>-0.415207603801901</td><td>0.642947147357368 </td><td>725768.345962222  </td></tr>\n",
       "\t<tr><td>-0.415207603801901</td><td>0.643192159607980 </td><td>725771.644617087  </td></tr>\n",
       "\t<tr><td>-0.425212606303152</td><td>0.644172208610431 </td><td>725772.081192132  </td></tr>\n",
       "\t<tr><td>-0.425212606303152</td><td>0.644417220861043 </td><td>725771.650369160  </td></tr>\n",
       "\t<tr><td>-0.425212606303152</td><td>0.644662233111656 </td><td>725772.437680529  </td></tr>\n",
       "</tbody>\n",
       "</table>\n"
      ],
      "text/latex": [
       "\\begin{tabular}{r|lll}\n",
       " k\\_eval & theta\\_eval & log\\_like\\\\\n",
       "\\hline\n",
       "\t -0.415207603801901 & 0.642702135106755  & 725766.277920341  \\\\\n",
       "\t -0.415207603801901 & 0.642947147357368  & 725768.345962222  \\\\\n",
       "\t -0.415207603801901 & 0.643192159607980  & 725771.644617087  \\\\\n",
       "\t -0.425212606303152 & 0.644172208610431  & 725772.081192132  \\\\\n",
       "\t -0.425212606303152 & 0.644417220861043  & 725771.650369160  \\\\\n",
       "\t -0.425212606303152 & 0.644662233111656  & 725772.437680529  \\\\\n",
       "\\end{tabular}\n"
      ],
      "text/markdown": [
       "\n",
       "| k_eval | theta_eval | log_like |\n",
       "|---|---|---|\n",
       "| -0.415207603801901 | 0.642702135106755  | 725766.277920341   |\n",
       "| -0.415207603801901 | 0.642947147357368  | 725768.345962222   |\n",
       "| -0.415207603801901 | 0.643192159607980  | 725771.644617087   |\n",
       "| -0.425212606303152 | 0.644172208610431  | 725772.081192132   |\n",
       "| -0.425212606303152 | 0.644417220861043  | 725771.650369160   |\n",
       "| -0.425212606303152 | 0.644662233111656  | 725772.437680529   |\n",
       "\n"
      ],
      "text/plain": [
       "  k_eval             theta_eval        log_like        \n",
       "1 -0.415207603801901 0.642702135106755 725766.277920341\n",
       "2 -0.415207603801901 0.642947147357368 725768.345962222\n",
       "3 -0.415207603801901 0.643192159607980 725771.644617087\n",
       "4 -0.425212606303152 0.644172208610431 725772.081192132\n",
       "5 -0.425212606303152 0.644417220861043 725771.650369160\n",
       "6 -0.425212606303152 0.644662233111656 725772.437680529"
      ]
     },
     "metadata": {},
     "output_type": "display_data"
    }
   ],
   "source": [
    "head(LogLikeSim2012)\n",
    "tail(LogLikeSim2012[log_like < cutoff_Sim2012])"
   ]
  },
  {
   "cell_type": "code",
   "execution_count": 31,
   "metadata": {},
   "outputs": [
    {
     "data": {
      "text/html": [
       "1401457.68451435"
      ],
      "text/latex": [
       "1401457.68451435"
      ],
      "text/markdown": [
       "1401457.68451435"
      ],
      "text/plain": [
       "[1] 1401458"
      ]
     },
     "metadata": {},
     "output_type": "display_data"
    }
   ],
   "source": [
    "LL_kt_grid(k=-10, theta=.1, Distances=biophys_par_data2012$Distances, Assignments=biophys_par_data2012$Assignments, Sampled_reefs=biophys_par_data2012$Sampled_reefs, Reef_sizes=biophys_par_data2012$Reef_sizes, Adult_sample_proportions=biophys_par_data2012$Adult_sample_proportions)  #write profile results"
   ]
  },
  {
   "cell_type": "code",
   "execution_count": null,
   "metadata": {},
   "outputs": [],
   "source": [
    "##genetics\n",
    "#cutoff_Gen2012 <- min(LogLikeGen2012$log_like) + qchisq(.90, 2)/2 #use the 95% quantile of the chi-sq distribution with two df because it's bivariate\n",
    "#\n",
    "#cutoff_Gen2013 <- min(LogLikeGen2013$log_like) + qchisq(.90, 2)/2 #use the 95% quantile of the chi-sq distribution with two df because it's bivariate\n",
    "#\n",
    "#cutoff_Gen2014 <- min(LogLikeGen2014$log_like) + qchisq(.90, 2)/2 #use the 95% quantile of the chi-sq distribution with two df because it's bivariate\n",
    "#\n",
    "#cutoff_Gen2012_4 <- min(LogLikeGen2012_4$log_like) + qchisq(.90, 2)/2 #use the 95% quantile of the chi-sq distribution with two df because it's bivariate\n",
    "#\n",
    "#cutoff_GenNEM <- min(LogLikeGenNEM$log_like) + qchisq(.90, 2)/2 #use the 95% quantile of the chi-sq distribution with two df because it's bivariate\n",
    "#\n",
    "#cutoff_GenSWM <- min(LogLikeGenSWM$log_like) + qchisq(.90, 2)/2 #use the 95% quantile of the chi-sq distribution with two df because it's bivariate\n",
    "#\n",
    "#biophysical simulation\n",
    "cutoff_Sim2012 <- min(LogLikeSim2012$log_like) + qchisq(.90, 2)/2 #use the 95% quantile of the chi-sq distribution with two df because it's bivariate\n",
    "\n",
    "cutoff_Sim2013 <- min(LogLikeSim2013$log_like) + qchisq(.90, 2)/2 #use the 95% quantile of the chi-sq distribution with two df because it's bivariate\n",
    "\n",
    "cutoff_Sim2014 <- min(LogLikeSim2014$log_like) + qchisq(.90, 2)/2 #use the 95% quantile of the chi-sq distribution with two df because it's bivariate\n",
    "\n",
    "cutoff_Sim2012_4 <- min(LogLikeSim2012_4$log_like) + qchisq(.90, 2)/2 #use the 95% quantile of the chi-sq distribution with two df because it's bivariate\n",
    "\n",
    "cutoff_SimNEM <- min(LogLikeSimNEM$log_like) + qchisq(.90, 2)/2 #use the 95% quantile of the chi-sq distribution with two df because it's bivariate\n",
    "\n",
    "cutoff_SimSWM <- min(LogLikeSimSWM$log_like) + qchisq(.90, 2)/2 #use the 95% quantile of the chi-sq distribution with two df because it's bivariate\n"
   ]
  },
  {
   "cell_type": "code",
   "execution_count": 55,
   "metadata": {},
   "outputs": [
    {
     "data": {
      "text/html": [
       "<table>\n",
       "<thead><tr><th scope=col>time_scale</th><th scope=col>time_id</th><th scope=col>k</th><th scope=col>theta</th><th scope=col>mdd</th><th scope=col>med</th><th scope=col>dist90</th><th scope=col>log_like</th><th scope=col>data_source</th></tr></thead>\n",
       "<tbody>\n",
       "\t<tr><td>annual             </td><td>2012               </td><td>-0.3875125382529303</td><td>0.637026052468532  </td><td>3.77822423644382   </td><td>2.09641041113457   </td><td> 9.30505888780661  </td><td> -725758.169795862 </td><td>simulation         </td></tr>\n",
       "\t<tr><td>annual             </td><td>2013               </td><td>-0.6423771894499601</td><td>0.679254254139089  </td><td>4.08070541961774   </td><td>2.35190528319043   </td><td> 9.96781212981102  </td><td> -662951.384904839 </td><td>simulation         </td></tr>\n",
       "\t<tr><td>annual             </td><td>2014               </td><td> 0.0756533363405335</td><td>0.564143762474149  </td><td>3.50478307903728   </td><td>1.79726295628089   </td><td> 8.74907418644373  </td><td> -629397.429098801 </td><td>simulation         </td></tr>\n",
       "\t<tr><td>interannual        </td><td>2012-4             </td><td>-0.3123180929957831</td><td>0.621492970172060  </td><td>3.77061337467421   </td><td>2.06050058551574   </td><td> 9.31404394988521  </td><td>-2021633.646682530 </td><td>simulation         </td></tr>\n",
       "\t<tr><td>season             </td><td>NEM                </td><td>-0.4315197928815913</td><td>0.656926228161586  </td><td>3.61771857692861   </td><td>2.04484175562624   </td><td> 8.87549325337996  </td><td>-1864791.296696837 </td><td>simulation         </td></tr>\n",
       "\t<tr><td>season             </td><td>SWM                </td><td> 0.2388352595758526</td><td>0.467389332921739  </td><td>6.35451159370473   </td><td>2.82610202823881   </td><td>16.08577990682851  </td><td> -128013.078959091 </td><td>simulation         </td></tr>\n",
       "</tbody>\n",
       "</table>\n"
      ],
      "text/latex": [
       "\\begin{tabular}{r|lllllllll}\n",
       " time\\_scale & time\\_id & k & theta & mdd & med & dist90 & log\\_like & data\\_source\\\\\n",
       "\\hline\n",
       "\t annual              & 2012                & -0.3875125382529303 & 0.637026052468532   & 3.77822423644382    & 2.09641041113457    &  9.30505888780661   &  -725758.169795862  & simulation         \\\\\n",
       "\t annual              & 2013                & -0.6423771894499601 & 0.679254254139089   & 4.08070541961774    & 2.35190528319043    &  9.96781212981102   &  -662951.384904839  & simulation         \\\\\n",
       "\t annual              & 2014                &  0.0756533363405335 & 0.564143762474149   & 3.50478307903728    & 1.79726295628089    &  8.74907418644373   &  -629397.429098801  & simulation         \\\\\n",
       "\t interannual         & 2012-4              & -0.3123180929957831 & 0.621492970172060   & 3.77061337467421    & 2.06050058551574    &  9.31404394988521   & -2021633.646682530  & simulation         \\\\\n",
       "\t season              & NEM                 & -0.4315197928815913 & 0.656926228161586   & 3.61771857692861    & 2.04484175562624    &  8.87549325337996   & -1864791.296696837  & simulation         \\\\\n",
       "\t season              & SWM                 &  0.2388352595758526 & 0.467389332921739   & 6.35451159370473    & 2.82610202823881    & 16.08577990682851   &  -128013.078959091  & simulation         \\\\\n",
       "\\end{tabular}\n"
      ],
      "text/markdown": [
       "\n",
       "| time_scale | time_id | k | theta | mdd | med | dist90 | log_like | data_source |\n",
       "|---|---|---|---|---|---|---|---|---|\n",
       "| annual              | 2012                | -0.3875125382529303 | 0.637026052468532   | 3.77822423644382    | 2.09641041113457    |  9.30505888780661   |  -725758.169795862  | simulation          |\n",
       "| annual              | 2013                | -0.6423771894499601 | 0.679254254139089   | 4.08070541961774    | 2.35190528319043    |  9.96781212981102   |  -662951.384904839  | simulation          |\n",
       "| annual              | 2014                |  0.0756533363405335 | 0.564143762474149   | 3.50478307903728    | 1.79726295628089    |  8.74907418644373   |  -629397.429098801  | simulation          |\n",
       "| interannual         | 2012-4              | -0.3123180929957831 | 0.621492970172060   | 3.77061337467421    | 2.06050058551574    |  9.31404394988521   | -2021633.646682530  | simulation          |\n",
       "| season              | NEM                 | -0.4315197928815913 | 0.656926228161586   | 3.61771857692861    | 2.04484175562624    |  8.87549325337996   | -1864791.296696837  | simulation          |\n",
       "| season              | SWM                 |  0.2388352595758526 | 0.467389332921739   | 6.35451159370473    | 2.82610202823881    | 16.08577990682851   |  -128013.078959091  | simulation          |\n",
       "\n"
      ],
      "text/plain": [
       "  time_scale  time_id k                   theta             mdd             \n",
       "1 annual      2012    -0.3875125382529303 0.637026052468532 3.77822423644382\n",
       "2 annual      2013    -0.6423771894499601 0.679254254139089 4.08070541961774\n",
       "3 annual      2014     0.0756533363405335 0.564143762474149 3.50478307903728\n",
       "4 interannual 2012-4  -0.3123180929957831 0.621492970172060 3.77061337467421\n",
       "5 season      NEM     -0.4315197928815913 0.656926228161586 3.61771857692861\n",
       "6 season      SWM      0.2388352595758526 0.467389332921739 6.35451159370473\n",
       "  med              dist90            log_like           data_source\n",
       "1 2.09641041113457  9.30505888780661  -725758.169795862 simulation \n",
       "2 2.35190528319043  9.96781212981102  -662951.384904839 simulation \n",
       "3 1.79726295628089  8.74907418644373  -629397.429098801 simulation \n",
       "4 2.06050058551574  9.31404394988521 -2021633.646682530 simulation \n",
       "5 2.04484175562624  8.87549325337996 -1864791.296696837 simulation \n",
       "6 2.82610202823881 16.08577990682851  -128013.078959091 simulation "
      ]
     },
     "metadata": {},
     "output_type": "display_data"
    }
   ],
   "source": [
    "SimKernels"
   ]
  },
  {
   "cell_type": "code",
   "execution_count": 62,
   "metadata": {},
   "outputs": [
    {
     "data": {
      "text/html": [
       "<table>\n",
       "<thead><tr><th scope=col>k_eval</th><th scope=col>theta_eval</th></tr></thead>\n",
       "<tbody>\n",
       "\t<tr><td>-0.425212606303152</td><td>0.630206510325516 </td></tr>\n",
       "\t<tr><td>-0.425177571276884</td><td>0.630206510325516 </td></tr>\n",
       "\t<tr><td>-0.425142536250617</td><td>0.630206510325516 </td></tr>\n",
       "\t<tr><td>-0.425107501224349</td><td>0.630206510325516 </td></tr>\n",
       "\t<tr><td>-0.425072466198082</td><td>0.630206510325516 </td></tr>\n",
       "\t<tr><td>-0.425037431171814</td><td>0.630206510325516 </td></tr>\n",
       "</tbody>\n",
       "</table>\n"
      ],
      "text/latex": [
       "\\begin{tabular}{r|ll}\n",
       " k\\_eval & theta\\_eval\\\\\n",
       "\\hline\n",
       "\t -0.425212606303152 & 0.630206510325516 \\\\\n",
       "\t -0.425177571276884 & 0.630206510325516 \\\\\n",
       "\t -0.425142536250617 & 0.630206510325516 \\\\\n",
       "\t -0.425107501224349 & 0.630206510325516 \\\\\n",
       "\t -0.425072466198082 & 0.630206510325516 \\\\\n",
       "\t -0.425037431171814 & 0.630206510325516 \\\\\n",
       "\\end{tabular}\n"
      ],
      "text/markdown": [
       "\n",
       "| k_eval | theta_eval |\n",
       "|---|---|\n",
       "| -0.425212606303152 | 0.630206510325516  |\n",
       "| -0.425177571276884 | 0.630206510325516  |\n",
       "| -0.425142536250617 | 0.630206510325516  |\n",
       "| -0.425107501224349 | 0.630206510325516  |\n",
       "| -0.425072466198082 | 0.630206510325516  |\n",
       "| -0.425037431171814 | 0.630206510325516  |\n",
       "\n"
      ],
      "text/plain": [
       "  k_eval             theta_eval       \n",
       "1 -0.425212606303152 0.630206510325516\n",
       "2 -0.425177571276884 0.630206510325516\n",
       "3 -0.425142536250617 0.630206510325516\n",
       "4 -0.425107501224349 0.630206510325516\n",
       "5 -0.425072466198082 0.630206510325516\n",
       "6 -0.425037431171814 0.630206510325516"
      ]
     },
     "metadata": {},
     "output_type": "display_data"
    }
   ],
   "source": []
  },
  {
   "cell_type": "code",
   "execution_count": 63,
   "metadata": {},
   "outputs": [
    {
     "data": {
      "text/html": [
       "<table>\n",
       "<thead><tr><th scope=col>k_eval</th><th scope=col>theta_eval</th></tr></thead>\n",
       "<tbody>\n",
       "\t<tr><td>-0.355352763925735</td><td>0.644662233111656 </td></tr>\n",
       "\t<tr><td>-0.355317728899468</td><td>0.644662233111656 </td></tr>\n",
       "\t<tr><td>-0.355282693873200</td><td>0.644662233111656 </td></tr>\n",
       "\t<tr><td>-0.355247658846933</td><td>0.644662233111656 </td></tr>\n",
       "\t<tr><td>-0.355212623820665</td><td>0.644662233111656 </td></tr>\n",
       "\t<tr><td>-0.355177588794398</td><td>0.644662233111656 </td></tr>\n",
       "</tbody>\n",
       "</table>\n"
      ],
      "text/latex": [
       "\\begin{tabular}{r|ll}\n",
       " k\\_eval & theta\\_eval\\\\\n",
       "\\hline\n",
       "\t -0.355352763925735 & 0.644662233111656 \\\\\n",
       "\t -0.355317728899468 & 0.644662233111656 \\\\\n",
       "\t -0.355282693873200 & 0.644662233111656 \\\\\n",
       "\t -0.355247658846933 & 0.644662233111656 \\\\\n",
       "\t -0.355212623820665 & 0.644662233111656 \\\\\n",
       "\t -0.355177588794398 & 0.644662233111656 \\\\\n",
       "\\end{tabular}\n"
      ],
      "text/markdown": [
       "\n",
       "| k_eval | theta_eval |\n",
       "|---|---|\n",
       "| -0.355352763925735 | 0.644662233111656  |\n",
       "| -0.355317728899468 | 0.644662233111656  |\n",
       "| -0.355282693873200 | 0.644662233111656  |\n",
       "| -0.355247658846933 | 0.644662233111656  |\n",
       "| -0.355212623820665 | 0.644662233111656  |\n",
       "| -0.355177588794398 | 0.644662233111656  |\n",
       "\n"
      ],
      "text/plain": [
       "  k_eval             theta_eval       \n",
       "1 -0.355352763925735 0.644662233111656\n",
       "2 -0.355317728899468 0.644662233111656\n",
       "3 -0.355282693873200 0.644662233111656\n",
       "4 -0.355247658846933 0.644662233111656\n",
       "5 -0.355212623820665 0.644662233111656\n",
       "6 -0.355177588794398 0.644662233111656"
      ]
     },
     "metadata": {},
     "output_type": "display_data"
    }
   ],
   "source": []
  },
  {
   "cell_type": "code",
   "execution_count": 53,
   "metadata": {},
   "outputs": [
    {
     "data": {
      "text/html": [
       "<table>\n",
       "<thead><tr><th scope=col>k_eval</th><th scope=col>theta_eval</th><th scope=col>log_like</th></tr></thead>\n",
       "<tbody>\n",
       "\t<tr><td>-0.415207603801901</td><td>0.641708542713568 </td><td>725770.499080579  </td></tr>\n",
       "</tbody>\n",
       "</table>\n"
      ],
      "text/latex": [
       "\\begin{tabular}{r|lll}\n",
       " k\\_eval & theta\\_eval & log\\_like\\\\\n",
       "\\hline\n",
       "\t -0.415207603801901 & 0.641708542713568  & 725770.499080579  \\\\\n",
       "\\end{tabular}\n"
      ],
      "text/markdown": [
       "\n",
       "| k_eval | theta_eval | log_like |\n",
       "|---|---|---|\n",
       "| -0.415207603801901 | 0.641708542713568  | 725770.499080579   |\n",
       "\n"
      ],
      "text/plain": [
       "  k_eval             theta_eval        log_like        \n",
       "1 -0.415207603801901 0.641708542713568 725770.499080579"
      ]
     },
     "metadata": {},
     "output_type": "display_data"
    },
    {
     "data": {
      "text/html": [
       "<table>\n",
       "<thead><tr><th scope=col>k_eval</th><th scope=col>theta_eval</th><th scope=col>log_like</th></tr></thead>\n",
       "<tbody>\n",
       "\t<tr><td>-0.415207603801901</td><td>0.641708542713568 </td><td>725770.499080579  </td></tr>\n",
       "</tbody>\n",
       "</table>\n"
      ],
      "text/latex": [
       "\\begin{tabular}{r|lll}\n",
       " k\\_eval & theta\\_eval & log\\_like\\\\\n",
       "\\hline\n",
       "\t -0.415207603801901 & 0.641708542713568  & 725770.499080579  \\\\\n",
       "\\end{tabular}\n"
      ],
      "text/markdown": [
       "\n",
       "| k_eval | theta_eval | log_like |\n",
       "|---|---|---|\n",
       "| -0.415207603801901 | 0.641708542713568  | 725770.499080579   |\n",
       "\n"
      ],
      "text/plain": [
       "  k_eval             theta_eval        log_like        \n",
       "1 -0.415207603801901 0.641708542713568 725770.499080579"
      ]
     },
     "metadata": {},
     "output_type": "display_data"
    }
   ],
   "source": [
    "test[log_like < cutoff_Sim2012]#[k_eval==min(k_eval)]\n",
    "test[log_like < cutoff_Sim2012][k_eval==max(k_eval)]"
   ]
  },
  {
   "cell_type": "code",
   "execution_count": null,
   "metadata": {},
   "outputs": [],
   "source": []
  },
  {
   "cell_type": "code",
   "execution_count": null,
   "metadata": {},
   "outputs": [],
   "source": [
    "LogLikeSim2012 <- setDT(expand.grid(k_eval=seq(from=unique(LogLikeSim2012[log_like < cutoff_Sim2012][k_eval==min(k_eval), k_eval]), to=unique(LogLikeSim2012[log_like < cutoff_Sim2012][k_eval==max(k_eval), k_eval]), length.out = 2000), theta_eval=seq(from=unique(LogLikeSim2012[log_like < cutoff_Sim2012][theta_eval==min(theta_eval), theta_eval]), to=unique(LogLikeSim2012[log_like < cutoff_Sim2012][theta_eval==max(theta_eval), theta_eval]), length.out = 500)))\n",
    "LogLikeSim2012[, log_like := LL_kt_grid(k=k_eval, theta=theta_eval, Distances=biophys_par_data2012$Distances, Assignments=biophys_par_data2012$Assignments, Sampled_reefs=biophys_par_data2012$Sampled_reefs, Reef_sizes=biophys_par_data2012$Reef_sizes, Adult_sample_proportions=biophys_par_data2012$Adult_sample_proportions), by=.(k_eval, theta_eval)]   #write profile results\n",
    "fwrite(LogLikeSim2012, file=\"script_output/KernelFits/profiles/LikelihoodProfile-Biophysical-2012-NarrowSearch-08DayPLD.csv\")\n",
    "\n",
    "LogLikeSim2013 <- setDT(expand.grid(k_eval=seq(from=unique(LogLikeSim2013[log_like < cutoff_Sim2013][k_eval==min(k_eval), k_eval]), to=unique(LogLikeSim2013[log_like < cutoff_Sim2013][k_eval==max(k_eval), k_eval]), length.out = 2000), theta_eval=seq(from=unique(LogLikeSim2013[log_like < cutoff_Sim2013][theta_eval==min(theta_eval), theta_eval]), to=unique(LogLikeSim2013[log_like < cutoff_Sim2013][theta_eval==max(theta_eval), theta_eval]), length.out = 500)))\n",
    "LogLikeSim2013[, log_like := LL_kt_grid(k=k_eval, theta=theta_eval, Distances=biophys_par_data2013$Distances, Assignments=biophys_par_data2013$Assignments, Sampled_reefs=biophys_par_data2013$Sampled_reefs, Reef_sizes=biophys_par_data2013$Reef_sizes, Adult_sample_proportions=biophys_par_data2013$Adult_sample_proportions), by=.(k_eval, theta_eval)]   #write profile results\n",
    "fwrite(LogLikeSim2013, file=\"script_output/KernelFits/profiles/LikelihoodProfile-Biophysical-2013-NarrowSearch-08DayPLD.csv\")\n",
    "\n",
    "LogLikeSim2014 <- setDT(expand.grid(k_eval=seq(from=unique(LogLikeSim2014[log_like < cutoff_Sim2014][k_eval==min(k_eval), k_eval]), to=unique(LogLikeSim2014[log_like < cutoff_Sim2014][k_eval==max(k_eval), k_eval]), length.out = 2000), theta_eval=seq(from=unique(LogLikeSim2014[log_like < cutoff_Sim2014][theta_eval==min(theta_eval), theta_eval]), to=unique(LogLikeSim2014[log_like < cutoff_Sim2014][theta_eval==max(theta_eval), theta_eval]), length.out = 500)))\n",
    "LogLikeSim2014[, log_like := LL_kt_grid(k=k_eval, theta=theta_eval, Distances=biophys_par_data2014$Distances, Assignments=biophys_par_data2014$Assignments, Sampled_reefs=biophys_par_data2014$Sampled_reefs, Reef_sizes=biophys_par_data2014$Reef_sizes, Adult_sample_proportions=biophys_par_data2014$Adult_sample_proportions), by=.(k_eval, theta_eval)]   #write profile results\n",
    "fwrite(LogLikeSim2014, file=\"script_output/KernelFits/profiles/LikelihoodProfile-Biophysical-2014-NarrowSearch-08DayPLD.csv\")\n",
    "\n",
    "LogLikeSim2012_4 <- setDT(expand.grid(k_eval=seq(from=unique(LogLikeSim2012_4[log_like < cutoff_Sim2012_4][k_eval==min(k_eval), k_eval]), to=unique(LogLikeSim2012_4[log_like < cutoff_Sim2012_4][k_eval==max(k_eval), k_eval]), length.out = 2000), theta_eval=seq(from=unique(LogLikeSim2012_4[log_like < cutoff_Sim2012_4][theta_eval==min(theta_eval), theta_eval]), to=unique(LogLikeSim2012_4[log_like < cutoff_Sim2012_4][theta_eval==max(theta_eval), theta_eval]), length.out = 500)))\n",
    "LogLikeSim2012_4[, log_like := LL_kt_grid(k=k_eval, theta=theta_eval, Distances=biophys_par_data2012_4$Distances, Assignments=biophys_par_data2012_4$Assignments, Sampled_reefs=biophys_par_data2012_4$Sampled_reefs, Reef_sizes=biophys_par_data2012_4$Reef_sizes, Adult_sample_proportions=biophys_par_data2012_4$Adult_sample_proportions), by=.(k_eval, theta_eval)]   #write profile results\n",
    "fwrite(LogLikeSim2012_4, file=\"script_output/KernelFits/profiles/LikelihoodProfile-Biophysical-2012-4-NarrowSearch-08DayPLD.csv\")\n",
    "\n",
    "LogLikeSimNEM <- setDT(expand.grid(k_eval=seq(from=unique(LogLikeSimNEM[log_like < cutoff_SimNEM][k_eval==min(k_eval), k_eval]), to=unique(LogLikeSimNEM[log_like < cutoff_SimNEM][k_eval==max(k_eval), k_eval]), length.out = 2000), theta_eval=seq(from=unique(LogLikeSimNEM[log_like < cutoff_SimNEM][theta_eval==min(theta_eval), theta_eval]), to=unique(LogLikeSimNEM[log_like < cutoff_SimNEM][theta_eval==max(theta_eval), theta_eval]), length.out = 500)))\n",
    "LogLikeSimNEM[, log_like := LL_kt_grid(k=k_eval, theta=theta_eval, Distances=biophys_par_dataNEM$Distances, Assignments=biophys_par_dataNEM$Assignments, Sampled_reefs=biophys_par_dataNEM$Sampled_reefs, Reef_sizes=biophys_par_dataNEM$Reef_sizes, Adult_sample_proportions=biophys_par_dataNEM$Adult_sample_proportions), by=.(k_eval, theta_eval)]   #write profile results\n",
    "fwrite(LogLikeSimNEM, file=\"script_output/KernelFits/profiles/LikelihoodProfile-Biophysical-NEM-NarrowSearch-08DayPLD.csv\")\n",
    "\n",
    "LogLikeSimSWM <- setDT(expand.grid(k_eval=seq(from=unique(LogLikeSimSWM[log_like < cutoff_SimSWM][k_eval==min(k_eval), k_eval]), to=unique(LogLikeSimSWM[log_like < cutoff_SimSWM][k_eval==max(k_eval), k_eval]), length.out = 2000), theta_eval=seq(from=unique(LogLikeSimSWM[log_like < cutoff_SimSWM][theta_eval==min(theta_eval), theta_eval]), to=unique(LogLikeSimSWM[log_like < cutoff_SimSWM][theta_eval==max(theta_eval), theta_eval]), length.out = 500)))\n",
    "LogLikeSimSWM[, log_like := LL_kt_grid(k=k_eval, theta=theta_eval, Distances=biophys_par_dataSWM$Distances, Assignments=biophys_par_dataSWM$Assignments, Sampled_reefs=biophys_par_dataSWM$Sampled_reefs, Reef_sizes=biophys_par_dataSWM$Reef_sizes, Adult_sample_proportions=biophys_par_dataSWM$Adult_sample_proportions), by=.(k_eval, theta_eval)]   #write profile results\n",
    "fwrite(LogLikeSimSWM, file=\"script_output/KernelFits/profiles/LikelihoodProfile-Biophysical-SWM-NarrowSearch-08DayPLD.csv\")\n",
    "\n",
    "##genetics\n",
    "#LogLikeGen2012 <- setDT(expand.grid(k_eval=seq(from=unique(LogLikeGen2012[log_like < cutoff_Gen2012][k_eval==min(k_eval), k_eval]), to=unique(LogLikeGen2012[log_like < cutoff_Gen2012][k_eval==max(k_eval), k_eval]), length.out = 2000), theta_eval=seq(from=unique(LogLikeGen2012[log_like < cutoff_Gen2012][theta_eval==min(theta_eval), theta_eval]), to=unique(LogLikeGen2012[log_like < cutoff_Gen2012][theta_eval==max(theta_eval), theta_eval]), length.out = 500)))\n",
    "#LogLikeGen2012[, log_like := LL_kt_grid(k=k_eval, theta=theta_eval, Distances=par_data2012$Distances, Assignments=par_data2012$Assignments, Sampled_reefs=par_data2012$Sampled_reefs, Reef_sizes=par_data2012$Reef_sizes, Adult_sample_proportions=par_data2012$Adult_sample_proportions), by=.(k_eval, theta_eval)]   #write profile results\n",
    "#fwrite(LogLikeGen2012, file=\"script_output/KernelFits/profiles/LikelihoodProfileGenetic2012NarrowSearch.csv\")\n",
    "#\n",
    "#LogLikeGen2013 <- setDT(expand.grid(k_eval=seq(from=unique(LogLikeGen2013[log_like < cutoff_Gen2013][k_eval==min(k_eval), k_eval]), to=unique(LogLikeGen2013[log_like < cutoff_Gen2013][k_eval==max(k_eval), k_eval]), length.out = 2000), theta_eval=seq(from=unique(LogLikeGen2013[log_like < cutoff_Gen2013][theta_eval==min(theta_eval), theta_eval]), to=unique(LogLikeGen2013[log_like < cutoff_Gen2013][theta_eval==max(theta_eval), theta_eval]), length.out = 500)))\n",
    "#LogLikeGen2013[, log_like := LL_kt_grid(k=k_eval, theta=theta_eval, Distances=par_data2013$Distances, Assignments=par_data2013$Assignments, Sampled_reefs=par_data2013$Sampled_reefs, Reef_sizes=par_data2013$Reef_sizes, Adult_sample_proportions=par_data2013$Adult_sample_proportions), by=.(k_eval, theta_eval)]   #write profile results\n",
    "#fwrite(LogLikeGen2013, file=\"script_output/KernelFits/profiles/LikelihoodProfileGenetic2013NarrowSearch.csv\")\n",
    "#\n",
    "#LogLikeGen2014 <- setDT(expand.grid(k_eval=seq(from=unique(LogLikeGen2014[log_like < cutoff_Gen2014][k_eval==min(k_eval), k_eval]), to=unique(LogLikeGen2014[log_like < cutoff_Gen2014][k_eval==max(k_eval), k_eval]), length.out = 2000), theta_eval=seq(from=unique(LogLikeGen2014[log_like < cutoff_Gen2014][theta_eval==min(theta_eval), theta_eval]), to=unique(LogLikeGen2014[log_like < cutoff_Gen2014][theta_eval==max(theta_eval), theta_eval]), length.out = 500)))\n",
    "#LogLikeGen2014[, log_like := LL_kt_grid(k=k_eval, theta=theta_eval, Distances=par_data2014$Distances, Assignments=par_data2014$Assignments, Sampled_reefs=par_data2014$Sampled_reefs, Reef_sizes=par_data2014$Reef_sizes, Adult_sample_proportions=par_data2014$Adult_sample_proportions), by=.(k_eval, theta_eval)]   #write profile results\n",
    "#fwrite(LogLikeGen2014, file=\"script_output/KernelFits/profiles/LikelihoodProfileGenetic2014NarrowSearch.csv\")\n",
    "#\n",
    "#LogLikeGen2012_4 <- setDT(expand.grid(k_eval=seq(from=unique(LogLikeGen2012_4[log_like < cutoff_Gen2012_4][k_eval==min(k_eval), k_eval]), to=unique(LogLikeGen2012_4[log_like < cutoff_Gen2012_4][k_eval==max(k_eval), k_eval]), length.out = 2000), theta_eval=seq(from=unique(LogLikeGen2012_4[log_like < cutoff_Gen2012_4][theta_eval==min(theta_eval), theta_eval]), to=unique(LogLikeGen2012_4[log_like < cutoff_Gen2012_4][theta_eval==max(theta_eval), theta_eval]), length.out = 500)))\n",
    "#LogLikeGen2012_4[, log_like := LL_kt_grid(k=k_eval, theta=theta_eval, Distances=par_data2012_4$Distances, Assignments=par_data2012_4$Assignments, Sampled_reefs=par_data2012_4$Sampled_reefs, Reef_sizes=par_data2012_4$Reef_sizes, Adult_sample_proportions=par_data2012_4$Adult_sample_proportions), by=.(k_eval, theta_eval)]   #write profile results\n",
    "#fwrite(LogLikeGen2012_4, file=\"script_output/KernelFits/profiles/LikelihoodProfileGenetic2012_4NarrowSearch.csv\")\n",
    "#\n",
    "#LogLikeGenNEM <- setDT(expand.grid(k_eval=seq(from=unique(LogLikeGenNEM[log_like < cutoff_GenNEM][k_eval==min(k_eval), k_eval]), to=unique(LogLikeGenNEM[log_like < cutoff_GenNEM][k_eval==max(k_eval), k_eval]), length.out = 2000), theta_eval=seq(from=unique(LogLikeGenNEM[log_like < cutoff_GenNEM][theta_eval==min(theta_eval), theta_eval]), to=unique(LogLikeGenNEM[log_like < cutoff_GenNEM][theta_eval==max(theta_eval), theta_eval]), length.out = 500)))\n",
    "#LogLikeGenNEM[, log_like := LL_kt_grid(k=k_eval, theta=theta_eval, Distances=par_dataNEM$Distances, Assignments=par_dataNEM$Assignments, Sampled_reefs=par_dataNEM$Sampled_reefs, Reef_sizes=par_dataNEM$Reef_sizes, Adult_sample_proportions=par_dataNEM$Adult_sample_proportions), by=.(k_eval, theta_eval)]   #write profile results\n",
    "#fwrite(LogLikeGenNEM, file=\"script_output/KernelFits/profiles/LikelihoodProfileGeneticNEMNarrowSearch.csv\")\n",
    "#\n",
    "#LogLikeGenSWM <- setDT(expand.grid(k_eval=seq(from=unique(LogLikeGenSWM[log_like < cutoff_GenSWM][k_eval==min(k_eval), k_eval]), to=unique(LogLikeGenSWM[log_like < cutoff_GenSWM][k_eval==max(k_eval), k_eval]), length.out = 2000), theta_eval=seq(from=unique(LogLikeGenSWM[log_like < cutoff_GenSWM][theta_eval==min(theta_eval), theta_eval]), to=unique(LogLikeGenSWM[log_like < cutoff_GenSWM][theta_eval==max(theta_eval), theta_eval]), length.out = 500)))\n",
    "#LogLikeGenSWM[, log_like := LL_kt_grid(k=k_eval, theta=theta_eval, Distances=par_dataSWM$Distances, Assignments=par_dataSWM$Assignments, Sampled_reefs=par_dataSWM$Sampled_reefs, Reef_sizes=par_dataSWM$Reef_sizes, Adult_sample_proportions=par_dataSWM$Adult_sample_proportions), by=.(k_eval, theta_eval)]   #write profile results\n",
    "#fwrite(LogLikeGenSWM, file=\"script_output/KernelFits/profiles/LikelihoodProfileGeneticSWMNarrowSearch.csv\")\n"
   ]
  },
  {
   "cell_type": "code",
   "execution_count": 70,
   "metadata": {},
   "outputs": [
    {
     "data": {
      "text/html": [
       "<table>\n",
       "<thead><tr><th scope=col>Cabatoan</th><th scope=col>Caridad Cemetery</th><th scope=col>Caridad Proper</th><th scope=col>Elementary School</th><th scope=col>Haina</th><th scope=col>Hicgop South</th><th scope=col>Magbangon</th><th scope=col>Palanas</th><th scope=col>Poroc Rose</th><th scope=col>Poroc San Flower</th><th scope=col>San Agustin</th><th scope=col>Sitio Baybayon</th><th scope=col>Sitio Lonas</th><th scope=col>Tamakin Dacot</th><th scope=col>Visca</th><th scope=col>Wangag</th></tr></thead>\n",
       "<tbody>\n",
       "\t<tr><td> TRUE</td><td> TRUE</td><td> TRUE</td><td> TRUE</td><td> TRUE</td><td> TRUE</td><td>FALSE</td><td> TRUE</td><td>TRUE </td><td>TRUE </td><td>TRUE </td><td> TRUE</td><td>TRUE </td><td> TRUE</td><td> TRUE</td><td> TRUE</td></tr>\n",
       "\t<tr><td> TRUE</td><td> TRUE</td><td> TRUE</td><td> TRUE</td><td> TRUE</td><td> TRUE</td><td> TRUE</td><td> TRUE</td><td>TRUE </td><td>TRUE </td><td>TRUE </td><td> TRUE</td><td>TRUE </td><td> TRUE</td><td> TRUE</td><td> TRUE</td></tr>\n",
       "\t<tr><td> TRUE</td><td> TRUE</td><td> TRUE</td><td> TRUE</td><td> TRUE</td><td> TRUE</td><td> TRUE</td><td> TRUE</td><td>TRUE </td><td>TRUE </td><td>TRUE </td><td> TRUE</td><td>TRUE </td><td> TRUE</td><td> TRUE</td><td> TRUE</td></tr>\n",
       "\t<tr><td> TRUE</td><td> TRUE</td><td> TRUE</td><td> TRUE</td><td> TRUE</td><td> TRUE</td><td> TRUE</td><td> TRUE</td><td>TRUE </td><td>TRUE </td><td>TRUE </td><td> TRUE</td><td>TRUE </td><td> TRUE</td><td> TRUE</td><td> TRUE</td></tr>\n",
       "\t<tr><td> TRUE</td><td> TRUE</td><td> TRUE</td><td> TRUE</td><td> TRUE</td><td> TRUE</td><td> TRUE</td><td> TRUE</td><td>TRUE </td><td>TRUE </td><td>TRUE </td><td> TRUE</td><td>TRUE </td><td> TRUE</td><td> TRUE</td><td>FALSE</td></tr>\n",
       "\t<tr><td> TRUE</td><td> TRUE</td><td> TRUE</td><td> TRUE</td><td> TRUE</td><td> TRUE</td><td> TRUE</td><td> TRUE</td><td>TRUE </td><td>TRUE </td><td>TRUE </td><td> TRUE</td><td>TRUE </td><td> TRUE</td><td> TRUE</td><td> TRUE</td></tr>\n",
       "\t<tr><td>FALSE</td><td> TRUE</td><td> TRUE</td><td> TRUE</td><td>FALSE</td><td> TRUE</td><td> TRUE</td><td> TRUE</td><td>TRUE </td><td>TRUE </td><td>TRUE </td><td> TRUE</td><td>TRUE </td><td> TRUE</td><td> TRUE</td><td> TRUE</td></tr>\n",
       "\t<tr><td> TRUE</td><td> TRUE</td><td> TRUE</td><td>FALSE</td><td> TRUE</td><td> TRUE</td><td>FALSE</td><td>FALSE</td><td>TRUE </td><td>TRUE </td><td>TRUE </td><td> TRUE</td><td>TRUE </td><td> TRUE</td><td> TRUE</td><td>FALSE</td></tr>\n",
       "\t<tr><td> TRUE</td><td> TRUE</td><td> TRUE</td><td> TRUE</td><td> TRUE</td><td> TRUE</td><td> TRUE</td><td> TRUE</td><td>TRUE </td><td>TRUE </td><td>TRUE </td><td> TRUE</td><td>TRUE </td><td> TRUE</td><td> TRUE</td><td> TRUE</td></tr>\n",
       "\t<tr><td> TRUE</td><td> TRUE</td><td> TRUE</td><td> TRUE</td><td> TRUE</td><td> TRUE</td><td> TRUE</td><td> TRUE</td><td>TRUE </td><td>TRUE </td><td>TRUE </td><td> TRUE</td><td>TRUE </td><td> TRUE</td><td> TRUE</td><td> TRUE</td></tr>\n",
       "\t<tr><td> TRUE</td><td> TRUE</td><td> TRUE</td><td> TRUE</td><td> TRUE</td><td> TRUE</td><td> TRUE</td><td> TRUE</td><td>TRUE </td><td>TRUE </td><td>TRUE </td><td> TRUE</td><td>TRUE </td><td> TRUE</td><td> TRUE</td><td> TRUE</td></tr>\n",
       "\t<tr><td> TRUE</td><td> TRUE</td><td> TRUE</td><td> TRUE</td><td> TRUE</td><td> TRUE</td><td> TRUE</td><td>FALSE</td><td>TRUE </td><td>TRUE </td><td>TRUE </td><td>FALSE</td><td>TRUE </td><td> TRUE</td><td> TRUE</td><td>FALSE</td></tr>\n",
       "\t<tr><td> TRUE</td><td> TRUE</td><td> TRUE</td><td> TRUE</td><td> TRUE</td><td> TRUE</td><td> TRUE</td><td> TRUE</td><td>TRUE </td><td>TRUE </td><td>TRUE </td><td> TRUE</td><td>TRUE </td><td> TRUE</td><td> TRUE</td><td> TRUE</td></tr>\n",
       "\t<tr><td> TRUE</td><td> TRUE</td><td> TRUE</td><td> TRUE</td><td> TRUE</td><td> TRUE</td><td> TRUE</td><td> TRUE</td><td>TRUE </td><td>TRUE </td><td>TRUE </td><td> TRUE</td><td>TRUE </td><td> TRUE</td><td> TRUE</td><td> TRUE</td></tr>\n",
       "\t<tr><td> TRUE</td><td> TRUE</td><td> TRUE</td><td> TRUE</td><td> TRUE</td><td> TRUE</td><td> TRUE</td><td>FALSE</td><td>TRUE </td><td>TRUE </td><td>TRUE </td><td> TRUE</td><td>TRUE </td><td> TRUE</td><td>FALSE</td><td> TRUE</td></tr>\n",
       "\t<tr><td> TRUE</td><td> TRUE</td><td> TRUE</td><td> TRUE</td><td> TRUE</td><td> TRUE</td><td> TRUE</td><td>FALSE</td><td>TRUE </td><td>TRUE </td><td>TRUE </td><td> TRUE</td><td>TRUE </td><td> TRUE</td><td> TRUE</td><td>FALSE</td></tr>\n",
       "\t<tr><td>FALSE</td><td>FALSE</td><td>FALSE</td><td>FALSE</td><td>FALSE</td><td>FALSE</td><td>FALSE</td><td>FALSE</td><td>TRUE </td><td>TRUE </td><td>TRUE </td><td>FALSE</td><td>TRUE </td><td>FALSE</td><td>FALSE</td><td>FALSE</td></tr>\n",
       "</tbody>\n",
       "</table>\n"
      ],
      "text/latex": [
       "\\begin{tabular}{llllllllllllllll}\n",
       " Cabatoan & Caridad Cemetery & Caridad Proper & Elementary School & Haina & Hicgop South & Magbangon & Palanas & Poroc Rose & Poroc San Flower & San Agustin & Sitio Baybayon & Sitio Lonas & Tamakin Dacot & Visca & Wangag\\\\\n",
       "\\hline\n",
       "\t  TRUE &  TRUE &  TRUE &  TRUE &  TRUE &  TRUE & FALSE &  TRUE & TRUE  & TRUE  & TRUE  &  TRUE & TRUE  &  TRUE &  TRUE &  TRUE\\\\\n",
       "\t  TRUE &  TRUE &  TRUE &  TRUE &  TRUE &  TRUE &  TRUE &  TRUE & TRUE  & TRUE  & TRUE  &  TRUE & TRUE  &  TRUE &  TRUE &  TRUE\\\\\n",
       "\t  TRUE &  TRUE &  TRUE &  TRUE &  TRUE &  TRUE &  TRUE &  TRUE & TRUE  & TRUE  & TRUE  &  TRUE & TRUE  &  TRUE &  TRUE &  TRUE\\\\\n",
       "\t  TRUE &  TRUE &  TRUE &  TRUE &  TRUE &  TRUE &  TRUE &  TRUE & TRUE  & TRUE  & TRUE  &  TRUE & TRUE  &  TRUE &  TRUE &  TRUE\\\\\n",
       "\t  TRUE &  TRUE &  TRUE &  TRUE &  TRUE &  TRUE &  TRUE &  TRUE & TRUE  & TRUE  & TRUE  &  TRUE & TRUE  &  TRUE &  TRUE & FALSE\\\\\n",
       "\t  TRUE &  TRUE &  TRUE &  TRUE &  TRUE &  TRUE &  TRUE &  TRUE & TRUE  & TRUE  & TRUE  &  TRUE & TRUE  &  TRUE &  TRUE &  TRUE\\\\\n",
       "\t FALSE &  TRUE &  TRUE &  TRUE & FALSE &  TRUE &  TRUE &  TRUE & TRUE  & TRUE  & TRUE  &  TRUE & TRUE  &  TRUE &  TRUE &  TRUE\\\\\n",
       "\t  TRUE &  TRUE &  TRUE & FALSE &  TRUE &  TRUE & FALSE & FALSE & TRUE  & TRUE  & TRUE  &  TRUE & TRUE  &  TRUE &  TRUE & FALSE\\\\\n",
       "\t  TRUE &  TRUE &  TRUE &  TRUE &  TRUE &  TRUE &  TRUE &  TRUE & TRUE  & TRUE  & TRUE  &  TRUE & TRUE  &  TRUE &  TRUE &  TRUE\\\\\n",
       "\t  TRUE &  TRUE &  TRUE &  TRUE &  TRUE &  TRUE &  TRUE &  TRUE & TRUE  & TRUE  & TRUE  &  TRUE & TRUE  &  TRUE &  TRUE &  TRUE\\\\\n",
       "\t  TRUE &  TRUE &  TRUE &  TRUE &  TRUE &  TRUE &  TRUE &  TRUE & TRUE  & TRUE  & TRUE  &  TRUE & TRUE  &  TRUE &  TRUE &  TRUE\\\\\n",
       "\t  TRUE &  TRUE &  TRUE &  TRUE &  TRUE &  TRUE &  TRUE & FALSE & TRUE  & TRUE  & TRUE  & FALSE & TRUE  &  TRUE &  TRUE & FALSE\\\\\n",
       "\t  TRUE &  TRUE &  TRUE &  TRUE &  TRUE &  TRUE &  TRUE &  TRUE & TRUE  & TRUE  & TRUE  &  TRUE & TRUE  &  TRUE &  TRUE &  TRUE\\\\\n",
       "\t  TRUE &  TRUE &  TRUE &  TRUE &  TRUE &  TRUE &  TRUE &  TRUE & TRUE  & TRUE  & TRUE  &  TRUE & TRUE  &  TRUE &  TRUE &  TRUE\\\\\n",
       "\t  TRUE &  TRUE &  TRUE &  TRUE &  TRUE &  TRUE &  TRUE & FALSE & TRUE  & TRUE  & TRUE  &  TRUE & TRUE  &  TRUE & FALSE &  TRUE\\\\\n",
       "\t  TRUE &  TRUE &  TRUE &  TRUE &  TRUE &  TRUE &  TRUE & FALSE & TRUE  & TRUE  & TRUE  &  TRUE & TRUE  &  TRUE &  TRUE & FALSE\\\\\n",
       "\t FALSE & FALSE & FALSE & FALSE & FALSE & FALSE & FALSE & FALSE & TRUE  & TRUE  & TRUE  & FALSE & TRUE  & FALSE & FALSE & FALSE\\\\\n",
       "\\end{tabular}\n"
      ],
      "text/markdown": [
       "\n",
       "| Cabatoan | Caridad Cemetery | Caridad Proper | Elementary School | Haina | Hicgop South | Magbangon | Palanas | Poroc Rose | Poroc San Flower | San Agustin | Sitio Baybayon | Sitio Lonas | Tamakin Dacot | Visca | Wangag |\n",
       "|---|---|---|---|---|---|---|---|---|---|---|---|---|---|---|---|\n",
       "|  TRUE |  TRUE |  TRUE |  TRUE |  TRUE |  TRUE | FALSE |  TRUE | TRUE  | TRUE  | TRUE  |  TRUE | TRUE  |  TRUE |  TRUE |  TRUE |\n",
       "|  TRUE |  TRUE |  TRUE |  TRUE |  TRUE |  TRUE |  TRUE |  TRUE | TRUE  | TRUE  | TRUE  |  TRUE | TRUE  |  TRUE |  TRUE |  TRUE |\n",
       "|  TRUE |  TRUE |  TRUE |  TRUE |  TRUE |  TRUE |  TRUE |  TRUE | TRUE  | TRUE  | TRUE  |  TRUE | TRUE  |  TRUE |  TRUE |  TRUE |\n",
       "|  TRUE |  TRUE |  TRUE |  TRUE |  TRUE |  TRUE |  TRUE |  TRUE | TRUE  | TRUE  | TRUE  |  TRUE | TRUE  |  TRUE |  TRUE |  TRUE |\n",
       "|  TRUE |  TRUE |  TRUE |  TRUE |  TRUE |  TRUE |  TRUE |  TRUE | TRUE  | TRUE  | TRUE  |  TRUE | TRUE  |  TRUE |  TRUE | FALSE |\n",
       "|  TRUE |  TRUE |  TRUE |  TRUE |  TRUE |  TRUE |  TRUE |  TRUE | TRUE  | TRUE  | TRUE  |  TRUE | TRUE  |  TRUE |  TRUE |  TRUE |\n",
       "| FALSE |  TRUE |  TRUE |  TRUE | FALSE |  TRUE |  TRUE |  TRUE | TRUE  | TRUE  | TRUE  |  TRUE | TRUE  |  TRUE |  TRUE |  TRUE |\n",
       "|  TRUE |  TRUE |  TRUE | FALSE |  TRUE |  TRUE | FALSE | FALSE | TRUE  | TRUE  | TRUE  |  TRUE | TRUE  |  TRUE |  TRUE | FALSE |\n",
       "|  TRUE |  TRUE |  TRUE |  TRUE |  TRUE |  TRUE |  TRUE |  TRUE | TRUE  | TRUE  | TRUE  |  TRUE | TRUE  |  TRUE |  TRUE |  TRUE |\n",
       "|  TRUE |  TRUE |  TRUE |  TRUE |  TRUE |  TRUE |  TRUE |  TRUE | TRUE  | TRUE  | TRUE  |  TRUE | TRUE  |  TRUE |  TRUE |  TRUE |\n",
       "|  TRUE |  TRUE |  TRUE |  TRUE |  TRUE |  TRUE |  TRUE |  TRUE | TRUE  | TRUE  | TRUE  |  TRUE | TRUE  |  TRUE |  TRUE |  TRUE |\n",
       "|  TRUE |  TRUE |  TRUE |  TRUE |  TRUE |  TRUE |  TRUE | FALSE | TRUE  | TRUE  | TRUE  | FALSE | TRUE  |  TRUE |  TRUE | FALSE |\n",
       "|  TRUE |  TRUE |  TRUE |  TRUE |  TRUE |  TRUE |  TRUE |  TRUE | TRUE  | TRUE  | TRUE  |  TRUE | TRUE  |  TRUE |  TRUE |  TRUE |\n",
       "|  TRUE |  TRUE |  TRUE |  TRUE |  TRUE |  TRUE |  TRUE |  TRUE | TRUE  | TRUE  | TRUE  |  TRUE | TRUE  |  TRUE |  TRUE |  TRUE |\n",
       "|  TRUE |  TRUE |  TRUE |  TRUE |  TRUE |  TRUE |  TRUE | FALSE | TRUE  | TRUE  | TRUE  |  TRUE | TRUE  |  TRUE | FALSE |  TRUE |\n",
       "|  TRUE |  TRUE |  TRUE |  TRUE |  TRUE |  TRUE |  TRUE | FALSE | TRUE  | TRUE  | TRUE  |  TRUE | TRUE  |  TRUE |  TRUE | FALSE |\n",
       "| FALSE | FALSE | FALSE | FALSE | FALSE | FALSE | FALSE | FALSE | TRUE  | TRUE  | TRUE  | FALSE | TRUE  | FALSE | FALSE | FALSE |\n",
       "\n"
      ],
      "text/plain": [
       "      Cabatoan Caridad Cemetery Caridad Proper Elementary School Haina\n",
       " [1,]  TRUE     TRUE             TRUE           TRUE              TRUE\n",
       " [2,]  TRUE     TRUE             TRUE           TRUE              TRUE\n",
       " [3,]  TRUE     TRUE             TRUE           TRUE              TRUE\n",
       " [4,]  TRUE     TRUE             TRUE           TRUE              TRUE\n",
       " [5,]  TRUE     TRUE             TRUE           TRUE              TRUE\n",
       " [6,]  TRUE     TRUE             TRUE           TRUE              TRUE\n",
       " [7,] FALSE     TRUE             TRUE           TRUE             FALSE\n",
       " [8,]  TRUE     TRUE             TRUE          FALSE              TRUE\n",
       " [9,]  TRUE     TRUE             TRUE           TRUE              TRUE\n",
       "[10,]  TRUE     TRUE             TRUE           TRUE              TRUE\n",
       "[11,]  TRUE     TRUE             TRUE           TRUE              TRUE\n",
       "[12,]  TRUE     TRUE             TRUE           TRUE              TRUE\n",
       "[13,]  TRUE     TRUE             TRUE           TRUE              TRUE\n",
       "[14,]  TRUE     TRUE             TRUE           TRUE              TRUE\n",
       "[15,]  TRUE     TRUE             TRUE           TRUE              TRUE\n",
       "[16,]  TRUE     TRUE             TRUE           TRUE              TRUE\n",
       "[17,] FALSE    FALSE            FALSE          FALSE             FALSE\n",
       "      Hicgop South Magbangon Palanas Poroc Rose Poroc San Flower San Agustin\n",
       " [1,]  TRUE        FALSE      TRUE   TRUE       TRUE             TRUE       \n",
       " [2,]  TRUE         TRUE      TRUE   TRUE       TRUE             TRUE       \n",
       " [3,]  TRUE         TRUE      TRUE   TRUE       TRUE             TRUE       \n",
       " [4,]  TRUE         TRUE      TRUE   TRUE       TRUE             TRUE       \n",
       " [5,]  TRUE         TRUE      TRUE   TRUE       TRUE             TRUE       \n",
       " [6,]  TRUE         TRUE      TRUE   TRUE       TRUE             TRUE       \n",
       " [7,]  TRUE         TRUE      TRUE   TRUE       TRUE             TRUE       \n",
       " [8,]  TRUE        FALSE     FALSE   TRUE       TRUE             TRUE       \n",
       " [9,]  TRUE         TRUE      TRUE   TRUE       TRUE             TRUE       \n",
       "[10,]  TRUE         TRUE      TRUE   TRUE       TRUE             TRUE       \n",
       "[11,]  TRUE         TRUE      TRUE   TRUE       TRUE             TRUE       \n",
       "[12,]  TRUE         TRUE     FALSE   TRUE       TRUE             TRUE       \n",
       "[13,]  TRUE         TRUE      TRUE   TRUE       TRUE             TRUE       \n",
       "[14,]  TRUE         TRUE      TRUE   TRUE       TRUE             TRUE       \n",
       "[15,]  TRUE         TRUE     FALSE   TRUE       TRUE             TRUE       \n",
       "[16,]  TRUE         TRUE     FALSE   TRUE       TRUE             TRUE       \n",
       "[17,] FALSE        FALSE     FALSE   TRUE       TRUE             TRUE       \n",
       "      Sitio Baybayon Sitio Lonas Tamakin Dacot Visca Wangag\n",
       " [1,]  TRUE          TRUE         TRUE          TRUE  TRUE \n",
       " [2,]  TRUE          TRUE         TRUE          TRUE  TRUE \n",
       " [3,]  TRUE          TRUE         TRUE          TRUE  TRUE \n",
       " [4,]  TRUE          TRUE         TRUE          TRUE  TRUE \n",
       " [5,]  TRUE          TRUE         TRUE          TRUE FALSE \n",
       " [6,]  TRUE          TRUE         TRUE          TRUE  TRUE \n",
       " [7,]  TRUE          TRUE         TRUE          TRUE  TRUE \n",
       " [8,]  TRUE          TRUE         TRUE          TRUE FALSE \n",
       " [9,]  TRUE          TRUE         TRUE          TRUE  TRUE \n",
       "[10,]  TRUE          TRUE         TRUE          TRUE  TRUE \n",
       "[11,]  TRUE          TRUE         TRUE          TRUE  TRUE \n",
       "[12,] FALSE          TRUE         TRUE          TRUE FALSE \n",
       "[13,]  TRUE          TRUE         TRUE          TRUE  TRUE \n",
       "[14,]  TRUE          TRUE         TRUE          TRUE  TRUE \n",
       "[15,]  TRUE          TRUE         TRUE         FALSE  TRUE \n",
       "[16,]  TRUE          TRUE         TRUE          TRUE FALSE \n",
       "[17,] FALSE          TRUE        FALSE         FALSE FALSE "
      ]
     },
     "metadata": {},
     "output_type": "display_data"
    }
   ],
   "source": [
    "par_data2014$Assignments==par_data2013$Assignments"
   ]
  },
  {
   "cell_type": "code",
   "execution_count": null,
   "metadata": {},
   "outputs": [],
   "source": []
  },
  {
   "cell_type": "code",
   "execution_count": null,
   "metadata": {},
   "outputs": [],
   "source": []
  },
  {
   "cell_type": "code",
   "execution_count": null,
   "metadata": {},
   "outputs": [],
   "source": []
  },
  {
   "cell_type": "code",
   "execution_count": null,
   "metadata": {},
   "outputs": [],
   "source": []
  }
 ],
 "metadata": {
  "kernelspec": {
   "display_name": "R",
   "language": "R",
   "name": "ir"
  },
  "language_info": {
   "codemirror_mode": "r",
   "file_extension": ".r",
   "mimetype": "text/x-r-source",
   "name": "R",
   "pygments_lexer": "r",
   "version": "3.6.1"
  }
 },
 "nbformat": 4,
 "nbformat_minor": 4
}
