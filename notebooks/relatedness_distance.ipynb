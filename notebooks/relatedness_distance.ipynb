{
 "cells": [
  {
   "cell_type": "code",
   "execution_count": 2,
   "id": "1b8add56",
   "metadata": {},
   "outputs": [],
   "source": [
    "Packages <- c(\"vegan\",\"dplyr\", \"broom\", \"fields\",\"geosphere\", \"data.table\",  \"ggplot2\",\"stringr\",  \"lubridate\", \"RColorBrewer\", \"viridis\")\n",
    "invisible(suppressPackageStartupMessages(lapply(Packages, library, character.only = TRUE)))\n",
    "\n",
    "setwd('/local/home/katrinac/oceanography')\n",
    "\"%!in%\" <- function(x,table) match(x,table, nomatch = 0) == 0"
   ]
  },
  {
   "cell_type": "code",
   "execution_count": 61,
   "id": "e047f248",
   "metadata": {},
   "outputs": [],
   "source": [
    "relatedness <- fread(\"empirical_data/genetics/out.noL4437.relatedness2\")[,`:=`(INDV1=gsub(\"APCL_\", \"\", INDV1), INDV2=gsub(\"APCL_\", \"\", INDV2))]\n",
    "fish_meta <-readRDS(\"empirical_data/genetics/fish_meta_latlon.rds\")\n",
    "setDT(fish_meta)\n",
    "relatedness_meta_int <- left_join(relatedness, fish_meta[, .(ligation_id, INDV1_lat=lat, INDV1_lon=lon)], by=c(INDV1=\"ligation_id\"))\n",
    "relatedness_meta <- left_join(relatedness_meta_int, fish_meta[, .(ligation_id, INDV2_lat=lat, INDV2_lon=lon)], by=c(INDV2=\"ligation_id\"))[INDV1 != INDV2]"
   ]
  },
  {
   "cell_type": "code",
   "execution_count": 93,
   "id": "e6cd4c96",
   "metadata": {},
   "outputs": [
    {
     "data": {
      "text/html": [
       "2308880"
      ],
      "text/latex": [
       "2308880"
      ],
      "text/markdown": [
       "2308880"
      ],
      "text/plain": [
       "[1] 2308880"
      ]
     },
     "metadata": {},
     "output_type": "display_data"
    },
    {
     "data": {
      "text/html": [
       "1152438"
      ],
      "text/latex": [
       "1152438"
      ],
      "text/markdown": [
       "1152438"
      ],
      "text/plain": [
       "[1] 1152438"
      ]
     },
     "metadata": {},
     "output_type": "display_data"
    }
   ],
   "source": [
    "nrow(relatedness_meta)\n",
    "relatedness_meta$dist_km <- distHaversine(as.matrix(relatedness_meta[,c('INDV1_lon', 'INDV1_lat')]), as.matrix(relatedness_meta[,c('INDV2_lon', 'INDV2_lat')]))/1000\n",
    "#some fish are super close to each other, as long as identical fish are filtered out of relatedness_meta, swap zeros for really tiny numbers instead\n",
    "relatedness_meta <- relatedness_meta[, dist_km := ifelse(dist_km==0.000000000, 0.000000001, dist_km)][INDV1 != INDV2]\n",
    "UnqRelatedness <- unique(relatedness_meta, by=c(\"RELATEDNESS_PHI\", \"dist_km\"))[, phi := RELATEDNESS_PHI][INDV1 != INDV2]\n",
    "nrow(UnqRelatedness)"
   ]
  },
  {
   "cell_type": "code",
   "execution_count": 79,
   "id": "de2f7e6b",
   "metadata": {},
   "outputs": [
    {
     "data": {
      "text/html": [
       "<table>\n",
       "<thead><tr><th scope=col>INDV1</th><th scope=col>INDV2</th><th scope=col>N_AaAa</th><th scope=col>N_AAaa</th><th scope=col>N1_Aa</th><th scope=col>N2_Aa</th><th scope=col>RELATEDNESS_PHI</th><th scope=col>INDV1_lat</th><th scope=col>INDV1_lon</th><th scope=col>INDV2_lat</th><th scope=col>INDV2_lon</th><th scope=col>dist_km</th></tr></thead>\n",
       "<tbody>\n",
       "</tbody>\n",
       "</table>\n"
      ],
      "text/latex": [
       "\\begin{tabular}{r|llllllllllll}\n",
       " INDV1 & INDV2 & N\\_AaAa & N\\_AAaa & N1\\_Aa & N2\\_Aa & RELATEDNESS\\_PHI & INDV1\\_lat & INDV1\\_lon & INDV2\\_lat & INDV2\\_lon & dist\\_km\\\\\n",
       "\\hline\n",
       "\\end{tabular}\n"
      ],
      "text/markdown": [
       "\n",
       "| INDV1 | INDV2 | N_AaAa | N_AAaa | N1_Aa | N2_Aa | RELATEDNESS_PHI | INDV1_lat | INDV1_lon | INDV2_lat | INDV2_lon | dist_km |\n",
       "|---|---|---|---|---|---|---|---|---|---|---|---|\n",
       "\n"
      ],
      "text/plain": [
       "     INDV1 INDV2 N_AaAa N_AAaa N1_Aa N2_Aa RELATEDNESS_PHI INDV1_lat INDV1_lon\n",
       "     INDV2_lat INDV2_lon dist_km"
      ]
     },
     "metadata": {},
     "output_type": "display_data"
    }
   ],
   "source": [
    "head(relatedness_meta[INDV1 == INDV2])"
   ]
  },
  {
   "cell_type": "code",
   "execution_count": 82,
   "id": "ff746181",
   "metadata": {},
   "outputs": [
    {
     "data": {
      "text/html": [
       "<table>\n",
       "<thead><tr><th scope=col>INDV1</th><th scope=col>INDV2</th><th scope=col>RELATEDNESS_PHI</th></tr></thead>\n",
       "<tbody>\n",
       "</tbody>\n",
       "</table>\n"
      ],
      "text/latex": [
       "\\begin{tabular}{r|lll}\n",
       " INDV1 & INDV2 & RELATEDNESS\\_PHI\\\\\n",
       "\\hline\n",
       "\\end{tabular}\n"
      ],
      "text/markdown": [
       "\n",
       "| INDV1 | INDV2 | RELATEDNESS_PHI |\n",
       "|---|---|---|\n",
       "\n"
      ],
      "text/plain": [
       "     INDV1 INDV2 RELATEDNESS_PHI"
      ]
     },
     "metadata": {},
     "output_type": "display_data"
    }
   ],
   "source": [
    "head(relatedness_meta[INDV1 != INDV2, .(INDV1, INDV2, RELATEDNESS_PHI)])[INDV1 == INDV2]"
   ]
  },
  {
   "cell_type": "code",
   "execution_count": 97,
   "id": "db92a926",
   "metadata": {},
   "outputs": [],
   "source": [
    "#make a matrix of pairwise relatedness and pairwise distance, test for significant correlation\n",
    "RelatednessMat <- as.matrix(dcast(relatedness_meta[INDV1 != INDV2, .(INDV1, INDV2, RELATEDNESS_PHI)], INDV1~INDV2, value.var = \"RELATEDNESS_PHI\", drop = TRUE)[, -\"INDV1\"])\n",
    "DistMat <- as.matrix(dcast(relatedness_meta[INDV1 != INDV2, .(INDV1, INDV2, dist_km)], INDV1~INDV2, value.var = \"dist_km\", drop = TRUE)[, -\"INDV1\"])\n"
   ]
  },
  {
   "cell_type": "code",
   "execution_count": 98,
   "id": "522d53e9",
   "metadata": {},
   "outputs": [
    {
     "data": {
      "text/html": [
       "<table>\n",
       "<thead><tr><th scope=col>L0255</th><th scope=col>L0256</th><th scope=col>L0257</th><th scope=col>L0258</th><th scope=col>L0259</th><th scope=col>L0260</th><th scope=col>L0261</th><th scope=col>L0262</th><th scope=col>L0263</th><th scope=col>L0264</th><th scope=col>...</th><th scope=col>L5609</th><th scope=col>L5611</th><th scope=col>L5614</th><th scope=col>L5621</th><th scope=col>L5622</th><th scope=col>L5637</th><th scope=col>L5638</th><th scope=col>L5639</th><th scope=col>L5640</th><th scope=col>L5655</th></tr></thead>\n",
       "<tbody>\n",
       "\t<tr><td>      NA </td><td>0.216524 </td><td>0.152207 </td><td>0.145374 </td><td>0.195846 </td><td>0.184971 </td><td>0.148629 </td><td>0.1579710</td><td>0.214493 </td><td>0.171388 </td><td>...      </td><td>0.169837 </td><td>0.148784 </td><td>0.159463 </td><td>0.185290 </td><td>0.168303 </td><td>0.1735420</td><td>0.1368120</td><td>0.1518250</td><td>0.1125730</td><td>0.192572 </td></tr>\n",
       "\t<tr><td>0.216524 </td><td>      NA </td><td>0.134021 </td><td>0.172119 </td><td>0.206897 </td><td>0.191877 </td><td>0.201399 </td><td>0.1671350</td><td>0.221910 </td><td>0.206044 </td><td>...      </td><td>0.192612 </td><td>0.169209 </td><td>0.157287 </td><td>0.178326 </td><td>0.176871 </td><td>0.1958620</td><td>0.1272230</td><td>0.1810470</td><td>0.1359770</td><td>0.201602 </td></tr>\n",
       "\t<tr><td>0.152207 </td><td>0.134021 </td><td>      NA </td><td>0.161094 </td><td>0.118280 </td><td>0.139013 </td><td>0.131343 </td><td>0.0929535</td><td>0.149925 </td><td>0.159590 </td><td>...      </td><td>0.171108 </td><td>0.118343 </td><td>0.143519 </td><td>0.130117 </td><td>0.118841 </td><td>0.0897059</td><td>0.1078720</td><td>0.0936556</td><td>0.0816944</td><td>0.169034 </td></tr>\n",
       "\t<tr><td>0.145374 </td><td>0.172119 </td><td>0.161094 </td><td>      NA </td><td>0.158519 </td><td>0.165945 </td><td>0.157061 </td><td>0.1027500</td><td>0.159190 </td><td>0.195191 </td><td>...      </td><td>0.173677 </td><td>0.110000 </td><td>0.181548 </td><td>0.101695 </td><td>0.103641 </td><td>0.0980114</td><td>0.0873239</td><td>0.0962099</td><td>0.0861314</td><td>0.145604 </td></tr>\n",
       "\t<tr><td>0.195846 </td><td>0.206897 </td><td>0.118280 </td><td>0.158519 </td><td>      NA </td><td>0.196793 </td><td>0.174672 </td><td>0.1038010</td><td>0.192982 </td><td>0.188571 </td><td>...      </td><td>0.158904 </td><td>0.145743 </td><td>0.163910 </td><td>0.161198 </td><td>0.169731 </td><td>0.1908180</td><td>0.1180650</td><td>0.1605300</td><td>0.1179940</td><td>0.163662 </td></tr>\n",
       "\t<tr><td>0.184971 </td><td>0.191877 </td><td>0.139013 </td><td>0.165945 </td><td>0.196793 </td><td>      NA </td><td>0.171631 </td><td>0.1410260</td><td>0.216524 </td><td>0.168524 </td><td>...      </td><td>0.216578 </td><td>0.147679 </td><td>0.166911 </td><td>0.207232 </td><td>0.182069 </td><td>0.1790210</td><td>0.1442440</td><td>0.1936870</td><td>0.1149430</td><td>0.190798 </td></tr>\n",
       "</tbody>\n",
       "</table>\n"
      ],
      "text/latex": [
       "\\begin{tabular}{llllllllllllllllllllllllllllllllllllllllllllllllllllllllllllllllllllllllllllllllllllllllllllllllllllllllllllllllllllllllllllllllllllllllllllllllllllllllllllllllllllllllllllllllllllllllllllllllllllllllllllllllllllllllllllllllllllllllllllllllllllllllllllllllllllllllllllllllllllllllllllllllllllllllllllllllllllllllllllllllllllllllllllllllllllllllllllllllllllllllllllllllllllllllllllllllllllllllllllllllllllllllllllllllllllllllllllllllllllllllllllllllllllllllllllllllllllllllllllllllllllllllllllllllllllllllllllllllllllllllllllllllllllllllllllllllllllllllllllllllllllllllllllllllllllllllllllllllllllllllllllllllllllllllllllllllllllllllllllllllllllllllllllllllllllllllllllllllllllllllllllllllllllllllllllllllllllllllllllllllllllllllllllllllllllllllllllllllllllllllllllllllllllllllllllllllllllllllllllllllllllllllllllllllllllllllllllllllllllllllllllllllllllllllllllllllllllllllllllllllllllllllllllllllllllllllllllllllllllllllllllllllllllllllllllllllllllllllllllllllllllllllllllllllllllllllllllllllllllllllllllllllllllllllllllllllllllllllllllllllllllllllllllllllllllllllllllllllllllllllllllllllllllllllllllllllllllllllllllllllllllllllllllllllllllllllllllllllllllllllllllllllllllllllllllllllllllllllllllllllllllllllllllllllllllllllllllllllllllllllllllllllllllllllllllllllllllllllllllllllllllllllllllllllllllllllllllllllllllllllllllllllllllllllllllllllllllllllllllllllllllllllllllllllllllllllllllllllllllllllllllllllllllllllllllllllllllllllllllllllllllllllllllllllllllllllllllllllllllllllllllllllllllllllllllllllllllllllllllllll}\n",
       " L0255 & L0256 & L0257 & L0258 & L0259 & L0260 & L0261 & L0262 & L0263 & L0264 & ... & L5609 & L5611 & L5614 & L5621 & L5622 & L5637 & L5638 & L5639 & L5640 & L5655\\\\\n",
       "\\hline\n",
       "\t       NA  & 0.216524  & 0.152207  & 0.145374  & 0.195846  & 0.184971  & 0.148629  & 0.1579710 & 0.214493  & 0.171388  & ...       & 0.169837  & 0.148784  & 0.159463  & 0.185290  & 0.168303  & 0.1735420 & 0.1368120 & 0.1518250 & 0.1125730 & 0.192572 \\\\\n",
       "\t 0.216524  &       NA  & 0.134021  & 0.172119  & 0.206897  & 0.191877  & 0.201399  & 0.1671350 & 0.221910  & 0.206044  & ...       & 0.192612  & 0.169209  & 0.157287  & 0.178326  & 0.176871  & 0.1958620 & 0.1272230 & 0.1810470 & 0.1359770 & 0.201602 \\\\\n",
       "\t 0.152207  & 0.134021  &       NA  & 0.161094  & 0.118280  & 0.139013  & 0.131343  & 0.0929535 & 0.149925  & 0.159590  & ...       & 0.171108  & 0.118343  & 0.143519  & 0.130117  & 0.118841  & 0.0897059 & 0.1078720 & 0.0936556 & 0.0816944 & 0.169034 \\\\\n",
       "\t 0.145374  & 0.172119  & 0.161094  &       NA  & 0.158519  & 0.165945  & 0.157061  & 0.1027500 & 0.159190  & 0.195191  & ...       & 0.173677  & 0.110000  & 0.181548  & 0.101695  & 0.103641  & 0.0980114 & 0.0873239 & 0.0962099 & 0.0861314 & 0.145604 \\\\\n",
       "\t 0.195846  & 0.206897  & 0.118280  & 0.158519  &       NA  & 0.196793  & 0.174672  & 0.1038010 & 0.192982  & 0.188571  & ...       & 0.158904  & 0.145743  & 0.163910  & 0.161198  & 0.169731  & 0.1908180 & 0.1180650 & 0.1605300 & 0.1179940 & 0.163662 \\\\\n",
       "\t 0.184971  & 0.191877  & 0.139013  & 0.165945  & 0.196793  &       NA  & 0.171631  & 0.1410260 & 0.216524  & 0.168524  & ...       & 0.216578  & 0.147679  & 0.166911  & 0.207232  & 0.182069  & 0.1790210 & 0.1442440 & 0.1936870 & 0.1149430 & 0.190798 \\\\\n",
       "\\end{tabular}\n"
      ],
      "text/markdown": [
       "\n",
       "| L0255 | L0256 | L0257 | L0258 | L0259 | L0260 | L0261 | L0262 | L0263 | L0264 | ... | L5609 | L5611 | L5614 | L5621 | L5622 | L5637 | L5638 | L5639 | L5640 | L5655 |\n",
       "|---|---|---|---|---|---|---|---|---|---|---|---|---|---|---|---|---|---|---|---|---|\n",
       "|       NA  | 0.216524  | 0.152207  | 0.145374  | 0.195846  | 0.184971  | 0.148629  | 0.1579710 | 0.214493  | 0.171388  | ...       | 0.169837  | 0.148784  | 0.159463  | 0.185290  | 0.168303  | 0.1735420 | 0.1368120 | 0.1518250 | 0.1125730 | 0.192572  |\n",
       "| 0.216524  |       NA  | 0.134021  | 0.172119  | 0.206897  | 0.191877  | 0.201399  | 0.1671350 | 0.221910  | 0.206044  | ...       | 0.192612  | 0.169209  | 0.157287  | 0.178326  | 0.176871  | 0.1958620 | 0.1272230 | 0.1810470 | 0.1359770 | 0.201602  |\n",
       "| 0.152207  | 0.134021  |       NA  | 0.161094  | 0.118280  | 0.139013  | 0.131343  | 0.0929535 | 0.149925  | 0.159590  | ...       | 0.171108  | 0.118343  | 0.143519  | 0.130117  | 0.118841  | 0.0897059 | 0.1078720 | 0.0936556 | 0.0816944 | 0.169034  |\n",
       "| 0.145374  | 0.172119  | 0.161094  |       NA  | 0.158519  | 0.165945  | 0.157061  | 0.1027500 | 0.159190  | 0.195191  | ...       | 0.173677  | 0.110000  | 0.181548  | 0.101695  | 0.103641  | 0.0980114 | 0.0873239 | 0.0962099 | 0.0861314 | 0.145604  |\n",
       "| 0.195846  | 0.206897  | 0.118280  | 0.158519  |       NA  | 0.196793  | 0.174672  | 0.1038010 | 0.192982  | 0.188571  | ...       | 0.158904  | 0.145743  | 0.163910  | 0.161198  | 0.169731  | 0.1908180 | 0.1180650 | 0.1605300 | 0.1179940 | 0.163662  |\n",
       "| 0.184971  | 0.191877  | 0.139013  | 0.165945  | 0.196793  |       NA  | 0.171631  | 0.1410260 | 0.216524  | 0.168524  | ...       | 0.216578  | 0.147679  | 0.166911  | 0.207232  | 0.182069  | 0.1790210 | 0.1442440 | 0.1936870 | 0.1149430 | 0.190798  |\n",
       "\n"
      ],
      "text/plain": [
       "     L0255    L0256    L0257    L0258    L0259    L0260    L0261    L0262    \n",
       "[1,]       NA 0.216524 0.152207 0.145374 0.195846 0.184971 0.148629 0.1579710\n",
       "[2,] 0.216524       NA 0.134021 0.172119 0.206897 0.191877 0.201399 0.1671350\n",
       "[3,] 0.152207 0.134021       NA 0.161094 0.118280 0.139013 0.131343 0.0929535\n",
       "[4,] 0.145374 0.172119 0.161094       NA 0.158519 0.165945 0.157061 0.1027500\n",
       "[5,] 0.195846 0.206897 0.118280 0.158519       NA 0.196793 0.174672 0.1038010\n",
       "[6,] 0.184971 0.191877 0.139013 0.165945 0.196793       NA 0.171631 0.1410260\n",
       "     L0263    L0264    ... L5609    L5611    L5614    L5621    L5622   \n",
       "[1,] 0.214493 0.171388 ... 0.169837 0.148784 0.159463 0.185290 0.168303\n",
       "[2,] 0.221910 0.206044 ... 0.192612 0.169209 0.157287 0.178326 0.176871\n",
       "[3,] 0.149925 0.159590 ... 0.171108 0.118343 0.143519 0.130117 0.118841\n",
       "[4,] 0.159190 0.195191 ... 0.173677 0.110000 0.181548 0.101695 0.103641\n",
       "[5,] 0.192982 0.188571 ... 0.158904 0.145743 0.163910 0.161198 0.169731\n",
       "[6,] 0.216524 0.168524 ... 0.216578 0.147679 0.166911 0.207232 0.182069\n",
       "     L5637     L5638     L5639     L5640     L5655   \n",
       "[1,] 0.1735420 0.1368120 0.1518250 0.1125730 0.192572\n",
       "[2,] 0.1958620 0.1272230 0.1810470 0.1359770 0.201602\n",
       "[3,] 0.0897059 0.1078720 0.0936556 0.0816944 0.169034\n",
       "[4,] 0.0980114 0.0873239 0.0962099 0.0861314 0.145604\n",
       "[5,] 0.1908180 0.1180650 0.1605300 0.1179940 0.163662\n",
       "[6,] 0.1790210 0.1442440 0.1936870 0.1149430 0.190798"
      ]
     },
     "metadata": {},
     "output_type": "display_data"
    },
    {
     "data": {
      "text/html": [
       "<table>\n",
       "<thead><tr><th scope=col>L0255</th><th scope=col>L0256</th><th scope=col>L0257</th><th scope=col>L0258</th><th scope=col>L0259</th><th scope=col>L0260</th><th scope=col>L0261</th><th scope=col>L0262</th><th scope=col>L0263</th><th scope=col>L0264</th><th scope=col>...</th><th scope=col>L5609</th><th scope=col>L5611</th><th scope=col>L5614</th><th scope=col>L5621</th><th scope=col>L5622</th><th scope=col>L5637</th><th scope=col>L5638</th><th scope=col>L5639</th><th scope=col>L5640</th><th scope=col>L5655</th></tr></thead>\n",
       "<tbody>\n",
       "\t<tr><td>         NA</td><td>0.000000001</td><td>0.008412914</td><td>0.008412914</td><td>0.002973002</td><td>0.002554477</td><td>0.002554477</td><td>0.009765633</td><td>0.02064368 </td><td>0.02064368 </td><td>...        </td><td>25.85351   </td><td>25.86088   </td><td>27.69636   </td><td>27.73454   </td><td>27.74237   </td><td>27.68494   </td><td>9.113224   </td><td>9.113224   </td><td>13.98158   </td><td>0.3034665  </td></tr>\n",
       "\t<tr><td>0.000000001</td><td>         NA</td><td>0.008412914</td><td>0.008412914</td><td>0.002973002</td><td>0.002554477</td><td>0.002554477</td><td>0.009765633</td><td>0.02064368 </td><td>0.02064368 </td><td>...        </td><td>25.85351   </td><td>25.86088   </td><td>27.69636   </td><td>27.73454   </td><td>27.74237   </td><td>27.68494   </td><td>9.113224   </td><td>9.113224   </td><td>13.98158   </td><td>0.3034665  </td></tr>\n",
       "\t<tr><td>0.008412914</td><td>0.008412914</td><td>         NA</td><td>0.000000001</td><td>0.006809954</td><td>0.010736814</td><td>0.010736814</td><td>0.018172210</td><td>0.02889877 </td><td>0.02889877 </td><td>...        </td><td>25.86023   </td><td>25.86760   </td><td>27.70283   </td><td>27.74100   </td><td>27.74883   </td><td>27.69141   </td><td>9.121340   </td><td>9.121340   </td><td>13.98945   </td><td>0.3116231  </td></tr>\n",
       "\t<tr><td>0.008412914</td><td>0.008412914</td><td>0.000000001</td><td>         NA</td><td>0.006809954</td><td>0.010736814</td><td>0.010736814</td><td>0.018172210</td><td>0.02889877 </td><td>0.02889877 </td><td>...        </td><td>25.86023   </td><td>25.86760   </td><td>27.70283   </td><td>27.74100   </td><td>27.74883   </td><td>27.69141   </td><td>9.121340   </td><td>9.121340   </td><td>13.98945   </td><td>0.3116231  </td></tr>\n",
       "\t<tr><td>0.002973002</td><td>0.002973002</td><td>0.006809954</td><td>0.006809954</td><td>         NA</td><td>0.004355045</td><td>0.004355045</td><td>0.011850753</td><td>0.02221500 </td><td>0.02221500 </td><td>...        </td><td>25.85375   </td><td>25.86112   </td><td>27.69646   </td><td>27.73464   </td><td>27.74247   </td><td>27.68504   </td><td>9.114545   </td><td>9.114545   </td><td>13.98264   </td><td>0.3048402  </td></tr>\n",
       "\t<tr><td>0.002554477</td><td>0.002554477</td><td>0.010736814</td><td>0.010736814</td><td>0.004355045</td><td>         NA</td><td>0.000000001</td><td>0.007525617</td><td>0.01818498 </td><td>0.01818498 </td><td>...        </td><td>25.85099   </td><td>25.85836   </td><td>27.69386   </td><td>27.73204   </td><td>27.73987   </td><td>27.68244   </td><td>9.110732   </td><td>9.110732   </td><td>13.97904   </td><td>0.3009837  </td></tr>\n",
       "</tbody>\n",
       "</table>\n"
      ],
      "text/latex": [
       "\\begin{tabular}{llllllllllllllllllllllllllllllllllllllllllllllllllllllllllllllllllllllllllllllllllllllllllllllllllllllllllllllllllllllllllllllllllllllllllllllllllllllllllllllllllllllllllllllllllllllllllllllllllllllllllllllllllllllllllllllllllllllllllllllllllllllllllllllllllllllllllllllllllllllllllllllllllllllllllllllllllllllllllllllllllllllllllllllllllllllllllllllllllllllllllllllllllllllllllllllllllllllllllllllllllllllllllllllllllllllllllllllllllllllllllllllllllllllllllllllllllllllllllllllllllllllllllllllllllllllllllllllllllllllllllllllllllllllllllllllllllllllllllllllllllllllllllllllllllllllllllllllllllllllllllllllllllllllllllllllllllllllllllllllllllllllllllllllllllllllllllllllllllllllllllllllllllllllllllllllllllllllllllllllllllllllllllllllllllllllllllllllllllllllllllllllllllllllllllllllllllllllllllllllllllllllllllllllllllllllllllllllllllllllllllllllllllllllllllllllllllllllllllllllllllllllllllllllllllllllllllllllllllllllllllllllllllllllllllllllllllllllllllllllllllllllllllllllllllllllllllllllllllllllllllllllllllllllllllllllllllllllllllllllllllllllllllllllllllllllllllllllllllllllllllllllllllllllllllllllllllllllllllllllllllllllllllllllllllllllllllllllllllllllllllllllllllllllllllllllllllllllllllllllllllllllllllllllllllllllllllllllllllllllllllllllllllllllllllllllllllllllllllllllllllllllllllllllllllllllllllllllllllllllllllllllllllllllllllllllllllllllllllllllllllllllllllllllllllllllllllllllllllllllllllllllllllllllllllllllllllllllllllllllllllllllllllllllllllllllllllllllllllllllllllllllllllllllllllllllllllllllllllllllll}\n",
       " L0255 & L0256 & L0257 & L0258 & L0259 & L0260 & L0261 & L0262 & L0263 & L0264 & ... & L5609 & L5611 & L5614 & L5621 & L5622 & L5637 & L5638 & L5639 & L5640 & L5655\\\\\n",
       "\\hline\n",
       "\t          NA & 0.000000001 & 0.008412914 & 0.008412914 & 0.002973002 & 0.002554477 & 0.002554477 & 0.009765633 & 0.02064368  & 0.02064368  & ...         & 25.85351    & 25.86088    & 27.69636    & 27.73454    & 27.74237    & 27.68494    & 9.113224    & 9.113224    & 13.98158    & 0.3034665  \\\\\n",
       "\t 0.000000001 &          NA & 0.008412914 & 0.008412914 & 0.002973002 & 0.002554477 & 0.002554477 & 0.009765633 & 0.02064368  & 0.02064368  & ...         & 25.85351    & 25.86088    & 27.69636    & 27.73454    & 27.74237    & 27.68494    & 9.113224    & 9.113224    & 13.98158    & 0.3034665  \\\\\n",
       "\t 0.008412914 & 0.008412914 &          NA & 0.000000001 & 0.006809954 & 0.010736814 & 0.010736814 & 0.018172210 & 0.02889877  & 0.02889877  & ...         & 25.86023    & 25.86760    & 27.70283    & 27.74100    & 27.74883    & 27.69141    & 9.121340    & 9.121340    & 13.98945    & 0.3116231  \\\\\n",
       "\t 0.008412914 & 0.008412914 & 0.000000001 &          NA & 0.006809954 & 0.010736814 & 0.010736814 & 0.018172210 & 0.02889877  & 0.02889877  & ...         & 25.86023    & 25.86760    & 27.70283    & 27.74100    & 27.74883    & 27.69141    & 9.121340    & 9.121340    & 13.98945    & 0.3116231  \\\\\n",
       "\t 0.002973002 & 0.002973002 & 0.006809954 & 0.006809954 &          NA & 0.004355045 & 0.004355045 & 0.011850753 & 0.02221500  & 0.02221500  & ...         & 25.85375    & 25.86112    & 27.69646    & 27.73464    & 27.74247    & 27.68504    & 9.114545    & 9.114545    & 13.98264    & 0.3048402  \\\\\n",
       "\t 0.002554477 & 0.002554477 & 0.010736814 & 0.010736814 & 0.004355045 &          NA & 0.000000001 & 0.007525617 & 0.01818498  & 0.01818498  & ...         & 25.85099    & 25.85836    & 27.69386    & 27.73204    & 27.73987    & 27.68244    & 9.110732    & 9.110732    & 13.97904    & 0.3009837  \\\\\n",
       "\\end{tabular}\n"
      ],
      "text/markdown": [
       "\n",
       "| L0255 | L0256 | L0257 | L0258 | L0259 | L0260 | L0261 | L0262 | L0263 | L0264 | ... | L5609 | L5611 | L5614 | L5621 | L5622 | L5637 | L5638 | L5639 | L5640 | L5655 |\n",
       "|---|---|---|---|---|---|---|---|---|---|---|---|---|---|---|---|---|---|---|---|---|\n",
       "|          NA | 0.000000001 | 0.008412914 | 0.008412914 | 0.002973002 | 0.002554477 | 0.002554477 | 0.009765633 | 0.02064368  | 0.02064368  | ...         | 25.85351    | 25.86088    | 27.69636    | 27.73454    | 27.74237    | 27.68494    | 9.113224    | 9.113224    | 13.98158    | 0.3034665   |\n",
       "| 0.000000001 |          NA | 0.008412914 | 0.008412914 | 0.002973002 | 0.002554477 | 0.002554477 | 0.009765633 | 0.02064368  | 0.02064368  | ...         | 25.85351    | 25.86088    | 27.69636    | 27.73454    | 27.74237    | 27.68494    | 9.113224    | 9.113224    | 13.98158    | 0.3034665   |\n",
       "| 0.008412914 | 0.008412914 |          NA | 0.000000001 | 0.006809954 | 0.010736814 | 0.010736814 | 0.018172210 | 0.02889877  | 0.02889877  | ...         | 25.86023    | 25.86760    | 27.70283    | 27.74100    | 27.74883    | 27.69141    | 9.121340    | 9.121340    | 13.98945    | 0.3116231   |\n",
       "| 0.008412914 | 0.008412914 | 0.000000001 |          NA | 0.006809954 | 0.010736814 | 0.010736814 | 0.018172210 | 0.02889877  | 0.02889877  | ...         | 25.86023    | 25.86760    | 27.70283    | 27.74100    | 27.74883    | 27.69141    | 9.121340    | 9.121340    | 13.98945    | 0.3116231   |\n",
       "| 0.002973002 | 0.002973002 | 0.006809954 | 0.006809954 |          NA | 0.004355045 | 0.004355045 | 0.011850753 | 0.02221500  | 0.02221500  | ...         | 25.85375    | 25.86112    | 27.69646    | 27.73464    | 27.74247    | 27.68504    | 9.114545    | 9.114545    | 13.98264    | 0.3048402   |\n",
       "| 0.002554477 | 0.002554477 | 0.010736814 | 0.010736814 | 0.004355045 |          NA | 0.000000001 | 0.007525617 | 0.01818498  | 0.01818498  | ...         | 25.85099    | 25.85836    | 27.69386    | 27.73204    | 27.73987    | 27.68244    | 9.110732    | 9.110732    | 13.97904    | 0.3009837   |\n",
       "\n"
      ],
      "text/plain": [
       "     L0255       L0256       L0257       L0258       L0259       L0260      \n",
       "[1,]          NA 0.000000001 0.008412914 0.008412914 0.002973002 0.002554477\n",
       "[2,] 0.000000001          NA 0.008412914 0.008412914 0.002973002 0.002554477\n",
       "[3,] 0.008412914 0.008412914          NA 0.000000001 0.006809954 0.010736814\n",
       "[4,] 0.008412914 0.008412914 0.000000001          NA 0.006809954 0.010736814\n",
       "[5,] 0.002973002 0.002973002 0.006809954 0.006809954          NA 0.004355045\n",
       "[6,] 0.002554477 0.002554477 0.010736814 0.010736814 0.004355045          NA\n",
       "     L0261       L0262       L0263      L0264      ... L5609    L5611   \n",
       "[1,] 0.002554477 0.009765633 0.02064368 0.02064368 ... 25.85351 25.86088\n",
       "[2,] 0.002554477 0.009765633 0.02064368 0.02064368 ... 25.85351 25.86088\n",
       "[3,] 0.010736814 0.018172210 0.02889877 0.02889877 ... 25.86023 25.86760\n",
       "[4,] 0.010736814 0.018172210 0.02889877 0.02889877 ... 25.86023 25.86760\n",
       "[5,] 0.004355045 0.011850753 0.02221500 0.02221500 ... 25.85375 25.86112\n",
       "[6,] 0.000000001 0.007525617 0.01818498 0.01818498 ... 25.85099 25.85836\n",
       "     L5614    L5621    L5622    L5637    L5638    L5639    L5640    L5655    \n",
       "[1,] 27.69636 27.73454 27.74237 27.68494 9.113224 9.113224 13.98158 0.3034665\n",
       "[2,] 27.69636 27.73454 27.74237 27.68494 9.113224 9.113224 13.98158 0.3034665\n",
       "[3,] 27.70283 27.74100 27.74883 27.69141 9.121340 9.121340 13.98945 0.3116231\n",
       "[4,] 27.70283 27.74100 27.74883 27.69141 9.121340 9.121340 13.98945 0.3116231\n",
       "[5,] 27.69646 27.73464 27.74247 27.68504 9.114545 9.114545 13.98264 0.3048402\n",
       "[6,] 27.69386 27.73204 27.73987 27.68244 9.110732 9.110732 13.97904 0.3009837"
      ]
     },
     "metadata": {},
     "output_type": "display_data"
    }
   ],
   "source": [
    "head(RelatednessMat)\n",
    "head(DistMat)"
   ]
  },
  {
   "cell_type": "code",
   "execution_count": 99,
   "id": "a3759232",
   "metadata": {},
   "outputs": [
    {
     "data": {
      "text/html": [
       "<ol class=list-inline>\n",
       "\t<li>1520</li>\n",
       "\t<li>1520</li>\n",
       "</ol>\n"
      ],
      "text/latex": [
       "\\begin{enumerate*}\n",
       "\\item 1520\n",
       "\\item 1520\n",
       "\\end{enumerate*}\n"
      ],
      "text/markdown": [
       "1. 1520\n",
       "2. 1520\n",
       "\n",
       "\n"
      ],
      "text/plain": [
       "[1] 1520 1520"
      ]
     },
     "metadata": {},
     "output_type": "display_data"
    },
    {
     "data": {
      "text/html": [
       "<ol class=list-inline>\n",
       "\t<li>1520</li>\n",
       "\t<li>1520</li>\n",
       "</ol>\n"
      ],
      "text/latex": [
       "\\begin{enumerate*}\n",
       "\\item 1520\n",
       "\\item 1520\n",
       "\\end{enumerate*}\n"
      ],
      "text/markdown": [
       "1. 1520\n",
       "2. 1520\n",
       "\n",
       "\n"
      ],
      "text/plain": [
       "[1] 1520 1520"
      ]
     },
     "metadata": {},
     "output_type": "display_data"
    }
   ],
   "source": [
    "dim(RelatednessMat)\n",
    "dim(DistMat)"
   ]
  },
  {
   "cell_type": "code",
   "execution_count": 100,
   "id": "7c4e26e2",
   "metadata": {},
   "outputs": [
    {
     "data": {
      "text/plain": [
       "\n",
       "Mantel statistic based on Pearson's product-moment correlation \n",
       "\n",
       "Call:\n",
       "mantel(xdis = RelatednessMat, ydis = DistMat, na.rm = TRUE) \n",
       "\n",
       "Mantel statistic r: -0.01699 \n",
       "      Significance: 0.975 \n",
       "\n",
       "Upper quantiles of permutations (null model):\n",
       "   90%    95%  97.5%    99% \n",
       "0.0118 0.0151 0.0171 0.0216 \n",
       "Permutation: free\n",
       "Number of permutations: 999\n"
      ]
     },
     "metadata": {},
     "output_type": "display_data"
    }
   ],
   "source": [
    "mantel(RelatednessMat, DistMat, na.rm = TRUE)"
   ]
  },
  {
   "cell_type": "code",
   "execution_count": 101,
   "id": "ef74554d",
   "metadata": {},
   "outputs": [
    {
     "data": {
      "text/plain": [
       "\n",
       "Mantel statistic based on Spearman's rank correlation rho \n",
       "\n",
       "Call:\n",
       "mantel(xdis = RelatednessMat, ydis = DistMat, method = \"spearman\",      na.rm = TRUE) \n",
       "\n",
       "Mantel statistic r: -0.00911 \n",
       "      Significance: 0.901 \n",
       "\n",
       "Upper quantiles of permutations (null model):\n",
       "    90%     95%   97.5%     99% \n",
       "0.00928 0.01203 0.01389 0.01594 \n",
       "Permutation: free\n",
       "Number of permutations: 999\n"
      ]
     },
     "metadata": {},
     "output_type": "display_data"
    }
   ],
   "source": [
    "mantel(RelatednessMat, DistMat, method=\"spearman\", na.rm = TRUE)"
   ]
  },
  {
   "cell_type": "code",
   "execution_count": 11,
   "id": "1bf87f6d",
   "metadata": {
    "scrolled": false
   },
   "outputs": [
    {
     "data": {
      "text/html": [
       "<strong>png:</strong> 2"
      ],
      "text/latex": [
       "\\textbf{png:} 2"
      ],
      "text/markdown": [
       "**png:** 2"
      ],
      "text/plain": [
       "png \n",
       "  2 "
      ]
     },
     "metadata": {},
     "output_type": "display_data"
    }
   ],
   "source": [
    "png(\"~/ClownfishGWAS/data/APCL/RelatednessAPCL_noL4437.png\")\n",
    "plot(UnqRelatedness[, phi] ~ UnqRelatedness[, dist_km], ylab=\"phi\", xlab=\"distance (km)\")\n",
    "#abline(lm(phi ~ dist_km, data = UnqRelatedness), col = \"blue\")\n",
    "dev.off()"
   ]
  },
  {
   "cell_type": "code",
   "execution_count": 21,
   "id": "11072f57",
   "metadata": {},
   "outputs": [
    {
     "data": {
      "text/html": [
       "<table>\n",
       "<thead><tr><th scope=col>INDV1</th><th scope=col>INDV2</th><th scope=col>N_AaAa</th><th scope=col>N_AAaa</th><th scope=col>N1_Aa</th><th scope=col>N2_Aa</th><th scope=col>RELATEDNESS_PHI</th><th scope=col>INDV1_lat</th><th scope=col>INDV1_lon</th><th scope=col>INDV2_lat</th><th scope=col>INDV2_lon</th><th scope=col>dist_km</th><th scope=col>phi</th></tr></thead>\n",
       "<tbody>\n",
       "\t<tr><td>L0298    </td><td>L0739    </td><td>269      </td><td>7        </td><td>326      </td><td>371      </td><td>0.365854 </td><td>10.86884 </td><td>124.7165 </td><td>10.87150 </td><td>124.7143 </td><td>0.3814991</td><td>0.365854 </td></tr>\n",
       "\t<tr><td>L0667    </td><td>L0716    </td><td>379      </td><td>8        </td><td>444      </td><td>565      </td><td>0.359762 </td><td>10.83625 </td><td>124.7466 </td><td>10.87383 </td><td>124.7109 </td><td>5.7232561</td><td>0.359762 </td></tr>\n",
       "\t<tr><td>L0667    </td><td>L0784    </td><td>368      </td><td>6        </td><td>444      </td><td>531      </td><td>0.365128 </td><td>10.83625 </td><td>124.7466 </td><td>10.87386 </td><td>124.7106 </td><td>5.7454588</td><td>0.365128 </td></tr>\n",
       "\t<tr><td>L0667    </td><td>L0886    </td><td>363      </td><td>5        </td><td>444      </td><td>548      </td><td>0.355847 </td><td>10.83625 </td><td>124.7466 </td><td>10.87136 </td><td>124.7144 </td><td>5.2622646</td><td>0.355847 </td></tr>\n",
       "\t<tr><td>L0667    </td><td>L0917    </td><td>372      </td><td>8        </td><td>444      </td><td>550      </td><td>0.358149 </td><td>10.83625 </td><td>124.7466 </td><td>10.86006 </td><td>124.7224 </td><td>3.7494040</td><td>0.358149 </td></tr>\n",
       "\t<tr><td>L0667    </td><td>L1291    </td><td>374      </td><td>6        </td><td>444      </td><td>551      </td><td>0.363819 </td><td>10.83625 </td><td>124.7466 </td><td>10.87389 </td><td>124.7105 </td><td>5.7572591</td><td>0.363819 </td></tr>\n",
       "</tbody>\n",
       "</table>\n"
      ],
      "text/latex": [
       "\\begin{tabular}{r|lllllllllllll}\n",
       " INDV1 & INDV2 & N\\_AaAa & N\\_AAaa & N1\\_Aa & N2\\_Aa & RELATEDNESS\\_PHI & INDV1\\_lat & INDV1\\_lon & INDV2\\_lat & INDV2\\_lon & dist\\_km & phi\\\\\n",
       "\\hline\n",
       "\t L0298     & L0739     & 269       & 7         & 326       & 371       & 0.365854  & 10.86884  & 124.7165  & 10.87150  & 124.7143  & 0.3814991 & 0.365854 \\\\\n",
       "\t L0667     & L0716     & 379       & 8         & 444       & 565       & 0.359762  & 10.83625  & 124.7466  & 10.87383  & 124.7109  & 5.7232561 & 0.359762 \\\\\n",
       "\t L0667     & L0784     & 368       & 6         & 444       & 531       & 0.365128  & 10.83625  & 124.7466  & 10.87386  & 124.7106  & 5.7454588 & 0.365128 \\\\\n",
       "\t L0667     & L0886     & 363       & 5         & 444       & 548       & 0.355847  & 10.83625  & 124.7466  & 10.87136  & 124.7144  & 5.2622646 & 0.355847 \\\\\n",
       "\t L0667     & L0917     & 372       & 8         & 444       & 550       & 0.358149  & 10.83625  & 124.7466  & 10.86006  & 124.7224  & 3.7494040 & 0.358149 \\\\\n",
       "\t L0667     & L1291     & 374       & 6         & 444       & 551       & 0.363819  & 10.83625  & 124.7466  & 10.87389  & 124.7105  & 5.7572591 & 0.363819 \\\\\n",
       "\\end{tabular}\n"
      ],
      "text/markdown": [
       "\n",
       "| INDV1 | INDV2 | N_AaAa | N_AAaa | N1_Aa | N2_Aa | RELATEDNESS_PHI | INDV1_lat | INDV1_lon | INDV2_lat | INDV2_lon | dist_km | phi |\n",
       "|---|---|---|---|---|---|---|---|---|---|---|---|---|\n",
       "| L0298     | L0739     | 269       | 7         | 326       | 371       | 0.365854  | 10.86884  | 124.7165  | 10.87150  | 124.7143  | 0.3814991 | 0.365854  |\n",
       "| L0667     | L0716     | 379       | 8         | 444       | 565       | 0.359762  | 10.83625  | 124.7466  | 10.87383  | 124.7109  | 5.7232561 | 0.359762  |\n",
       "| L0667     | L0784     | 368       | 6         | 444       | 531       | 0.365128  | 10.83625  | 124.7466  | 10.87386  | 124.7106  | 5.7454588 | 0.365128  |\n",
       "| L0667     | L0886     | 363       | 5         | 444       | 548       | 0.355847  | 10.83625  | 124.7466  | 10.87136  | 124.7144  | 5.2622646 | 0.355847  |\n",
       "| L0667     | L0917     | 372       | 8         | 444       | 550       | 0.358149  | 10.83625  | 124.7466  | 10.86006  | 124.7224  | 3.7494040 | 0.358149  |\n",
       "| L0667     | L1291     | 374       | 6         | 444       | 551       | 0.363819  | 10.83625  | 124.7466  | 10.87389  | 124.7105  | 5.7572591 | 0.363819  |\n",
       "\n"
      ],
      "text/plain": [
       "  INDV1 INDV2 N_AaAa N_AAaa N1_Aa N2_Aa RELATEDNESS_PHI INDV1_lat INDV1_lon\n",
       "1 L0298 L0739 269    7      326   371   0.365854        10.86884  124.7165 \n",
       "2 L0667 L0716 379    8      444   565   0.359762        10.83625  124.7466 \n",
       "3 L0667 L0784 368    6      444   531   0.365128        10.83625  124.7466 \n",
       "4 L0667 L0886 363    5      444   548   0.355847        10.83625  124.7466 \n",
       "5 L0667 L0917 372    8      444   550   0.358149        10.83625  124.7466 \n",
       "6 L0667 L1291 374    6      444   551   0.363819        10.83625  124.7466 \n",
       "  INDV2_lat INDV2_lon dist_km   phi     \n",
       "1 10.87150  124.7143  0.3814991 0.365854\n",
       "2 10.87383  124.7109  5.7232561 0.359762\n",
       "3 10.87386  124.7106  5.7454588 0.365128\n",
       "4 10.87136  124.7144  5.2622646 0.355847\n",
       "5 10.86006  124.7224  3.7494040 0.358149\n",
       "6 10.87389  124.7105  5.7572591 0.363819"
      ]
     },
     "metadata": {},
     "output_type": "display_data"
    }
   ],
   "source": [
    "head(UnqRelatedness[phi > 0.354])"
   ]
  },
  {
   "cell_type": "code",
   "execution_count": 22,
   "id": "e48ec23c",
   "metadata": {},
   "outputs": [
    {
     "data": {
      "text/html": [
       "<table>\n",
       "<thead><tr><th scope=col>INDV1</th><th scope=col>INDV2</th><th scope=col>N_AaAa</th><th scope=col>N_AAaa</th><th scope=col>N1_Aa</th><th scope=col>N2_Aa</th><th scope=col>RELATEDNESS_PHI</th><th scope=col>INDV1_lat</th><th scope=col>INDV1_lon</th><th scope=col>INDV2_lat</th><th scope=col>INDV2_lon</th><th scope=col>dist_km</th><th scope=col>phi</th></tr></thead>\n",
       "<tbody>\n",
       "\t<tr><td>L0691     </td><td>L0886     </td><td>367       </td><td>0         </td><td>377       </td><td>548       </td><td>0.396757  </td><td>10.87152  </td><td>124.7142  </td><td>10.87136  </td><td>124.7144  </td><td>0.03185264</td><td>0.396757  </td></tr>\n",
       "</tbody>\n",
       "</table>\n"
      ],
      "text/latex": [
       "\\begin{tabular}{r|lllllllllllll}\n",
       " INDV1 & INDV2 & N\\_AaAa & N\\_AAaa & N1\\_Aa & N2\\_Aa & RELATEDNESS\\_PHI & INDV1\\_lat & INDV1\\_lon & INDV2\\_lat & INDV2\\_lon & dist\\_km & phi\\\\\n",
       "\\hline\n",
       "\t L0691      & L0886      & 367        & 0          & 377        & 548        & 0.396757   & 10.87152   & 124.7142   & 10.87136   & 124.7144   & 0.03185264 & 0.396757  \\\\\n",
       "\\end{tabular}\n"
      ],
      "text/markdown": [
       "\n",
       "| INDV1 | INDV2 | N_AaAa | N_AAaa | N1_Aa | N2_Aa | RELATEDNESS_PHI | INDV1_lat | INDV1_lon | INDV2_lat | INDV2_lon | dist_km | phi |\n",
       "|---|---|---|---|---|---|---|---|---|---|---|---|---|\n",
       "| L0691      | L0886      | 367        | 0          | 377        | 548        | 0.396757   | 10.87152   | 124.7142   | 10.87136   | 124.7144   | 0.03185264 | 0.396757   |\n",
       "\n"
      ],
      "text/plain": [
       "  INDV1 INDV2 N_AaAa N_AAaa N1_Aa N2_Aa RELATEDNESS_PHI INDV1_lat INDV1_lon\n",
       "1 L0691 L0886 367    0      377   548   0.396757        10.87152  124.7142 \n",
       "  INDV2_lat INDV2_lon dist_km    phi     \n",
       "1 10.87136  124.7144  0.03185264 0.396757"
      ]
     },
     "metadata": {},
     "output_type": "display_data"
    }
   ],
   "source": [
    "UnqRelatedness[INDV2 ==\"L0886\" & INDV1 == \"L0691\"]"
   ]
  },
  {
   "cell_type": "code",
   "execution_count": 35,
   "id": "02ac5dd8",
   "metadata": {},
   "outputs": [
    {
     "data": {
      "text/plain": [
       "\n",
       "Call:\n",
       "lm(formula = phi ~ dist_km, data = UnqRelatedness)\n",
       "\n",
       "Residuals:\n",
       "      Min        1Q    Median        3Q       Max \n",
       "-0.246741 -0.027743  0.000111  0.025838  0.270433 \n",
       "\n",
       "Coefficients:\n",
       "              Estimate Std. Error t value Pr(>|t|)    \n",
       "(Intercept)  1.620e-01  6.481e-05  2499.2   <2e-16 ***\n",
       "dist_km     -7.046e-05  3.871e-06   -18.2   <2e-16 ***\n",
       "---\n",
       "Signif. codes:  0 ‘***’ 0.001 ‘**’ 0.01 ‘*’ 0.05 ‘.’ 0.1 ‘ ’ 1\n",
       "\n",
       "Residual standard error: 0.04589 on 1147916 degrees of freedom\n",
       "  (4520 observations deleted due to missingness)\n",
       "Multiple R-squared:  0.0002886,\tAdjusted R-squared:  0.0002877 \n",
       "F-statistic: 331.3 on 1 and 1147916 DF,  p-value: < 2.2e-16\n"
      ]
     },
     "metadata": {},
     "output_type": "display_data"
    }
   ],
   "source": [
    "summary(lm(phi ~ dist_km, data = UnqRelatedness))"
   ]
  },
  {
   "cell_type": "code",
   "execution_count": 14,
   "id": "fd29d849",
   "metadata": {
    "scrolled": false
   },
   "outputs": [
    {
     "data": {
      "text/plain": [
       "\n",
       "Call:\n",
       "lm(formula = RELATEDNESS_PHI ~ dist_km, data = UnqRelatedness)\n",
       "\n",
       "Residuals:\n",
       "     Min       1Q   Median       3Q      Max \n",
       "-0.75372 -0.02723  0.00071  0.02645  0.27117 \n",
       "\n",
       "Coefficients:\n",
       "              Estimate Std. Error t value Pr(>|t|)    \n",
       "(Intercept)  1.612e-01  6.971e-05 2312.75   <2e-16 ***\n",
       "dist_km     -6.299e-08  4.165e-09  -15.13   <2e-16 ***\n",
       "---\n",
       "Signif. codes:  0 ‘***’ 0.001 ‘**’ 0.01 ‘*’ 0.05 ‘.’ 0.1 ‘ ’ 1\n",
       "\n",
       "Residual standard error: 0.04938 on 1149432 degrees of freedom\n",
       "  (4524 observations deleted due to missingness)\n",
       "Multiple R-squared:  0.000199,\tAdjusted R-squared:  0.0001981 \n",
       "F-statistic: 228.8 on 1 and 1149432 DF,  p-value: < 2.2e-16\n"
      ]
     },
     "metadata": {},
     "output_type": "display_data"
    }
   ],
   "source": [
    "summary(lm(RELATEDNESS_PHI ~ dist_km, data = UnqRelatedness))"
   ]
  },
  {
   "cell_type": "code",
   "execution_count": 27,
   "id": "46dc29f8",
   "metadata": {},
   "outputs": [
    {
     "data": {
      "text/plain": [
       "\n",
       "Call:\n",
       "lm(formula = RELATEDNESS_PHI ~ dist_km, data = UnqRelatedness[INDV1 != \n",
       "    \"L4437\" & INDV2 != \"L4437\"])\n",
       "\n",
       "Residuals:\n",
       "      Min        1Q    Median        3Q       Max \n",
       "-0.246741 -0.027743  0.000111  0.025838  0.270433 \n",
       "\n",
       "Coefficients:\n",
       "              Estimate Std. Error t value Pr(>|t|)    \n",
       "(Intercept)  1.620e-01  6.481e-05  2499.2   <2e-16 ***\n",
       "dist_km     -7.046e-05  3.871e-06   -18.2   <2e-16 ***\n",
       "---\n",
       "Signif. codes:  0 ‘***’ 0.001 ‘**’ 0.01 ‘*’ 0.05 ‘.’ 0.1 ‘ ’ 1\n",
       "\n",
       "Residual standard error: 0.04589 on 1147916 degrees of freedom\n",
       "  (4520 observations deleted due to missingness)\n",
       "Multiple R-squared:  0.0002886,\tAdjusted R-squared:  0.0002877 \n",
       "F-statistic: 331.3 on 1 and 1147916 DF,  p-value: < 2.2e-16\n"
      ]
     },
     "metadata": {},
     "output_type": "display_data"
    }
   ],
   "source": [
    "summary(lm(RELATEDNESS_PHI ~ dist_km, data = UnqRelatedness[INDV1 != \"L4437\" & INDV2 != \"L4437\"]))"
   ]
  },
  {
   "cell_type": "code",
   "execution_count": 23,
   "id": "2ca52631",
   "metadata": {},
   "outputs": [
    {
     "data": {
      "text/html": [
       "<table>\n",
       "<thead><tr><th scope=col>INDV1</th><th scope=col>N</th></tr></thead>\n",
       "<tbody>\n",
       "\t<tr><td>L4437</td><td>23   </td></tr>\n",
       "</tbody>\n",
       "</table>\n"
      ],
      "text/latex": [
       "\\begin{tabular}{r|ll}\n",
       " INDV1 & N\\\\\n",
       "\\hline\n",
       "\t L4437 & 23   \\\\\n",
       "\\end{tabular}\n"
      ],
      "text/markdown": [
       "\n",
       "| INDV1 | N |\n",
       "|---|---|\n",
       "| L4437 | 23    |\n",
       "\n"
      ],
      "text/plain": [
       "  INDV1 N \n",
       "1 L4437 23"
      ]
     },
     "metadata": {},
     "output_type": "display_data"
    },
    {
     "data": {
      "text/html": [
       "<table>\n",
       "<thead><tr><th scope=col>INDV2</th><th scope=col>N</th></tr></thead>\n",
       "<tbody>\n",
       "\t<tr><td>L4437</td><td>281  </td></tr>\n",
       "</tbody>\n",
       "</table>\n"
      ],
      "text/latex": [
       "\\begin{tabular}{r|ll}\n",
       " INDV2 & N\\\\\n",
       "\\hline\n",
       "\t L4437 & 281  \\\\\n",
       "\\end{tabular}\n"
      ],
      "text/markdown": [
       "\n",
       "| INDV2 | N |\n",
       "|---|---|\n",
       "| L4437 | 281   |\n",
       "\n"
      ],
      "text/plain": [
       "  INDV2 N  \n",
       "1 L4437 281"
      ]
     },
     "metadata": {},
     "output_type": "display_data"
    }
   ],
   "source": [
    "#who are the really negative individuals?\n",
    "UnqRelatedness[phi < -0.4, .N, by=c(\"INDV1\")][N >1 ]\n",
    "UnqRelatedness[phi < -0.4, .N, by=c(\"INDV2\")][N >1 ]"
   ]
  },
  {
   "cell_type": "code",
   "execution_count": 25,
   "id": "95078d1c",
   "metadata": {},
   "outputs": [
    {
     "data": {
      "text/html": [
       "<table>\n",
       "<thead><tr><th scope=col>fish_indiv</th><th scope=col>size</th><th scope=col>color</th><th scope=col>sex</th><th scope=col>gen_id</th><th scope=col>ligation_id</th><th scope=col>sample_id</th><th scope=col>site</th><th scope=col>date</th><th scope=col>anem_obs_time</th><th scope=col>gps</th><th scope=col>ligation_year</th><th scope=col>time_date</th><th scope=col>year</th><th scope=col>month</th><th scope=col>day</th><th scope=col>hour</th><th scope=col>minute</th><th scope=col>lat</th><th scope=col>lon</th></tr></thead>\n",
       "<tbody>\n",
       "\t<tr><td>1956               </td><td>1.4                </td><td>BW                 </td><td>J                  </td><td>1956               </td><td>L4437              </td><td>APCL17_207         </td><td>Elementary School  </td><td>2017-05-23         </td><td>12:06:10           </td><td>5                  </td><td>2017               </td><td>2017-05-23 04:06:10</td><td>2017               </td><td>5                  </td><td>23                 </td><td>4                  </td><td>6                  </td><td>10.79952           </td><td>124.7683           </td></tr>\n",
       "</tbody>\n",
       "</table>\n"
      ],
      "text/latex": [
       "\\begin{tabular}{r|llllllllllllllllllll}\n",
       " fish\\_indiv & size & color & sex & gen\\_id & ligation\\_id & sample\\_id & site & date & anem\\_obs\\_time & gps & ligation\\_year & time\\_date & year & month & day & hour & minute & lat & lon\\\\\n",
       "\\hline\n",
       "\t 1956                & 1.4                 & BW                  & J                   & 1956                & L4437               & APCL17\\_207        & Elementary School   & 2017-05-23          & 12:06:10            & 5                   & 2017                & 2017-05-23 04:06:10 & 2017                & 5                   & 23                  & 4                   & 6                   & 10.79952            & 124.7683           \\\\\n",
       "\\end{tabular}\n"
      ],
      "text/markdown": [
       "\n",
       "| fish_indiv | size | color | sex | gen_id | ligation_id | sample_id | site | date | anem_obs_time | gps | ligation_year | time_date | year | month | day | hour | minute | lat | lon |\n",
       "|---|---|---|---|---|---|---|---|---|---|---|---|---|---|---|---|---|---|---|---|\n",
       "| 1956                | 1.4                 | BW                  | J                   | 1956                | L4437               | APCL17_207          | Elementary School   | 2017-05-23          | 12:06:10            | 5                   | 2017                | 2017-05-23 04:06:10 | 2017                | 5                   | 23                  | 4                   | 6                   | 10.79952            | 124.7683            |\n",
       "\n"
      ],
      "text/plain": [
       "  fish_indiv size color sex gen_id ligation_id sample_id  site             \n",
       "1 1956       1.4  BW    J   1956   L4437       APCL17_207 Elementary School\n",
       "  date       anem_obs_time gps ligation_year time_date           year month day\n",
       "1 2017-05-23 12:06:10      5   2017          2017-05-23 04:06:10 2017 5     23 \n",
       "  hour minute lat      lon     \n",
       "1 4    6      10.79952 124.7683"
      ]
     },
     "metadata": {},
     "output_type": "display_data"
    }
   ],
   "source": [
    "fish_meta[ligation_id ==\"L4437\"]"
   ]
  },
  {
   "cell_type": "code",
   "execution_count": null,
   "id": "989d2936",
   "metadata": {},
   "outputs": [],
   "source": []
  }
 ],
 "metadata": {
  "kernelspec": {
   "display_name": "R",
   "language": "R",
   "name": "ir"
  },
  "language_info": {
   "codemirror_mode": "r",
   "file_extension": ".r",
   "mimetype": "text/x-r-source",
   "name": "R",
   "pygments_lexer": "r",
   "version": "3.6.1"
  }
 },
 "nbformat": 4,
 "nbformat_minor": 5
}
